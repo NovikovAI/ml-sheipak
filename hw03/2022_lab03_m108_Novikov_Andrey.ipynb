{
 "cells": [
  {
   "cell_type": "markdown",
   "metadata": {
    "pycharm": {
     "name": "#%% md\n"
    }
   },
   "source": [
    "# Lab 03. Weather Predict Competition\n",
    "\n",
    "This lab consists of only one task: train a model to predict if it is going to rain the next day:\n",
    "- Classification metric is **roc-auc**\n",
    "- Score should be calculated on a hold-out set (don't use it for training)\n",
    "\n",
    "\n",
    "#### Evaluation\n",
    "- Score > 0.860 - 3 points\n",
    "- Score > 0.865 - 5 points\n",
    "- Score > 0.870 - 7 points\n",
    "- Score > 0.875 - 9 points\n",
    "- Score > 0.880 - 11 points\n",
    "- Score > 0.885 - 13 points\n",
    "- Score > 0.890 - 15 points\n",
    "- You are encouraged to use various methods and tricks to get extra points\n",
    "\n",
    "#### Do not use any external data or models that were not covered in the course (no gradient boosting and  neural nets).\n",
    "\n",
    "\n",
    "#### How to submit\n",
    "- Name your file according to this convention: `2022_lab03_GroupNumber_Surname_Name.ipynb`, for example \n",
    "    - `2022_lab03_404_Sheipak_Sviat.ipynb`\n",
    "    - `2022_lab03_NoGroup_Sheipak_Sviat.ipynb`\n",
    "- Attach your .ipynb to an email with topic `2022_lab02_GroupNumber_Surname_Name`\n",
    "- Send it to `cosmic.research.ml@yandex.ru`\n",
    "- Deadline is ` 22022-11-03 23:00:00 +03:00`\n",
    "\n",
    "#### The Data:\n",
    "- All the datasets you need are here: https://github.com/cosmic-research-ml-edu/intro_ml_2022/blob/main/homeworks/hw03/train.csv"
   ]
  },
  {
   "cell_type": "code",
   "execution_count": 1,
   "metadata": {
    "pycharm": {
     "name": "#%%\n"
    }
   },
   "outputs": [],
   "source": [
    "import pandas as pd\n",
    "import numpy as np"
   ]
  },
  {
   "cell_type": "code",
   "execution_count": 2,
   "metadata": {
    "pycharm": {
     "name": "#%%\n"
    }
   },
   "outputs": [],
   "source": [
    "db_train = pd.read_csv(\"holdout_data/train.csv\")\n",
    "db_test = pd.read_csv(\"holdout_data/holdout.csv\")"
   ]
  },
  {
   "cell_type": "code",
   "execution_count": 3,
   "metadata": {
    "pycharm": {
     "name": "#%%\n"
    }
   },
   "outputs": [],
   "source": [
    "from sklearn.tree import DecisionTreeClassifier\n",
    "from sklearn.ensemble import RandomForestClassifier\n",
    "\n",
    "from sklearn.model_selection import cross_val_score\n",
    "from sklearn.metrics import roc_auc_score"
   ]
  },
  {
   "cell_type": "code",
   "execution_count": 4,
   "metadata": {
    "pycharm": {
     "name": "#%%\n"
    }
   },
   "outputs": [],
   "source": [
    "target_col = \"raintomorrow\"\n",
    "id_cols = [\"row_id\"]"
   ]
  },
  {
   "cell_type": "code",
   "execution_count": 5,
   "metadata": {
    "pycharm": {
     "name": "#%%\n"
    }
   },
   "outputs": [],
   "source": [
    "Y_train = db_train[target_col].values\n",
    "db_train.drop(columns=[target_col], inplace=True)\n",
    "\n",
    "Y_test = db_test[target_col].values\n",
    "db_test.drop(columns=[target_col], inplace=True)"
   ]
  },
  {
   "cell_type": "code",
   "execution_count": 6,
   "metadata": {
    "pycharm": {
     "name": "#%%\n"
    }
   },
   "outputs": [],
   "source": [
    "numeric_cols = [x for x in db_train.select_dtypes(include=np.number).columns.tolist() if x not in id_cols]"
   ]
  },
  {
   "cell_type": "code",
   "execution_count": 7,
   "outputs": [
    {
     "data": {
      "text/plain": "['mintemp',\n 'maxtemp',\n 'rainfall',\n 'evaporation',\n 'sunshine',\n 'windgustspeed',\n 'windspeed9am',\n 'windspeed3pm',\n 'humidity9am',\n 'humidity3pm',\n 'pressure9am',\n 'pressure3pm',\n 'cloud9am',\n 'cloud3pm',\n 'temp9am',\n 'temp3pm']"
     },
     "execution_count": 7,
     "metadata": {},
     "output_type": "execute_result"
    }
   ],
   "source": [
    "numeric_cols"
   ],
   "metadata": {
    "collapsed": false,
    "pycharm": {
     "name": "#%%\n"
    }
   }
  },
  {
   "cell_type": "code",
   "execution_count": 8,
   "outputs": [
    {
     "data": {
      "text/plain": "             row_id  mintemp  maxtemp  rainfall  evaporation  sunshine  \\\n0  60284bd679027a1a     13.4     22.9       0.6          NaN       NaN   \n1  5af49400eeec47eb      7.4     25.1       0.0          NaN       NaN   \n2  367cbc10c57ff320     17.5     32.3       1.0          NaN       NaN   \n3  f9841359d0350bc8     14.6     29.7       0.2          NaN       NaN   \n4  5f4d2848f7ee131a      7.7     26.7       0.0          NaN       NaN   \n\n  windgustdir  windgustspeed winddir9am winddir3pm  ...  windspeed3pm  \\\n0           W           44.0          W        WNW  ...          24.0   \n1         WNW           44.0        NNW        WSW  ...          22.0   \n2           W           41.0        ENE         NW  ...          20.0   \n3         WNW           56.0          W          W  ...          24.0   \n4           W           35.0        SSE          W  ...          17.0   \n\n   humidity9am  humidity3pm  pressure9am  pressure3pm  cloud9am  cloud3pm  \\\n0         71.0         22.0       1007.7       1007.1       8.0       NaN   \n1         44.0         25.0       1010.6       1007.8       NaN       NaN   \n2         82.0         33.0       1010.8       1006.0       7.0       8.0   \n3         55.0         23.0       1009.2       1005.4       NaN       NaN   \n4         48.0         19.0       1013.4       1010.1       NaN       NaN   \n\n   temp9am  temp3pm  raintoday  \n0     16.9     21.8         No  \n1     17.2     24.3         No  \n2     17.8     29.7         No  \n3     20.6     28.9         No  \n4     16.3     25.5         No  \n\n[5 rows x 21 columns]",
      "text/html": "<div>\n<style scoped>\n    .dataframe tbody tr th:only-of-type {\n        vertical-align: middle;\n    }\n\n    .dataframe tbody tr th {\n        vertical-align: top;\n    }\n\n    .dataframe thead th {\n        text-align: right;\n    }\n</style>\n<table border=\"1\" class=\"dataframe\">\n  <thead>\n    <tr style=\"text-align: right;\">\n      <th></th>\n      <th>row_id</th>\n      <th>mintemp</th>\n      <th>maxtemp</th>\n      <th>rainfall</th>\n      <th>evaporation</th>\n      <th>sunshine</th>\n      <th>windgustdir</th>\n      <th>windgustspeed</th>\n      <th>winddir9am</th>\n      <th>winddir3pm</th>\n      <th>...</th>\n      <th>windspeed3pm</th>\n      <th>humidity9am</th>\n      <th>humidity3pm</th>\n      <th>pressure9am</th>\n      <th>pressure3pm</th>\n      <th>cloud9am</th>\n      <th>cloud3pm</th>\n      <th>temp9am</th>\n      <th>temp3pm</th>\n      <th>raintoday</th>\n    </tr>\n  </thead>\n  <tbody>\n    <tr>\n      <th>0</th>\n      <td>60284bd679027a1a</td>\n      <td>13.4</td>\n      <td>22.9</td>\n      <td>0.6</td>\n      <td>NaN</td>\n      <td>NaN</td>\n      <td>W</td>\n      <td>44.0</td>\n      <td>W</td>\n      <td>WNW</td>\n      <td>...</td>\n      <td>24.0</td>\n      <td>71.0</td>\n      <td>22.0</td>\n      <td>1007.7</td>\n      <td>1007.1</td>\n      <td>8.0</td>\n      <td>NaN</td>\n      <td>16.9</td>\n      <td>21.8</td>\n      <td>No</td>\n    </tr>\n    <tr>\n      <th>1</th>\n      <td>5af49400eeec47eb</td>\n      <td>7.4</td>\n      <td>25.1</td>\n      <td>0.0</td>\n      <td>NaN</td>\n      <td>NaN</td>\n      <td>WNW</td>\n      <td>44.0</td>\n      <td>NNW</td>\n      <td>WSW</td>\n      <td>...</td>\n      <td>22.0</td>\n      <td>44.0</td>\n      <td>25.0</td>\n      <td>1010.6</td>\n      <td>1007.8</td>\n      <td>NaN</td>\n      <td>NaN</td>\n      <td>17.2</td>\n      <td>24.3</td>\n      <td>No</td>\n    </tr>\n    <tr>\n      <th>2</th>\n      <td>367cbc10c57ff320</td>\n      <td>17.5</td>\n      <td>32.3</td>\n      <td>1.0</td>\n      <td>NaN</td>\n      <td>NaN</td>\n      <td>W</td>\n      <td>41.0</td>\n      <td>ENE</td>\n      <td>NW</td>\n      <td>...</td>\n      <td>20.0</td>\n      <td>82.0</td>\n      <td>33.0</td>\n      <td>1010.8</td>\n      <td>1006.0</td>\n      <td>7.0</td>\n      <td>8.0</td>\n      <td>17.8</td>\n      <td>29.7</td>\n      <td>No</td>\n    </tr>\n    <tr>\n      <th>3</th>\n      <td>f9841359d0350bc8</td>\n      <td>14.6</td>\n      <td>29.7</td>\n      <td>0.2</td>\n      <td>NaN</td>\n      <td>NaN</td>\n      <td>WNW</td>\n      <td>56.0</td>\n      <td>W</td>\n      <td>W</td>\n      <td>...</td>\n      <td>24.0</td>\n      <td>55.0</td>\n      <td>23.0</td>\n      <td>1009.2</td>\n      <td>1005.4</td>\n      <td>NaN</td>\n      <td>NaN</td>\n      <td>20.6</td>\n      <td>28.9</td>\n      <td>No</td>\n    </tr>\n    <tr>\n      <th>4</th>\n      <td>5f4d2848f7ee131a</td>\n      <td>7.7</td>\n      <td>26.7</td>\n      <td>0.0</td>\n      <td>NaN</td>\n      <td>NaN</td>\n      <td>W</td>\n      <td>35.0</td>\n      <td>SSE</td>\n      <td>W</td>\n      <td>...</td>\n      <td>17.0</td>\n      <td>48.0</td>\n      <td>19.0</td>\n      <td>1013.4</td>\n      <td>1010.1</td>\n      <td>NaN</td>\n      <td>NaN</td>\n      <td>16.3</td>\n      <td>25.5</td>\n      <td>No</td>\n    </tr>\n  </tbody>\n</table>\n<p>5 rows × 21 columns</p>\n</div>"
     },
     "execution_count": 8,
     "metadata": {},
     "output_type": "execute_result"
    }
   ],
   "source": [
    "db_train.head()"
   ],
   "metadata": {
    "collapsed": false,
    "pycharm": {
     "name": "#%%\n"
    }
   }
  },
  {
   "cell_type": "code",
   "execution_count": 131,
   "outputs": [],
   "source": [
    "db_train2 = db_train.copy()"
   ],
   "metadata": {
    "collapsed": false,
    "pycharm": {
     "name": "#%%\n"
    }
   }
  },
  {
   "cell_type": "code",
   "execution_count": 132,
   "outputs": [],
   "source": [
    "wind_dir = ['E', 'ENE', 'NE', 'NNE', 'N', 'NNW', 'NW', 'WNW', 'W', 'WSW', 'SW', 'SSW', 'S', 'SSE', 'SE', 'ESE']\n",
    "\n",
    "\n",
    "def find_dir(arr, dir1, dir2):\n",
    "    ans = 0\n",
    "    try:\n",
    "        start = arr.index(dir1)\n",
    "    except ValueError:\n",
    "        ans = None\n",
    "        return ans\n",
    "    if dir2 not in arr:\n",
    "        ans = None\n",
    "        return ans\n",
    "    for i in range(1, len(arr)):\n",
    "        # print(arr[start-i], arr[start+i])\n",
    "        left_i = start-i\n",
    "        right_i = start+i\n",
    "        if right_i < len(arr):\n",
    "            if arr[right_i]==dir2:\n",
    "                ans = i\n",
    "                break\n",
    "        if left_i >= -len(arr):\n",
    "            if arr[left_i]==dir2:\n",
    "                ans = i\n",
    "                break\n",
    "    return ans"
   ],
   "metadata": {
    "collapsed": false,
    "pycharm": {
     "name": "#%%\n"
    }
   }
  },
  {
   "cell_type": "code",
   "execution_count": 133,
   "outputs": [],
   "source": [
    "# db_train['winddirdif'] = db_train['winddir3pm'].astype('float64') - db_train['winddir9am'].astype('float64')\n",
    "db_train2['windspeeddif'] = db_train2['windspeed9am'].astype('float64') - db_train2['windspeed3pm'].astype('float64')\n",
    "# db_train2['humiditydif'] = db_train2['humidity9am'].astype('float64') - db_train2['humidity3pm'].astype('float64')\n",
    "db_train2['pressuredif'] = db_train2['pressure9am'].astype('float64') - db_train2['pressure3pm'].astype('float64')\n",
    "# db_train2['tempdif'] = db_train2['temp9am'].astype('float64') - db_train2['temp3pm'].astype('float64')\n",
    "# db_train2['maxmintempdif'] = db_train2['maxtemp'].astype('float64') - db_train2['mintemp'].astype('float64')\n",
    "db_train2['winddirdif'] = [find_dir(wind_dir, x, y) for x,y in zip(db_train2['winddir9am'], db_train2['winddir3pm'])]\n",
    "db_train2['windgustdir'] = [wind_dir.index(x) if pd.notna(x) else None for x in db_train2['windgustdir']]"
   ],
   "metadata": {
    "collapsed": false,
    "pycharm": {
     "name": "#%%\n"
    }
   }
  },
  {
   "cell_type": "code",
   "execution_count": 134,
   "outputs": [
    {
     "data": {
      "text/plain": "             row_id  mintemp  maxtemp  rainfall  evaporation  sunshine  \\\n0  60284bd679027a1a     13.4     22.9       0.6          NaN       NaN   \n1  5af49400eeec47eb      7.4     25.1       0.0          NaN       NaN   \n2  367cbc10c57ff320     17.5     32.3       1.0          NaN       NaN   \n3  f9841359d0350bc8     14.6     29.7       0.2          NaN       NaN   \n4  5f4d2848f7ee131a      7.7     26.7       0.0          NaN       NaN   \n\n   windgustdir  windgustspeed winddir9am winddir3pm  ...  pressure9am  \\\n0          8.0           44.0          W        WNW  ...       1007.7   \n1          7.0           44.0        NNW        WSW  ...       1010.6   \n2          8.0           41.0        ENE         NW  ...       1010.8   \n3          7.0           56.0          W          W  ...       1009.2   \n4          8.0           35.0        SSE          W  ...       1013.4   \n\n   pressure3pm  cloud9am  cloud3pm  temp9am  temp3pm  raintoday  windspeeddif  \\\n0       1007.1       8.0       NaN     16.9     21.8         No          -4.0   \n1       1007.8       NaN       NaN     17.2     24.3         No         -18.0   \n2       1006.0       7.0       8.0     17.8     29.7         No         -13.0   \n3       1005.4       NaN       NaN     20.6     28.9         No          -5.0   \n4       1010.1       NaN       NaN     16.3     25.5         No         -11.0   \n\n   pressuredif  winddirdif  \n0          0.6         1.0  \n1          2.8         4.0  \n2          4.8         5.0  \n3          3.8         0.0  \n4          3.3         5.0  \n\n[5 rows x 24 columns]",
      "text/html": "<div>\n<style scoped>\n    .dataframe tbody tr th:only-of-type {\n        vertical-align: middle;\n    }\n\n    .dataframe tbody tr th {\n        vertical-align: top;\n    }\n\n    .dataframe thead th {\n        text-align: right;\n    }\n</style>\n<table border=\"1\" class=\"dataframe\">\n  <thead>\n    <tr style=\"text-align: right;\">\n      <th></th>\n      <th>row_id</th>\n      <th>mintemp</th>\n      <th>maxtemp</th>\n      <th>rainfall</th>\n      <th>evaporation</th>\n      <th>sunshine</th>\n      <th>windgustdir</th>\n      <th>windgustspeed</th>\n      <th>winddir9am</th>\n      <th>winddir3pm</th>\n      <th>...</th>\n      <th>pressure9am</th>\n      <th>pressure3pm</th>\n      <th>cloud9am</th>\n      <th>cloud3pm</th>\n      <th>temp9am</th>\n      <th>temp3pm</th>\n      <th>raintoday</th>\n      <th>windspeeddif</th>\n      <th>pressuredif</th>\n      <th>winddirdif</th>\n    </tr>\n  </thead>\n  <tbody>\n    <tr>\n      <th>0</th>\n      <td>60284bd679027a1a</td>\n      <td>13.4</td>\n      <td>22.9</td>\n      <td>0.6</td>\n      <td>NaN</td>\n      <td>NaN</td>\n      <td>8.0</td>\n      <td>44.0</td>\n      <td>W</td>\n      <td>WNW</td>\n      <td>...</td>\n      <td>1007.7</td>\n      <td>1007.1</td>\n      <td>8.0</td>\n      <td>NaN</td>\n      <td>16.9</td>\n      <td>21.8</td>\n      <td>No</td>\n      <td>-4.0</td>\n      <td>0.6</td>\n      <td>1.0</td>\n    </tr>\n    <tr>\n      <th>1</th>\n      <td>5af49400eeec47eb</td>\n      <td>7.4</td>\n      <td>25.1</td>\n      <td>0.0</td>\n      <td>NaN</td>\n      <td>NaN</td>\n      <td>7.0</td>\n      <td>44.0</td>\n      <td>NNW</td>\n      <td>WSW</td>\n      <td>...</td>\n      <td>1010.6</td>\n      <td>1007.8</td>\n      <td>NaN</td>\n      <td>NaN</td>\n      <td>17.2</td>\n      <td>24.3</td>\n      <td>No</td>\n      <td>-18.0</td>\n      <td>2.8</td>\n      <td>4.0</td>\n    </tr>\n    <tr>\n      <th>2</th>\n      <td>367cbc10c57ff320</td>\n      <td>17.5</td>\n      <td>32.3</td>\n      <td>1.0</td>\n      <td>NaN</td>\n      <td>NaN</td>\n      <td>8.0</td>\n      <td>41.0</td>\n      <td>ENE</td>\n      <td>NW</td>\n      <td>...</td>\n      <td>1010.8</td>\n      <td>1006.0</td>\n      <td>7.0</td>\n      <td>8.0</td>\n      <td>17.8</td>\n      <td>29.7</td>\n      <td>No</td>\n      <td>-13.0</td>\n      <td>4.8</td>\n      <td>5.0</td>\n    </tr>\n    <tr>\n      <th>3</th>\n      <td>f9841359d0350bc8</td>\n      <td>14.6</td>\n      <td>29.7</td>\n      <td>0.2</td>\n      <td>NaN</td>\n      <td>NaN</td>\n      <td>7.0</td>\n      <td>56.0</td>\n      <td>W</td>\n      <td>W</td>\n      <td>...</td>\n      <td>1009.2</td>\n      <td>1005.4</td>\n      <td>NaN</td>\n      <td>NaN</td>\n      <td>20.6</td>\n      <td>28.9</td>\n      <td>No</td>\n      <td>-5.0</td>\n      <td>3.8</td>\n      <td>0.0</td>\n    </tr>\n    <tr>\n      <th>4</th>\n      <td>5f4d2848f7ee131a</td>\n      <td>7.7</td>\n      <td>26.7</td>\n      <td>0.0</td>\n      <td>NaN</td>\n      <td>NaN</td>\n      <td>8.0</td>\n      <td>35.0</td>\n      <td>SSE</td>\n      <td>W</td>\n      <td>...</td>\n      <td>1013.4</td>\n      <td>1010.1</td>\n      <td>NaN</td>\n      <td>NaN</td>\n      <td>16.3</td>\n      <td>25.5</td>\n      <td>No</td>\n      <td>-11.0</td>\n      <td>3.3</td>\n      <td>5.0</td>\n    </tr>\n  </tbody>\n</table>\n<p>5 rows × 24 columns</p>\n</div>"
     },
     "execution_count": 134,
     "metadata": {},
     "output_type": "execute_result"
    }
   ],
   "source": [
    "db_train2.head()"
   ],
   "metadata": {
    "collapsed": false,
    "pycharm": {
     "name": "#%%\n"
    }
   }
  },
  {
   "cell_type": "code",
   "execution_count": 137,
   "outputs": [
    {
     "data": {
      "text/plain": "             row_id  mintemp  maxtemp  rainfall  evaporation  sunshine  \\\n0  60284bd679027a1a     13.4     22.9       0.6          NaN       NaN   \n1  5af49400eeec47eb      7.4     25.1       0.0          NaN       NaN   \n2  367cbc10c57ff320     17.5     32.3       1.0          NaN       NaN   \n3  f9841359d0350bc8     14.6     29.7       0.2          NaN       NaN   \n4  5f4d2848f7ee131a      7.7     26.7       0.0          NaN       NaN   \n\n   windgustdir  windgustspeed winddir9am winddir3pm  ...  pressure9am  \\\n0          8.0           44.0          W        WNW  ...       1007.7   \n1          7.0           44.0        NNW        WSW  ...       1010.6   \n2          8.0           41.0        ENE         NW  ...       1010.8   \n3          7.0           56.0          W          W  ...       1009.2   \n4          8.0           35.0        SSE          W  ...       1013.4   \n\n   pressure3pm  cloud9am  cloud3pm  temp9am  temp3pm  raintoday  windspeeddif  \\\n0       1007.1       8.0       NaN     16.9     21.8          0          -4.0   \n1       1007.8       NaN       NaN     17.2     24.3          0         -18.0   \n2       1006.0       7.0       8.0     17.8     29.7          0         -13.0   \n3       1005.4       NaN       NaN     20.6     28.9          0          -5.0   \n4       1010.1       NaN       NaN     16.3     25.5          0         -11.0   \n\n   pressuredif  winddirdif  \n0          0.6         1.0  \n1          2.8         4.0  \n2          4.8         5.0  \n3          3.8         0.0  \n4          3.3         5.0  \n\n[5 rows x 24 columns]",
      "text/html": "<div>\n<style scoped>\n    .dataframe tbody tr th:only-of-type {\n        vertical-align: middle;\n    }\n\n    .dataframe tbody tr th {\n        vertical-align: top;\n    }\n\n    .dataframe thead th {\n        text-align: right;\n    }\n</style>\n<table border=\"1\" class=\"dataframe\">\n  <thead>\n    <tr style=\"text-align: right;\">\n      <th></th>\n      <th>row_id</th>\n      <th>mintemp</th>\n      <th>maxtemp</th>\n      <th>rainfall</th>\n      <th>evaporation</th>\n      <th>sunshine</th>\n      <th>windgustdir</th>\n      <th>windgustspeed</th>\n      <th>winddir9am</th>\n      <th>winddir3pm</th>\n      <th>...</th>\n      <th>pressure9am</th>\n      <th>pressure3pm</th>\n      <th>cloud9am</th>\n      <th>cloud3pm</th>\n      <th>temp9am</th>\n      <th>temp3pm</th>\n      <th>raintoday</th>\n      <th>windspeeddif</th>\n      <th>pressuredif</th>\n      <th>winddirdif</th>\n    </tr>\n  </thead>\n  <tbody>\n    <tr>\n      <th>0</th>\n      <td>60284bd679027a1a</td>\n      <td>13.4</td>\n      <td>22.9</td>\n      <td>0.6</td>\n      <td>NaN</td>\n      <td>NaN</td>\n      <td>8.0</td>\n      <td>44.0</td>\n      <td>W</td>\n      <td>WNW</td>\n      <td>...</td>\n      <td>1007.7</td>\n      <td>1007.1</td>\n      <td>8.0</td>\n      <td>NaN</td>\n      <td>16.9</td>\n      <td>21.8</td>\n      <td>0</td>\n      <td>-4.0</td>\n      <td>0.6</td>\n      <td>1.0</td>\n    </tr>\n    <tr>\n      <th>1</th>\n      <td>5af49400eeec47eb</td>\n      <td>7.4</td>\n      <td>25.1</td>\n      <td>0.0</td>\n      <td>NaN</td>\n      <td>NaN</td>\n      <td>7.0</td>\n      <td>44.0</td>\n      <td>NNW</td>\n      <td>WSW</td>\n      <td>...</td>\n      <td>1010.6</td>\n      <td>1007.8</td>\n      <td>NaN</td>\n      <td>NaN</td>\n      <td>17.2</td>\n      <td>24.3</td>\n      <td>0</td>\n      <td>-18.0</td>\n      <td>2.8</td>\n      <td>4.0</td>\n    </tr>\n    <tr>\n      <th>2</th>\n      <td>367cbc10c57ff320</td>\n      <td>17.5</td>\n      <td>32.3</td>\n      <td>1.0</td>\n      <td>NaN</td>\n      <td>NaN</td>\n      <td>8.0</td>\n      <td>41.0</td>\n      <td>ENE</td>\n      <td>NW</td>\n      <td>...</td>\n      <td>1010.8</td>\n      <td>1006.0</td>\n      <td>7.0</td>\n      <td>8.0</td>\n      <td>17.8</td>\n      <td>29.7</td>\n      <td>0</td>\n      <td>-13.0</td>\n      <td>4.8</td>\n      <td>5.0</td>\n    </tr>\n    <tr>\n      <th>3</th>\n      <td>f9841359d0350bc8</td>\n      <td>14.6</td>\n      <td>29.7</td>\n      <td>0.2</td>\n      <td>NaN</td>\n      <td>NaN</td>\n      <td>7.0</td>\n      <td>56.0</td>\n      <td>W</td>\n      <td>W</td>\n      <td>...</td>\n      <td>1009.2</td>\n      <td>1005.4</td>\n      <td>NaN</td>\n      <td>NaN</td>\n      <td>20.6</td>\n      <td>28.9</td>\n      <td>0</td>\n      <td>-5.0</td>\n      <td>3.8</td>\n      <td>0.0</td>\n    </tr>\n    <tr>\n      <th>4</th>\n      <td>5f4d2848f7ee131a</td>\n      <td>7.7</td>\n      <td>26.7</td>\n      <td>0.0</td>\n      <td>NaN</td>\n      <td>NaN</td>\n      <td>8.0</td>\n      <td>35.0</td>\n      <td>SSE</td>\n      <td>W</td>\n      <td>...</td>\n      <td>1013.4</td>\n      <td>1010.1</td>\n      <td>NaN</td>\n      <td>NaN</td>\n      <td>16.3</td>\n      <td>25.5</td>\n      <td>0</td>\n      <td>-11.0</td>\n      <td>3.3</td>\n      <td>5.0</td>\n    </tr>\n  </tbody>\n</table>\n<p>5 rows × 24 columns</p>\n</div>"
     },
     "execution_count": 137,
     "metadata": {},
     "output_type": "execute_result"
    }
   ],
   "source": [
    "#drop_list = ['windgustdir']\n",
    "#db_train2.drop(columns=drop_list, inplace=True)\n",
    "db_train2['raintoday'] = [1 if x == 'Yes' else 0 for x in db_train2['raintoday']]\n",
    "db_train2.head()"
   ],
   "metadata": {
    "collapsed": false,
    "pycharm": {
     "name": "#%%\n"
    }
   }
  },
  {
   "cell_type": "code",
   "execution_count": 138,
   "outputs": [
    {
     "data": {
      "text/plain": "['mintemp',\n 'maxtemp',\n 'rainfall',\n 'evaporation',\n 'sunshine',\n 'windgustdir',\n 'windgustspeed',\n 'windspeed9am',\n 'windspeed3pm',\n 'humidity9am',\n 'humidity3pm',\n 'pressure9am',\n 'pressure3pm',\n 'cloud9am',\n 'cloud3pm',\n 'temp9am',\n 'temp3pm',\n 'raintoday',\n 'windspeeddif',\n 'pressuredif',\n 'winddirdif']"
     },
     "execution_count": 138,
     "metadata": {},
     "output_type": "execute_result"
    }
   ],
   "source": [
    "numeric_cols2 = [x for x in db_train2.select_dtypes(include=np.number).columns.tolist() if x not in id_cols]\n",
    "numeric_cols2"
   ],
   "metadata": {
    "collapsed": false,
    "pycharm": {
     "name": "#%%\n"
    }
   }
  },
  {
   "cell_type": "code",
   "execution_count": 139,
   "outputs": [],
   "source": [
    "db_test2 = db_test.copy()"
   ],
   "metadata": {
    "collapsed": false,
    "pycharm": {
     "name": "#%%\n"
    }
   }
  },
  {
   "cell_type": "code",
   "execution_count": 140,
   "outputs": [
    {
     "data": {
      "text/plain": "             row_id  mintemp  maxtemp  rainfall  evaporation  sunshine  \\\n0  fb4157edd320e344     10.7     12.4       0.4          NaN       NaN   \n1  872bf995fecb912e      5.6     18.1       2.6          NaN       NaN   \n2  568ae84628a4386e      5.1     17.5       0.0          NaN       NaN   \n3  5511c87e12132b3b     10.0     27.8       0.0          NaN       NaN   \n4  f12cb40d27a45c13      6.4     15.8       0.0          NaN       NaN   \n\n   windgustdir  windgustspeed winddir9am winddir3pm  ...  pressure9am  \\\n0         10.0           17.0        NaN        WNW  ...       1028.2   \n1          9.0           31.0         NW         SW  ...       1027.0   \n2          1.0           39.0        ENE          E  ...       1026.9   \n3          6.0           76.0          N          W  ...       1010.1   \n4          8.0           54.0        WSW          W  ...       1011.0   \n\n   pressure3pm  cloud9am  cloud3pm  temp9am  temp3pm  raintoday  windspeeddif  \\\n0       1025.8       NaN       NaN     11.1     11.6          0          -6.0   \n1       1024.9       NaN       NaN     10.8     17.3          1         -15.0   \n2       1022.8       NaN       NaN     10.0     16.8          0           0.0   \n3       1003.3       NaN       NaN     16.6     21.8          0         -25.0   \n4       1010.1       NaN       NaN     11.3     14.7          0         -13.0   \n\n   pressuredif  winddirdif  \n0          2.4         NaN  \n1          2.1         4.0  \n2          4.1         1.0  \n3          6.8         4.0  \n4          0.9         1.0  \n\n[5 rows x 24 columns]",
      "text/html": "<div>\n<style scoped>\n    .dataframe tbody tr th:only-of-type {\n        vertical-align: middle;\n    }\n\n    .dataframe tbody tr th {\n        vertical-align: top;\n    }\n\n    .dataframe thead th {\n        text-align: right;\n    }\n</style>\n<table border=\"1\" class=\"dataframe\">\n  <thead>\n    <tr style=\"text-align: right;\">\n      <th></th>\n      <th>row_id</th>\n      <th>mintemp</th>\n      <th>maxtemp</th>\n      <th>rainfall</th>\n      <th>evaporation</th>\n      <th>sunshine</th>\n      <th>windgustdir</th>\n      <th>windgustspeed</th>\n      <th>winddir9am</th>\n      <th>winddir3pm</th>\n      <th>...</th>\n      <th>pressure9am</th>\n      <th>pressure3pm</th>\n      <th>cloud9am</th>\n      <th>cloud3pm</th>\n      <th>temp9am</th>\n      <th>temp3pm</th>\n      <th>raintoday</th>\n      <th>windspeeddif</th>\n      <th>pressuredif</th>\n      <th>winddirdif</th>\n    </tr>\n  </thead>\n  <tbody>\n    <tr>\n      <th>0</th>\n      <td>fb4157edd320e344</td>\n      <td>10.7</td>\n      <td>12.4</td>\n      <td>0.4</td>\n      <td>NaN</td>\n      <td>NaN</td>\n      <td>10.0</td>\n      <td>17.0</td>\n      <td>NaN</td>\n      <td>WNW</td>\n      <td>...</td>\n      <td>1028.2</td>\n      <td>1025.8</td>\n      <td>NaN</td>\n      <td>NaN</td>\n      <td>11.1</td>\n      <td>11.6</td>\n      <td>0</td>\n      <td>-6.0</td>\n      <td>2.4</td>\n      <td>NaN</td>\n    </tr>\n    <tr>\n      <th>1</th>\n      <td>872bf995fecb912e</td>\n      <td>5.6</td>\n      <td>18.1</td>\n      <td>2.6</td>\n      <td>NaN</td>\n      <td>NaN</td>\n      <td>9.0</td>\n      <td>31.0</td>\n      <td>NW</td>\n      <td>SW</td>\n      <td>...</td>\n      <td>1027.0</td>\n      <td>1024.9</td>\n      <td>NaN</td>\n      <td>NaN</td>\n      <td>10.8</td>\n      <td>17.3</td>\n      <td>1</td>\n      <td>-15.0</td>\n      <td>2.1</td>\n      <td>4.0</td>\n    </tr>\n    <tr>\n      <th>2</th>\n      <td>568ae84628a4386e</td>\n      <td>5.1</td>\n      <td>17.5</td>\n      <td>0.0</td>\n      <td>NaN</td>\n      <td>NaN</td>\n      <td>1.0</td>\n      <td>39.0</td>\n      <td>ENE</td>\n      <td>E</td>\n      <td>...</td>\n      <td>1026.9</td>\n      <td>1022.8</td>\n      <td>NaN</td>\n      <td>NaN</td>\n      <td>10.0</td>\n      <td>16.8</td>\n      <td>0</td>\n      <td>0.0</td>\n      <td>4.1</td>\n      <td>1.0</td>\n    </tr>\n    <tr>\n      <th>3</th>\n      <td>5511c87e12132b3b</td>\n      <td>10.0</td>\n      <td>27.8</td>\n      <td>0.0</td>\n      <td>NaN</td>\n      <td>NaN</td>\n      <td>6.0</td>\n      <td>76.0</td>\n      <td>N</td>\n      <td>W</td>\n      <td>...</td>\n      <td>1010.1</td>\n      <td>1003.3</td>\n      <td>NaN</td>\n      <td>NaN</td>\n      <td>16.6</td>\n      <td>21.8</td>\n      <td>0</td>\n      <td>-25.0</td>\n      <td>6.8</td>\n      <td>4.0</td>\n    </tr>\n    <tr>\n      <th>4</th>\n      <td>f12cb40d27a45c13</td>\n      <td>6.4</td>\n      <td>15.8</td>\n      <td>0.0</td>\n      <td>NaN</td>\n      <td>NaN</td>\n      <td>8.0</td>\n      <td>54.0</td>\n      <td>WSW</td>\n      <td>W</td>\n      <td>...</td>\n      <td>1011.0</td>\n      <td>1010.1</td>\n      <td>NaN</td>\n      <td>NaN</td>\n      <td>11.3</td>\n      <td>14.7</td>\n      <td>0</td>\n      <td>-13.0</td>\n      <td>0.9</td>\n      <td>1.0</td>\n    </tr>\n  </tbody>\n</table>\n<p>5 rows × 24 columns</p>\n</div>"
     },
     "execution_count": 140,
     "metadata": {},
     "output_type": "execute_result"
    }
   ],
   "source": [
    "db_test2['windspeeddif'] = db_test2['windspeed9am'].astype('float64') - db_test2['windspeed3pm'].astype('float64')\n",
    "# db_test2['humiditydif'] = db_test2['humidity9am'].astype('float64') - db_test2['humidity3pm'].astype('float64')\n",
    "db_test2['pressuredif'] = db_test2['pressure9am'].astype('float64') - db_test2['pressure3pm'].astype('float64')\n",
    "# db_test2['tempdif'] = db_test2['temp9am'].astype('float64') - db_test2['temp3pm'].astype('float64')\n",
    "# db_test2['maxmintempdif'] = db_test2['maxtemp'].astype('float64') - db_test2['mintemp'].astype('float64')\n",
    "db_test2['winddirdif'] = [find_dir(wind_dir, x, y) for x,y in zip(db_test2['winddir9am'], db_test2['winddir3pm'])]\n",
    "db_test2['windgustdir'] = [wind_dir.index(x) if pd.notna(x) else None for x in db_test2['windgustdir']]\n",
    "# db_test2.drop(columns=drop_list, inplace=True)\n",
    "db_test2['raintoday'] = [1 if x == 'Yes' else 0 for x in db_test2['raintoday']]\n",
    "db_test2.head()"
   ],
   "metadata": {
    "collapsed": false,
    "pycharm": {
     "name": "#%%\n"
    }
   }
  },
  {
   "cell_type": "code",
   "execution_count": 141,
   "metadata": {
    "pycharm": {
     "name": "#%%\n"
    }
   },
   "outputs": [],
   "source": [
    "X_train = db_train2[numeric_cols2].fillna(-9999).values\n",
    "X_test = db_test2[numeric_cols2].fillna(-9999).values"
   ]
  },
  {
   "cell_type": "code",
   "execution_count": 144,
   "metadata": {
    "pycharm": {
     "name": "#%%\n"
    }
   },
   "outputs": [
    {
     "data": {
      "text/plain": "0.8692190828593375"
     },
     "execution_count": 144,
     "metadata": {},
     "output_type": "execute_result"
    }
   ],
   "source": [
    "clf = RandomForestClassifier(n_estimators=1000, criterion='entropy', random_state=42)\n",
    "\n",
    "clf.fit(X_train, Y_train)\n",
    "preds = clf.predict_proba(X_test)[:, 1]\n",
    "roc_auc_score(Y_test, preds)\n",
    "# 0.8590878798154512\n",
    "\n",
    "# 0.861863336258164 with a lot of features                                          GOOD\n",
    "# 0.862092605696118 + without maxmintempdif                                         GOOD\n",
    "# 0.8629833524953056 + without tempdif                                              GOOD\n",
    "# 0.8600982535791015 + without humiditydif, pressuredif                             BAD\n",
    "# 0.8623302739666973 + with humiditydif, pressuredif but without windspeeddif       GOOD\n",
    "\n",
    "#=========so that means that windspeeddif is important=========\n",
    "\n",
    "# 0.8591545934897975 + with windspeeddif, humiditydif but without pressuredif       BAD\n",
    "# 0.8638280056244203 + with windspeeddif, pressuredif but without humiditydif       GOOD\n",
    "# 0.8629439688672613 + previous with tempdif                                        BAD\n",
    "# 0.8635903051250129 + inverted timestamps                                          GOOD\n",
    "# 0.8647268934256078 + previous without tempdif                                     GOOD\n",
    "# 0.8647007042798234 + previous without windspeeddif                                BAD\n",
    "\n",
    "# 0.8679150593505474 + criterion='entropy' or criterion='log_loss'                  GOOD\n",
    "# 0.8675162018186754 + previous with humiditydif with inverted timestamps           BAD\n",
    "\n",
    "#=====pressuredif good; tempdif, humiditydif bad; criterion is not gini======\n",
    "# gotta try doing something with winddir\n",
    "# 0.8681020896862799 + with winddirdif and n_estimators=500                         GOOD\n",
    "# 0.8686126910112406 + with winddirdif and n_estimators=1000                        GOOD\n",
    "# 0.8692190828593375 + previous with windgustdir and n_estimators=1000              GOOD"
   ]
  },
  {
   "cell_type": "code",
   "execution_count": 18,
   "outputs": [
    {
     "data": {
      "text/plain": "0.8601734950013861"
     },
     "execution_count": 18,
     "metadata": {},
     "output_type": "execute_result"
    }
   ],
   "source": [
    "# -------------------------------------THIS CODE BLOCK IS IRRELEVANT-----------------------------------------------------\n",
    "\n",
    "# Best estimator RandomForestClassifier(n_estimators=300, random_state=42) with score 0.83795; roc_auc_score 0.8595294792192641\n",
    "# Best estimator RandomForestClassifier(n_estimators=500, random_state=42) with score 0.83875; roc_auc_score 0.8601734950013861\n",
    "# Best estimator RandomForestClassifier(n_estimators=700, random_state=42) with score 0.83909; roc_auc_score 0.8602839303040504\n",
    "clf = RandomForestClassifier(n_estimators=500, random_state=42)\n",
    "\n",
    "clf.fit(X_train, Y_train)\n",
    "preds = clf.predict_proba(X_test)[:, 1]\n",
    "roc_auc_score(Y_test, preds)"
   ],
   "metadata": {
    "collapsed": false,
    "pycharm": {
     "name": "#%%\n"
    }
   }
  },
  {
   "cell_type": "code",
   "execution_count": null,
   "outputs": [],
   "source": [],
   "metadata": {
    "collapsed": false,
    "pycharm": {
     "name": "#%%\n"
    }
   }
  }
 ],
 "metadata": {
  "kernelspec": {
   "display_name": "Python 3",
   "language": "python",
   "name": "python3"
  },
  "language_info": {
   "codemirror_mode": {
    "name": "ipython",
    "version": 3
   },
   "file_extension": ".py",
   "mimetype": "text/x-python",
   "name": "python",
   "nbconvert_exporter": "python",
   "pygments_lexer": "ipython3",
   "version": "3.9.6"
  }
 },
 "nbformat": 4,
 "nbformat_minor": 4
}