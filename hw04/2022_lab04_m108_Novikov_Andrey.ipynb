{
  "cells": [
    {
      "cell_type": "markdown",
      "metadata": {
        "pycharm": {
          "name": "#%% md\n"
        },
        "id": "Z-4ZIbOZzxJ2"
      },
      "source": [
        "# Lab 04. Text Classification\n",
        "\n",
        "\n",
        "This lab is devoted to text classification tasks.\n",
        "- **Part 1 [8 points]** is about very common NLP problem - sentiment analysis.\n",
        "- **Part 2 [7 points]** include tasks on POS tagging and WordEmbeddings.\n",
        "\n",
        "\n",
        "#### Evaluation\n",
        "\n",
        "Each task has its value, **15 points** in total. If you use some open-source code please make sure to include the url.\n",
        "\n",
        "#### How to submit\n",
        "\n",
        "- Name your file according to this convention: `lab04_GroupNo_Surname_Name.ipynb`. If you don't have group number, put `nan` instead.\n",
        "- Attach it to an **email** with **topic** `lab04_GroupNo_Surname_Name.ipynb`\n",
        "- Send it to `cosmic.research.ml@yandex.ru`\n",
        "- Deadline is ` 2022-11-24 23:00:00 +03:00`"
      ]
    },
    {
      "cell_type": "markdown",
      "metadata": {
        "pycharm": {
          "name": "#%% md\n"
        },
        "id": "OxEQJNzWzxJ5"
      },
      "source": [
        "## Part 1. Bag of Words vs. Bag of Popcorn [8 points]"
      ]
    },
    {
      "cell_type": "markdown",
      "metadata": {
        "pycharm": {
          "name": "#%% md\n"
        },
        "id": "2HHeZCt7zxJ5"
      },
      "source": [
        "This task is based on [Bag of Words Meets Bags of Popcorn](https://www.kaggle.com/c/word2vec-nlp-tutorial/data) competition. The goal is to label film reviews as positive or negative. \n",
        "\n",
        "Reviews may look like this:\n",
        "\n",
        "```\n",
        "I dont know why people think this is such a bad movie. Its got a pretty good plot, some good action, and the change of location for Harry does not hurt either. Sure some of its offensive and gratuitous but this is not the only movie like that. Eastwood is in good form as Dirty Harry, and I liked Pat Hingle in this movie as the small town cop. If you liked DIRTY HARRY, then you should see this one, its a lot better than THE DEAD POOL. 4/5\n",
        "```"
      ]
    },
    {
      "cell_type": "code",
      "execution_count": 1,
      "metadata": {
        "pycharm": {
          "name": "#%%\n"
        },
        "id": "CK7TG0ctzxJ6"
      },
      "outputs": [],
      "source": [
        "import pandas as pd\n",
        "import numpy as np\n",
        "import matplotlib.pyplot as plt\n",
        "import nltk"
      ]
    },
    {
      "cell_type": "code",
      "execution_count": 2,
      "metadata": {
        "pycharm": {
          "name": "#%%\n"
        },
        "colab": {
          "base_uri": "https://localhost:8080/",
          "height": 143
        },
        "id": "KorBu5YGzxJ7",
        "outputId": "87bf8b96-72dd-4035-cb4c-d402ebdc362f"
      },
      "outputs": [
        {
          "output_type": "execute_result",
          "data": {
            "text/plain": [
              "       id  sentiment                                             review\n",
              "0  5814_8          1  With all this stuff going down at the moment w...\n",
              "1  2381_9          1  \\The Classic War of the Worlds\\\" by Timothy Hi...\n",
              "2  7759_3          0  The film starts with a manager (Nicholas Bell)..."
            ],
            "text/html": [
              "\n",
              "  <div id=\"df-d7a3ba62-b3c5-4c30-b90d-863e351453b1\">\n",
              "    <div class=\"colab-df-container\">\n",
              "      <div>\n",
              "<style scoped>\n",
              "    .dataframe tbody tr th:only-of-type {\n",
              "        vertical-align: middle;\n",
              "    }\n",
              "\n",
              "    .dataframe tbody tr th {\n",
              "        vertical-align: top;\n",
              "    }\n",
              "\n",
              "    .dataframe thead th {\n",
              "        text-align: right;\n",
              "    }\n",
              "</style>\n",
              "<table border=\"1\" class=\"dataframe\">\n",
              "  <thead>\n",
              "    <tr style=\"text-align: right;\">\n",
              "      <th></th>\n",
              "      <th>id</th>\n",
              "      <th>sentiment</th>\n",
              "      <th>review</th>\n",
              "    </tr>\n",
              "  </thead>\n",
              "  <tbody>\n",
              "    <tr>\n",
              "      <th>0</th>\n",
              "      <td>5814_8</td>\n",
              "      <td>1</td>\n",
              "      <td>With all this stuff going down at the moment w...</td>\n",
              "    </tr>\n",
              "    <tr>\n",
              "      <th>1</th>\n",
              "      <td>2381_9</td>\n",
              "      <td>1</td>\n",
              "      <td>\\The Classic War of the Worlds\\\" by Timothy Hi...</td>\n",
              "    </tr>\n",
              "    <tr>\n",
              "      <th>2</th>\n",
              "      <td>7759_3</td>\n",
              "      <td>0</td>\n",
              "      <td>The film starts with a manager (Nicholas Bell)...</td>\n",
              "    </tr>\n",
              "  </tbody>\n",
              "</table>\n",
              "</div>\n",
              "      <button class=\"colab-df-convert\" onclick=\"convertToInteractive('df-d7a3ba62-b3c5-4c30-b90d-863e351453b1')\"\n",
              "              title=\"Convert this dataframe to an interactive table.\"\n",
              "              style=\"display:none;\">\n",
              "        \n",
              "  <svg xmlns=\"http://www.w3.org/2000/svg\" height=\"24px\"viewBox=\"0 0 24 24\"\n",
              "       width=\"24px\">\n",
              "    <path d=\"M0 0h24v24H0V0z\" fill=\"none\"/>\n",
              "    <path d=\"M18.56 5.44l.94 2.06.94-2.06 2.06-.94-2.06-.94-.94-2.06-.94 2.06-2.06.94zm-11 1L8.5 8.5l.94-2.06 2.06-.94-2.06-.94L8.5 2.5l-.94 2.06-2.06.94zm10 10l.94 2.06.94-2.06 2.06-.94-2.06-.94-.94-2.06-.94 2.06-2.06.94z\"/><path d=\"M17.41 7.96l-1.37-1.37c-.4-.4-.92-.59-1.43-.59-.52 0-1.04.2-1.43.59L10.3 9.45l-7.72 7.72c-.78.78-.78 2.05 0 2.83L4 21.41c.39.39.9.59 1.41.59.51 0 1.02-.2 1.41-.59l7.78-7.78 2.81-2.81c.8-.78.8-2.07 0-2.86zM5.41 20L4 18.59l7.72-7.72 1.47 1.35L5.41 20z\"/>\n",
              "  </svg>\n",
              "      </button>\n",
              "      \n",
              "  <style>\n",
              "    .colab-df-container {\n",
              "      display:flex;\n",
              "      flex-wrap:wrap;\n",
              "      gap: 12px;\n",
              "    }\n",
              "\n",
              "    .colab-df-convert {\n",
              "      background-color: #E8F0FE;\n",
              "      border: none;\n",
              "      border-radius: 50%;\n",
              "      cursor: pointer;\n",
              "      display: none;\n",
              "      fill: #1967D2;\n",
              "      height: 32px;\n",
              "      padding: 0 0 0 0;\n",
              "      width: 32px;\n",
              "    }\n",
              "\n",
              "    .colab-df-convert:hover {\n",
              "      background-color: #E2EBFA;\n",
              "      box-shadow: 0px 1px 2px rgba(60, 64, 67, 0.3), 0px 1px 3px 1px rgba(60, 64, 67, 0.15);\n",
              "      fill: #174EA6;\n",
              "    }\n",
              "\n",
              "    [theme=dark] .colab-df-convert {\n",
              "      background-color: #3B4455;\n",
              "      fill: #D2E3FC;\n",
              "    }\n",
              "\n",
              "    [theme=dark] .colab-df-convert:hover {\n",
              "      background-color: #434B5C;\n",
              "      box-shadow: 0px 1px 3px 1px rgba(0, 0, 0, 0.15);\n",
              "      filter: drop-shadow(0px 1px 2px rgba(0, 0, 0, 0.3));\n",
              "      fill: #FFFFFF;\n",
              "    }\n",
              "  </style>\n",
              "\n",
              "      <script>\n",
              "        const buttonEl =\n",
              "          document.querySelector('#df-d7a3ba62-b3c5-4c30-b90d-863e351453b1 button.colab-df-convert');\n",
              "        buttonEl.style.display =\n",
              "          google.colab.kernel.accessAllowed ? 'block' : 'none';\n",
              "\n",
              "        async function convertToInteractive(key) {\n",
              "          const element = document.querySelector('#df-d7a3ba62-b3c5-4c30-b90d-863e351453b1');\n",
              "          const dataTable =\n",
              "            await google.colab.kernel.invokeFunction('convertToInteractive',\n",
              "                                                     [key], {});\n",
              "          if (!dataTable) return;\n",
              "\n",
              "          const docLinkHtml = 'Like what you see? Visit the ' +\n",
              "            '<a target=\"_blank\" href=https://colab.research.google.com/notebooks/data_table.ipynb>data table notebook</a>'\n",
              "            + ' to learn more about interactive tables.';\n",
              "          element.innerHTML = '';\n",
              "          dataTable['output_type'] = 'display_data';\n",
              "          await google.colab.output.renderOutput(dataTable, element);\n",
              "          const docLink = document.createElement('div');\n",
              "          docLink.innerHTML = docLinkHtml;\n",
              "          element.appendChild(docLink);\n",
              "        }\n",
              "      </script>\n",
              "    </div>\n",
              "  </div>\n",
              "  "
            ]
          },
          "metadata": {},
          "execution_count": 2
        }
      ],
      "source": [
        "reviews = pd.read_csv(\"reviews.tsv\", sep=\"\\t\")\n",
        "reviews.head(3)"
      ]
    },
    {
      "cell_type": "code",
      "execution_count": 3,
      "metadata": {
        "pycharm": {
          "name": "#%%\n"
        },
        "id": "qcdfPsNRzxJ8"
      },
      "outputs": [],
      "source": [
        "X = reviews[\"review\"]\n",
        "y = reviews[\"sentiment\"]"
      ]
    },
    {
      "cell_type": "code",
      "execution_count": 4,
      "metadata": {
        "pycharm": {
          "name": "#%%\n"
        },
        "id": "qfDjwih5zxJ8"
      },
      "outputs": [],
      "source": [
        "from sklearn.model_selection import train_test_split"
      ]
    },
    {
      "cell_type": "code",
      "execution_count": 5,
      "metadata": {
        "pycharm": {
          "name": "#%%\n"
        },
        "id": "SYEWJqgTzxJ8"
      },
      "outputs": [],
      "source": [
        "X_train, X_test, y_train, y_test = train_test_split(X, y, test_size=5000, random_state=42, stratify=y)"
      ]
    },
    {
      "cell_type": "markdown",
      "metadata": {
        "pycharm": {
          "name": "#%% md\n"
        },
        "id": "a6NfdNwjzxJ9"
      },
      "source": [
        "### Time to extract features\n",
        "\n",
        "In this part of the assignment we will apply several methods of feature extraction and comapre them."
      ]
    },
    {
      "cell_type": "markdown",
      "metadata": {
        "pycharm": {
          "name": "#%% md\n"
        },
        "id": "PKtzz9UHzxJ9"
      },
      "source": [
        "**Task 1.1 [0.5 point] - Simple BOW** \n",
        "\n",
        "In this task we will build a simple bow representation - without any preprocessing. \n",
        "\n",
        "For this purpose we will use [*CountVectorizer*](https://scikit-learn.org/stable/modules/generated/sklearn.feature_extraction.text.CountVectorizer.html#sklearn.feature_extraction.text.CountVectorizer) - a method that transforms text dataset into a [sparse matrix](https://docs.scipy.org/doc/scipy/reference/sparse.html)."
      ]
    },
    {
      "cell_type": "markdown",
      "metadata": {
        "pycharm": {
          "name": "#%% md\n"
        },
        "id": "B8DuH8M_zxJ9"
      },
      "source": [
        "Import CountVectorizer:"
      ]
    },
    {
      "cell_type": "code",
      "execution_count": 6,
      "metadata": {
        "pycharm": {
          "name": "#%%\n"
        },
        "id": "pf5r4f98zxJ-"
      },
      "outputs": [],
      "source": [
        "from sklearn.feature_extraction.text import CountVectorizer"
      ]
    },
    {
      "cell_type": "markdown",
      "metadata": {
        "pycharm": {
          "name": "#%% md\n"
        },
        "id": "2laGQVoTzxJ-"
      },
      "source": [
        "Now try each of these approaches:\n",
        "- fit vectorizer on X_train, apply to X_train, X_test\n",
        "- fit vectorizer on X_train, apply to X_train; fit on X_test, apply to X_test\n",
        "- fit vectorizer on X, apply to X_train, X_test\n",
        "\n",
        "Report output matrix sizes in each case. \n",
        "- What is the difference? \n",
        "- Which of these approaches is the most fair and correct?\n",
        "\n",
        "Use the most fair and correct one to get `X_train_0` and `X_test_0` - they will be needed for further tasks."
      ]
    },
    {
      "cell_type": "code",
      "execution_count": 7,
      "metadata": {
        "pycharm": {
          "name": "#%%\n"
        },
        "colab": {
          "base_uri": "https://localhost:8080/"
        },
        "id": "H7py1vXFzxJ-",
        "outputId": "fad99f87-9919-4f5d-88a5-d55bb3ca323f"
      },
      "outputs": [
        {
          "output_type": "stream",
          "name": "stdout",
          "text": [
            "(20000, 74849) (5000, 74849)\n"
          ]
        }
      ],
      "source": [
        "count_vectorizer = CountVectorizer()\n",
        "\n",
        "# MY CODE BELOW\n",
        "count_vectorizer.fit(X)\n",
        "X_train_0 = count_vectorizer.transform(X_train)\n",
        "X_test_0 = count_vectorizer.transform(X_test)\n",
        "\n",
        "print(X_train_0.shape, X_test_0.shape)"
      ]
    },
    {
      "cell_type": "code",
      "execution_count": 8,
      "outputs": [
        {
          "output_type": "execute_result",
          "data": {
            "text/plain": [
              "scipy.sparse.csr.csr_matrix"
            ]
          },
          "metadata": {},
          "execution_count": 8
        }
      ],
      "source": [
        "type(X_train_0)"
      ],
      "metadata": {
        "pycharm": {
          "name": "#%%\n"
        },
        "colab": {
          "base_uri": "https://localhost:8080/"
        },
        "id": "Db_BN_mOzxJ_",
        "outputId": "3f279970-bc6d-4922-97b0-3ec20069efae"
      }
    },
    {
      "cell_type": "code",
      "execution_count": 9,
      "metadata": {
        "pycharm": {
          "name": "#%%\n"
        },
        "colab": {
          "base_uri": "https://localhost:8080/"
        },
        "id": "mu4E4ZYkzxJ_",
        "outputId": "76e512b8-868d-4c38-b32d-259dd21b32b9"
      },
      "outputs": [
        {
          "output_type": "stream",
          "name": "stdout",
          "text": [
            "(20000, 68482) (5000, 38591)\n"
          ]
        }
      ],
      "source": [
        "count_vectorizer = CountVectorizer()\n",
        "\n",
        "# MY CODE BELOW\n",
        "count_vectorizer.fit(X_train)\n",
        "X_train_0 = count_vectorizer.transform(X_train)\n",
        "count_vectorizer = CountVectorizer()\n",
        "count_vectorizer.fit(X_test)\n",
        "X_test_0 = count_vectorizer.transform(X_test)\n",
        "\n",
        "print(X_train_0.shape, X_test_0.shape)"
      ]
    },
    {
      "cell_type": "code",
      "execution_count": 10,
      "outputs": [
        {
          "output_type": "execute_result",
          "data": {
            "text/plain": [
              "scipy.sparse.csr.csr_matrix"
            ]
          },
          "metadata": {},
          "execution_count": 10
        }
      ],
      "source": [
        "type(X_train_0)"
      ],
      "metadata": {
        "pycharm": {
          "name": "#%%\n"
        },
        "colab": {
          "base_uri": "https://localhost:8080/"
        },
        "id": "6OVhC3ZizxJ_",
        "outputId": "bbc4187c-73c5-4394-d728-c3b7b5736092"
      }
    },
    {
      "cell_type": "code",
      "execution_count": 11,
      "metadata": {
        "pycharm": {
          "name": "#%%\n"
        },
        "colab": {
          "base_uri": "https://localhost:8080/"
        },
        "id": "968OpSVdzxKA",
        "outputId": "ac4a18ae-1fd1-49b1-a803-c46cff6803f2"
      },
      "outputs": [
        {
          "output_type": "stream",
          "name": "stdout",
          "text": [
            "(20000, 68482) (5000, 68482)\n"
          ]
        }
      ],
      "source": [
        "count_vectorizer = CountVectorizer()\n",
        "\n",
        "# MY CODE BELOW\n",
        "count_vectorizer.fit(X_train)\n",
        "X_train_0 = count_vectorizer.transform(X_train)\n",
        "X_test_0 = count_vectorizer.transform(X_test)\n",
        "\n",
        "print(X_train_0.shape, X_test_0.shape)"
      ]
    },
    {
      "cell_type": "code",
      "execution_count": 12,
      "outputs": [
        {
          "output_type": "execute_result",
          "data": {
            "text/plain": [
              "scipy.sparse.csr.csr_matrix"
            ]
          },
          "metadata": {},
          "execution_count": 12
        }
      ],
      "source": [
        "type(X_train_0)"
      ],
      "metadata": {
        "pycharm": {
          "name": "#%%\n"
        },
        "colab": {
          "base_uri": "https://localhost:8080/"
        },
        "id": "vYZYXgE1zxKA",
        "outputId": "00fb80ac-5919-4524-8efd-f05629ae586c"
      }
    },
    {
      "cell_type": "markdown",
      "source": [
        "***Answer***: Although it is better to use more examples in NLP, we can only use the first one(fit vectorizer on X_train, apply to X_train, X_test) because we still want to test our model."
      ],
      "metadata": {
        "collapsed": false,
        "pycharm": {
          "name": "#%% md\n"
        },
        "id": "ijfQvR74zxKA"
      }
    },
    {
      "cell_type": "markdown",
      "metadata": {
        "pycharm": {
          "name": "#%% md\n"
        },
        "id": "lUjzUC8gzxKB"
      },
      "source": [
        "**Task 1.2 [0.5 point] - S___se matrices**\n",
        "\n",
        "What is the data type of `X_train_0` and `X_test_0`? What are those?\n",
        "\n",
        "What differs them from usual np.arrays? Name several types how those special matrices are stored and what they are good for."
      ]
    },
    {
      "cell_type": "markdown",
      "metadata": {
        "pycharm": {
          "name": "#%% md\n"
        },
        "id": "8oHQUkOAzxKB"
      },
      "source": [
        "***Answer:*** Those are sparce matrices, representations of reviews as tokens which essentially are some meaningful units. More specifically those are compressed sparce row(CSR) matrices which contain information only about non-zero values in rows. Other types can be compressed sparce column(CSC) matrices which is mathematically equivalent to CSR and coordinate list which contains all non-zero values and their indexes. CSR and CSC are more compressed versions of coordinate list so they are better memory-wise."
      ]
    },
    {
      "cell_type": "markdown",
      "metadata": {
        "pycharm": {
          "name": "#%% md\n"
        },
        "id": "dtsupoz_zxKB"
      },
      "source": [
        "**Task 1.3 [1 points] - Training**\n",
        "\n",
        "Train LogisticRegression and Random forest on this data representations.\n",
        "- Compare training time \n",
        "- Compare Accuracy, precision, recall \n",
        "- Plot ROC Curve and calculate ROC AUC (don't forget to predict_proba) \n",
        "- Plot Precision-Recall curve and calculate f1-score (for example, with `plt.subplots(nrows=1, ncols=2)`)\n",
        "- Print the trickiest missclassified objects. Why they were hard to classify? \n"
      ]
    },
    {
      "cell_type": "code",
      "execution_count": 13,
      "metadata": {
        "pycharm": {
          "name": "#%%\n"
        },
        "id": "RDpU6aDnzxKB"
      },
      "outputs": [],
      "source": [
        "from sklearn.ensemble import RandomForestClassifier\n",
        "from sklearn.linear_model import LogisticRegression\n",
        "import time as tm"
      ]
    },
    {
      "cell_type": "code",
      "execution_count": 14,
      "metadata": {
        "pycharm": {
          "name": "#%%\n"
        },
        "id": "vye5zRebzxKC"
      },
      "outputs": [],
      "source": [
        "from sklearn.metrics import accuracy_score, precision_score, recall_score\n",
        "from sklearn.metrics import f1_score, precision_recall_curve, roc_curve, roc_auc_score"
      ]
    },
    {
      "cell_type": "code",
      "execution_count": 15,
      "metadata": {
        "pycharm": {
          "name": "#%%\n"
        },
        "id": "5nzsrmZ7zxKC"
      },
      "outputs": [],
      "source": [
        "rf_model = RandomForestClassifier(n_estimators=500)\n",
        "lr_model = LogisticRegression(max_iter=1e5)"
      ]
    },
    {
      "cell_type": "code",
      "execution_count": 16,
      "metadata": {
        "pycharm": {
          "name": "#%%\n"
        },
        "colab": {
          "base_uri": "https://localhost:8080/"
        },
        "id": "mjp387t6zxKC",
        "outputId": "8e64bfae-db0e-4037-dcff-f36ed33d0bb4"
      },
      "outputs": [
        {
          "output_type": "stream",
          "name": "stdout",
          "text": [
            "========RANDOM FOREST MODEL========\n",
            "Fit time: 336.14110803604126\n",
            "Accuracy score: 0.8598\n",
            "Precision score: 0.8485083301046106\n",
            "Recall score: 0.876\n",
            "===================================\n",
            "=====LOGISTIC REGRESSION MODEL=====\n",
            "Fit time: 26.20793914794922\n",
            "Accuracy score: 0.8818\n",
            "Precision score: 0.8756395120031484\n",
            "Recall score: 0.89\n",
            "===================================\n"
          ]
        }
      ],
      "source": [
        "rf_start = tm.time()\n",
        "rf_model.fit(X_train_0, y_train)\n",
        "rf_end = tm.time()\n",
        "rf_preds = rf_model.predict(X_test_0)\n",
        "rf_acc = accuracy_score(y_test, rf_preds)\n",
        "rf_prec = precision_score(y_test, rf_preds)\n",
        "rf_rec = recall_score(y_test, rf_preds)\n",
        "print('========RANDOM FOREST MODEL========')\n",
        "print('Fit time:', rf_end - rf_start)\n",
        "print('Accuracy score:', rf_acc)\n",
        "print('Precision score:', rf_prec)\n",
        "print('Recall score:', rf_rec)\n",
        "print('===================================')\n",
        "lr_start = tm.time()\n",
        "lr_model.fit(X_train_0, y_train)\n",
        "lr_end = tm.time()\n",
        "lr_preds = lr_model.predict(X_test_0)\n",
        "lr_acc = accuracy_score(y_test, lr_preds)\n",
        "lr_prec = precision_score(y_test, lr_preds)\n",
        "lr_rec = recall_score(y_test, lr_preds)\n",
        "print('=====LOGISTIC REGRESSION MODEL=====')\n",
        "print('Fit time:', lr_end - lr_start)\n",
        "print('Accuracy score:', lr_acc)\n",
        "print('Precision score:', lr_prec)\n",
        "print('Recall score:', lr_rec)\n",
        "print('===================================')"
      ]
    },
    {
      "cell_type": "code",
      "execution_count": 17,
      "outputs": [
        {
          "output_type": "display_data",
          "data": {
            "text/plain": [
              "<Figure size 720x576 with 1 Axes>"
            ],
            "image/png": "[encoded data removed]"
          },
          "metadata": {
            "needs_background": "light"
          }
        },
        {
          "output_type": "display_data",
          "data": {
            "text/plain": [
              "<Figure size 720x576 with 1 Axes>"
            ],
            "image/png": "[encoded data removed]"
          },
          "metadata": {
            "needs_background": "light"
          }
        }
      ],
      "source": [
        "# Plot ROC Curve and calculate ROC AUC (don’t forget to predict_proba)\n",
        "rf_pred_proba = rf_model.predict_proba(X_test_0)[::,1]\n",
        "fpr, tpr, _ = roc_curve(y_test, rf_pred_proba)\n",
        "auc = roc_auc_score(y_test, rf_pred_proba)\n",
        "\n",
        "plt.figure(figsize=(10, 8))\n",
        "plt.plot(fpr, tpr, label='AUC='+str(auc))\n",
        "plt.xlabel('False positive rate')\n",
        "plt.ylabel('True positive rate')\n",
        "plt.title('Random Forest Model ROC AUC Curve')\n",
        "plt.legend(loc='lower right')\n",
        "plt.grid()\n",
        "plt.show()\n",
        "\n",
        "lr_pred_proba = lr_model.predict_proba(X_test_0)[::,1]\n",
        "fpr2, tpr2, _ = roc_curve(y_test, lr_pred_proba)\n",
        "auc2 = roc_auc_score(y_test, lr_pred_proba)\n",
        "\n",
        "plt.figure(figsize=(10, 8))\n",
        "plt.plot(fpr2, tpr2, label='AUC='+str(auc2))\n",
        "plt.xlabel('False positive rate')\n",
        "plt.ylabel('True positive rate')\n",
        "plt.title('Logistic Regression Model ROC AUC Curve')\n",
        "plt.legend(loc='lower right')\n",
        "plt.grid()\n",
        "plt.show()"
      ],
      "metadata": {
        "pycharm": {
          "name": "#%%\n"
        },
        "colab": {
          "base_uri": "https://localhost:8080/",
          "height": 1000
        },
        "id": "92MGKN4fzxKC",
        "outputId": "bd4aa325-b3c7-4e9b-e312-6a751d81e561"
      }
    },
    {
      "cell_type": "code",
      "execution_count": 18,
      "outputs": [
        {
          "output_type": "display_data",
          "data": {
            "text/plain": [
              "<Figure size 720x576 with 2 Axes>"
            ],
            "image/png": "[encoded data removed]"
          },
          "metadata": {
            "needs_background": "light"
          }
        }
      ],
      "source": [
        "# Plot Precision-Recall curve and calculate f1-score (for example, with plt.subplots(nrows=1, ncols=2))\n",
        "rf_pre_curve, rf_rec_curve, _ = precision_recall_curve(y_test, rf_pred_proba)\n",
        "lr_pre_curve, lr_rec_curve, _ = precision_recall_curve(y_test, lr_pred_proba)\n",
        "rf_f1 = f1_score(y_test, rf_preds)\n",
        "lr_f1 = f1_score(y_test, lr_preds)\n",
        "\n",
        "fig, axes = plt.subplots(nrows=1, ncols=2, figsize=(10, 8))\n",
        "axes[0].plot(rf_pre_curve, rf_rec_curve, label='f1-score='+str(rf_f1))\n",
        "axes[0].set_xlabel('Precision')\n",
        "axes[0].set_ylabel('Recall')\n",
        "axes[0].set_title('Random Forest Model Precision-Recall Curve')\n",
        "axes[0].legend(loc='lower left')\n",
        "axes[0].grid()\n",
        "axes[1].plot(lr_pre_curve, lr_rec_curve, label='f1-score='+str(lr_f1))\n",
        "axes[1].set_xlabel('Precision')\n",
        "axes[1].set_ylabel('Recall')\n",
        "axes[1].set_title('Logistic Regression Model Precision-Recall Curve')\n",
        "axes[1].legend(loc='lower left')\n",
        "axes[1].grid()\n",
        "plt.show()"
      ],
      "metadata": {
        "pycharm": {
          "name": "#%%\n"
        },
        "colab": {
          "base_uri": "https://localhost:8080/",
          "height": 513
        },
        "id": "5Jf06QK8zxKD",
        "outputId": "659a666f-e7b8-40f0-d7a5-a904021a4b5e"
      }
    },
    {
      "cell_type": "markdown",
      "metadata": {
        "pycharm": {
          "name": "#%% md\n"
        },
        "id": "ZA7zU4ElzxKD"
      },
      "source": [
        "Which model gives higher scores? Any ideas why? Please suggest 1-2 reasons.\n",
        "\n",
        "***Answer:*** Logistic Regression model gives better results because massive amount of features in BOW confuses Random Forest model."
      ]
    },
    {
      "cell_type": "markdown",
      "metadata": {
        "pycharm": {
          "name": "#%% md\n"
        },
        "id": "unh6y8gjzxKD"
      },
      "source": [
        "### More sophisticated feature preprocessing\n",
        "\n",
        "As we have seen, simple BOW can give us some result - it's time to improve it.\n",
        "\n",
        "**Task 1.4 [1 point] - Frequencies calculation**\n",
        "\n",
        "- Calculate top-20 words in train set and test set. *Are they meaningful?*\n",
        "- Import `stopwords` and print some of them. What are those?\n",
        "- Recalculate top-20 words in each set, but exclude stop words.\n",
        "- Does now top-20 include more useful words?"
      ]
    },
    {
      "cell_type": "code",
      "execution_count": 19,
      "metadata": {
        "pycharm": {
          "name": "#%%\n"
        },
        "id": "12NMi43wzxKE"
      },
      "outputs": [],
      "source": [
        "from collections import Counter\n",
        "from nltk.tokenize import WhitespaceTokenizer, WordPunctTokenizer, TreebankWordTokenizer\n",
        "from nltk.corpus import stopwords"
      ]
    },
    {
      "cell_type": "code",
      "execution_count": 20,
      "metadata": {
        "pycharm": {
          "name": "#%%\n"
        },
        "colab": {
          "base_uri": "https://localhost:8080/"
        },
        "id": "2simqGALzxKE",
        "outputId": "cdeb31af-7b41-4941-c48a-ec475700adc2"
      },
      "outputs": [
        {
          "output_type": "stream",
          "name": "stdout",
          "text": [
            "Top 20 words in train set: [('the', 264301), ('a', 128675), ('and', 127884), ('of', 115962), ('to', 107541), ('is', 83655), ('in', 73118), ('i', 59517), ('this', 57844), ('that', 53379), ('it', 53332), ('was', 37720), ('as', 36562), ('for', 34555), ('with', 34516), ('but', 32386), ('on', 25669), ('movie', 24954), ('his', 23376), ('are', 23034)]\n",
            "Top 20 words in test set: [('the', 65331), ('a', 32014), ('and', 31432), ('of', 28698), ('to', 26694), ('is', 20595), ('in', 18389), ('i', 14705), ('this', 14138), ('it', 13143), ('that', 13099), ('was', 9335), ('as', 9248), ('for', 8601), ('with', 8387), ('but', 8155), ('on', 6144), ('movie', 5955), ('not', 5790), ('his', 5741)]\n"
          ]
        }
      ],
      "source": [
        "tokenizer = WhitespaceTokenizer()\n",
        "train_count = Counter()\n",
        "test_count = Counter()\n",
        "\n",
        "for review in X_train:\n",
        "    train_count += Counter(tokenizer.tokenize(review.lower().replace('<br /><br />', ' ')))\n",
        "\n",
        "for review in X_test:\n",
        "    test_count += Counter(tokenizer.tokenize(review.lower().replace('<br /><br />', ' ')))\n",
        "\n",
        "print('Top 20 words in train set:', train_count.most_common(n=20))\n",
        "print('Top 20 words in test set:', test_count.most_common(n=20))"
      ]
    },
    {
      "cell_type": "code",
      "execution_count": 21,
      "outputs": [
        {
          "output_type": "stream",
          "name": "stdout",
          "text": [
            "Top 20 words in train set: ['the', 'a', 'and', 'of', 'to', 'is', 'in', 'i', 'this', 'that', 'it', 'was', 'as', 'for', 'with', 'but', 'on', 'movie', 'his', 'are']\n",
            "Top 20 words in test set: ['the', 'a', 'and', 'of', 'to', 'is', 'in', 'i', 'this', 'it', 'that', 'was', 'as', 'for', 'with', 'but', 'on', 'movie', 'not', 'his']\n"
          ]
        }
      ],
      "source": [
        "print('Top 20 words in train set:', [x[0] for x in train_count.most_common(n=20)])\n",
        "print('Top 20 words in test set:', [x[0] for x in test_count.most_common(n=20)])"
      ],
      "metadata": {
        "pycharm": {
          "name": "#%%\n"
        },
        "colab": {
          "base_uri": "https://localhost:8080/"
        },
        "id": "9hWW3CUrzxKE",
        "outputId": "f8f3d513-fe6f-4712-814a-bd2883c48209"
      }
    },
    {
      "cell_type": "markdown",
      "source": [
        "***Answer:*** They include articles and such things so they are not very useful."
      ],
      "metadata": {
        "collapsed": false,
        "pycharm": {
          "name": "#%% md\n"
        },
        "id": "PAshJDc5zxKF"
      }
    },
    {
      "cell_type": "code",
      "execution_count": 22,
      "outputs": [
        {
          "output_type": "stream",
          "name": "stdout",
          "text": [
            "['i', 'me', 'my', 'myself', 'we', 'our', 'ours', 'ourselves', 'you', \"you're\"]\n"
          ]
        },
        {
          "output_type": "stream",
          "name": "stderr",
          "text": [
            "[nltk_data] Downloading package stopwords to /root/nltk_data...\n",
            "[nltk_data]   Unzipping corpora/stopwords.zip.\n"
          ]
        }
      ],
      "source": [
        "nltk.download('stopwords')\n",
        "stopwords_eng = stopwords.words('english')\n",
        "print(stopwords_eng[:10])"
      ],
      "metadata": {
        "pycharm": {
          "name": "#%%\n"
        },
        "colab": {
          "base_uri": "https://localhost:8080/"
        },
        "id": "vLaqozTuzxKF",
        "outputId": "f0fafddd-933b-4e87-e3c8-54c122272eab"
      }
    },
    {
      "cell_type": "markdown",
      "source": [
        "***Answer:***\n",
        "[Source](https://en.wikipedia.org/wiki/Stop_word)\n",
        ">Stop words are the words in a stop list (or stoplist or negative dictionary) which are filtered out (i.e. stopped) before or after processing of natural language data (text) because they are insignificant."
      ],
      "metadata": {
        "collapsed": false,
        "pycharm": {
          "name": "#%% md\n"
        },
        "id": "QRhcD7zpzxKF"
      }
    },
    {
      "cell_type": "code",
      "execution_count": 23,
      "outputs": [],
      "source": [
        "for word in stopwords_eng:\n",
        "    del train_count[word]\n",
        "    del test_count[word]"
      ],
      "metadata": {
        "pycharm": {
          "name": "#%%\n"
        },
        "id": "neMcUt8DzxKF"
      }
    },
    {
      "cell_type": "code",
      "execution_count": 24,
      "outputs": [
        {
          "output_type": "stream",
          "name": "stdout",
          "text": [
            "Top 20 words in train set: ['movie', 'film', 'one', 'like', 'even', 'would', 'good', 'really', 'see', '-', 'get', 'much', 'story', 'also', 'first', 'time', 'people', 'great', 'make', 'could']\n",
            "Top 20 words in test set: ['movie', 'film', 'one', 'like', 'good', 'would', 'even', 'really', 'see', '-', 'get', 'story', 'much', 'first', 'also', 'great', 'time', 'could', 'make', 'people']\n"
          ]
        }
      ],
      "source": [
        "print('Top 20 words in train set:', [x[0] for x in train_count.most_common(n=20)])\n",
        "print('Top 20 words in test set:', [x[0] for x in test_count.most_common(n=20)])"
      ],
      "metadata": {
        "pycharm": {
          "name": "#%%\n"
        },
        "colab": {
          "base_uri": "https://localhost:8080/"
        },
        "id": "X9GKugTgzxKG",
        "outputId": "ffe4760f-6a84-49f0-e368-46dec36481d1"
      }
    },
    {
      "cell_type": "markdown",
      "source": [
        "***Answer:*** Now these words are meaningful because they represent the sentiment of a review."
      ],
      "metadata": {
        "collapsed": false,
        "pycharm": {
          "name": "#%% md\n"
        },
        "id": "lsI5SELuzxKG"
      }
    },
    {
      "cell_type": "markdown",
      "metadata": {
        "pycharm": {
          "name": "#%% md\n"
        },
        "id": "dpODxJ_mzxKG"
      },
      "source": [
        "**Task 1.5 [1 point] - Word Freqs by class**\n",
        "\n",
        "How do you think, will top100 tokens for positive and negative classes be different? Use data to prove your point."
      ]
    },
    {
      "cell_type": "markdown",
      "metadata": {
        "pycharm": {
          "name": "#%% md\n"
        },
        "id": "do7QHZ_IzxKG"
      },
      "source": [
        "***Answer:*** They are almost identical. See the code below."
      ]
    },
    {
      "cell_type": "code",
      "execution_count": 25,
      "outputs": [],
      "source": [
        "positive_count = Counter()\n",
        "negative_count = Counter()\n",
        "\n",
        "for i in range(len(X)):\n",
        "    tmp = Counter(tokenizer.tokenize(X[i].lower().replace('<br /><br />', ' ')))\n",
        "    if y[i]:\n",
        "        positive_count += tmp\n",
        "    else:\n",
        "        negative_count += tmp"
      ],
      "metadata": {
        "pycharm": {
          "name": "#%%\n"
        },
        "id": "xhLUFHjYzxKG"
      }
    },
    {
      "cell_type": "code",
      "execution_count": 26,
      "outputs": [
        {
          "output_type": "stream",
          "name": "stdout",
          "text": [
            "Positive/negative tops 100 reviews most frequent words differ by  3\n"
          ]
        }
      ],
      "source": [
        "list1 = [x[0] for x in train_count.most_common(n=100)]\n",
        "list2 = [x[0] for x in test_count.most_common(n=100)]\n",
        "\n",
        "tmp_count = 0\n",
        "for word in list1:\n",
        "    if word in list2:\n",
        "        tmp_count += 1\n",
        "print('Positive/negative tops 100 reviews most frequent words differ by ', len(list1) - tmp_count)"
      ],
      "metadata": {
        "pycharm": {
          "name": "#%%\n"
        },
        "colab": {
          "base_uri": "https://localhost:8080/"
        },
        "id": "f-CSHg44zxKG",
        "outputId": "a4a849e6-a4d8-404f-d4af-06cd8790820e"
      }
    },
    {
      "cell_type": "markdown",
      "metadata": {
        "pycharm": {
          "name": "#%% md\n"
        },
        "id": "fUMLCUPgzxKH"
      },
      "source": [
        "**Task 1.6 [2 points] - Reducing dimensionality**\n",
        "\n",
        "The goal is to reduce number of features to 15000.\n",
        "\n",
        "Implement the following methods of dimensinality reduction:\n",
        "1. Use CountVectorizer, but leave only 15k most frequent tokens\n",
        "2. Use HashingVectorizer with 15k features\n",
        "3. Use 15k most important features from perspective of previously trained RandomForest\n",
        "\n",
        "*Hints:*\n",
        "- in 1 and 2 you don't have to apply nltk.corpus.stopwords, vectorizers have `stopwords` parameter\n",
        "- in 1 look for `vocabulary` parameter\n",
        "- in 3... remember `lab02`? You may use `X_train_0` and `X_test_0` as input matrices\n",
        "\n",
        "Train LogisticRegression and RandomForest on each dataset and compare ROC AUC scores of the classifiers."
      ]
    },
    {
      "cell_type": "code",
      "execution_count": 27,
      "metadata": {
        "pycharm": {
          "name": "#%%\n"
        },
        "id": "v1Blfx9lzxKH"
      },
      "outputs": [],
      "source": [
        "from sklearn.feature_extraction.text import CountVectorizer, HashingVectorizer"
      ]
    },
    {
      "cell_type": "code",
      "execution_count": 28,
      "metadata": {
        "pycharm": {
          "name": "#%%\n"
        },
        "id": "B-EWgzzfzxKH"
      },
      "outputs": [],
      "source": [
        "clf = CountVectorizer(stop_words=stopwords_eng,\n",
        "                      vocabulary=[x[0] for x in train_count.most_common(15000)])\n",
        "clf.fit(X_train)\n",
        "X_train_tra = clf.transform(X_train)\n",
        "X_test_tra = clf.transform(X_test)\n",
        "\n",
        "clf2 = HashingVectorizer(stop_words=stopwords_eng, n_features=15000)\n",
        "clf2.fit(X_train)\n",
        "X_train_tra2 = clf2.transform(X_train)\n",
        "X_test_tra2 = clf2.transform(X_test)"
      ]
    },
    {
      "cell_type": "code",
      "execution_count": 29,
      "outputs": [
        {
          "output_type": "stream",
          "name": "stdout",
          "text": [
            "[5011, 67453, 26188, 4799, 66106, 2969, 21010, 41930, 67437, 7760, 60773, 6422, 67259, 42175, 60594, 31746, 58478, 40422, 42730, 60975, 36255, 46545, 46180, 30278, 61493, 32837, 29044, 1463, 66075, 20830, 31830, 4065, 17938, 65127, 66411, 39356, 45077, 60756, 14073, 42152, 42987, 43157, 2689, 28520, 60858, 60897, 27618, 53404, 59132, 7961, 9029, 2561, 22507, 46548, 67120, 68015, 39905, 51108, 5867, 4744, 23358, 5769, 13810, 29820, 56201, 34441, 3368, 42949, 36261, 35513, 66776, 66108, 42964, 7828, 4330, 3752, 35445, 22015, 28355, 38810, 66720, 27708, 2422, 66891, 58100, 3196, 67466, 58990, 31100, 37043, 17718, 61518, 25747, 9100, 6468, 18691, 8318, 2885, 27509, 24027, 60936, 66544, 53654, 1143, 56422, 67877, 43438, 40144, 66453, 5964, 67405, 9461, 40862, 26927, 42805, 57919, 16771, 21798, 2631, 34942, 42733, 49310, 10764, 3382, 46330, 60820, 45095, 5042, 66587, 24167, 68024, 28106, 64384, 20104, 61309, 21737, 63751, 40289, 44595, 27792, 40504, 49347, 38294, 45008, 54427, 61660, 63941, 52819, 36810, 15750, 60734, 5884, 37419, 13812, 60799, 56442, 60944, 31864, 34747, 40437, 66606, 68038, 26805, 66231, 43399, 16761, 47018, 29215, 62618, 28431, 35, 11574, 29058, 22549, 66122, 22709, 53682, 21624, 45096, 15510, 25056, 20100, 54805, 66207, 32468, 36292, 36085, 20610, 29741, 56573, 18708, 52864, 49230, 24583, 26594, 20848, 47254, 16802, 31439, 60806, 54828, 66096, 35778, 27051, 17811, 41584, 66135, 18973, 10633, 64920, 1923, 54856, 37202, 67261, 62982, 10616, 4439, 43591, 17079, 49636, 1504, 56428, 49533, 33843, 1947, 37052, 6074, 24216, 53015, 65978, 10014, 54011, 38044, 43846, 1494, 38307, 20142, 19955, 25565, 63772, 17809, 36190, 28128, 6820, 49284, 61029, 43279, 60600, 53680, 66617, 17081, 35517, 5870, 25651, 25354, 60882, 66590, 17021, 58734, 61851, 61105, 51557, 31797, 53010, 52843, 41595, 46321, 39068, 22597, 61326, 62668, 19273, 26190, 2600, 42249, 25830, 19399, 36072, 62202, 32547, 8663, 37061, 3218, 61025, 42839, 12340, 42868, 4950, 48587, 40760, 22127, 64533, 49537, 31278, 66726, 46078, 46098, 22879, 67373, 45083, 25883, 20870, 61031, 55221, 6617, 6483, 29223, 58350, 44436, 60942, 5996, 35251, 6125, 7829, 38422, 15315, 52478, 21815, 40790, 22349, 1468, 63885, 33573, 62908, 42022, 2644, 25348, 8820, 47435, 38049, 67455, 59843, 20220, 32519, 20102, 18200, 66232, 67586, 36031, 29175, 35829, 20876, 12593, 47421, 23610, 37850, 7740, 36075, 67140, 54129, 55157, 17958, 24837, 51158, 50177, 19978, 21087, 29361, 30479, 54015, 21962, 58754, 18872, 3911, 43429, 35804, 16682, 67287, 21017, 36080, 21578, 53676, 22605, 67469, 66129, 18309, 40444, 3379, 2516, 4794, 63289, 27346, 19622, 25063, 21744, 55260, 46849, 12327, 61539, 59167, 49099, 7632, 25300, 67401, 17078, 34305, 34698, 67255, 34676, 41683, 28391, 50050, 27983, 67926, 67867, 67572, 52340, 42954, 25595, 65110, 27631, 4786, 21620, 59441, 42299, 65240, 19291, 3497, 42788, 43561, 48290, 47106, 53665, 46124, 22982, 65987, 49294, 55236, 55890, 60948, 67236, 35619, 13902, 19061, 41773, 61693, 49256, 50664, 28335, 20879, 1492, 53871, 46073, 5872, 36992, 35788, 33498, 34746, 23958, 62424, 53673, 63873, 13777, 62666, 53359, 45962, 43353, 42610, 9721, 67254, 43401, 51558, 62635, 34314, 12349, 45989, 56445, 65980, 55524, 35015, 59857, 43601, 17856, 54763, 2751, 54061, 28755, 4410, 9385, 4388, 53586, 56829, 59125, 63544, 15360, 13885, 24145, 57568, 51597, 67250, 25636, 35632, 54795, 10400, 39240, 61818, 6877, 42844, 12590, 22196, 29417, 35237, 47499, 59214, 11374, 49043, 18823, 1179, 20244, 11012, 53145, 14794, 4517, 27318, 19815, 28879, 67582, 41048, 61067, 5905, 24739, 20366, 57615, 29179, 28996, 11473, 5593, 39866, 28980, 36244, 28443, 64295, 19000, 61109, 25351, 67919, 1954, 42611, 45229, 15890, 51932, 21784, 42253, 56574, 56372, 50287, 57609, 33252, 38596, 20365, 25068, 6123, 38614, 62421, 41375, 66832, 18369, 28794, 28542, 34689, 60399, 31157, 1456, 32552, 28019, 17012, 15175, 49804, 2016, 44489, 52869, 9317, 32645, 61825, 66448, 16679, 2528, 54103, 21908, 55826, 9672, 67585, 58507, 36189, 64544, 20982, 66558, 33533, 50218, 24211, 64545, 52975, 59873, 63531, 15409, 60406, 45678, 2555, 58672, 21663, 9376, 46665, 55024, 23952, 65289, 58433, 24921, 66219, 45107, 24276, 58459, 26808, 55373, 9542, 46091, 25991, 9955, 47495, 2671, 6025, 3977, 60293, 28031, 34890, 67866, 21551, 58083, 50882, 10532, 19696, 41454, 7938, 41653, 3580, 44667, 40890, 45662, 48415, 40473, 56619, 15327, 44546, 61453, 8005, 9323, 40306, 17769, 5567, 54800, 27709, 12368, 55192, 22584, 62849, 49299, 53766, 20704, 27304, 21211, 8320, 1948, 65282, 61907, 57626, 57616, 16381, 65286, 43090, 30181, 13473, 59898, 33527, 5425, 11393, 49101, 68041, 11705, 1496, 61082, 63010, 24493, 38967, 67574, 31865, 32036, 7159, 19194, 66680, 7844, 9676, 4141, 40490, 10556, 46725, 53590, 3113, 11815, 3384, 21500, 52259, 6060, 53265, 60817, 63446, 33478, 3756, 1098, 35810, 62857, 21451, 30407, 35480, 27777, 43402, 43997, 11000, 49454, 20431, 52041, 31274, 55287, 54283, 67086, 62843, 22615, 10689, 43990, 57681, 59875, 64349, 64572, 20222, 22129, 29178, 53952, 21244, 63944, 21217, 37900, 66549, 56448, 27621, 19810, 50071, 60776, 29990, 64573, 64606, 58162, 33537, 21926, 44356, 41220, 39738, 56252, 37051, 47245, 6969, 56934, 27190, 10399, 15273, 53547, 46780, 56466, 61661, 56476, 15289, 58060, 65410, 16773, 42226, 22576, 42009, 9074, 22199, 31733, 8330, 37969, 27370, 23579, 50293, 65985, 23959, 33532, 25314, 63022, 67356, 56500, 37031, 27302, 67575, 38462, 28545, 40901, 22456, 60395, 59133, 40761, 64748, 50888, 12606, 13874, 65603, 21742, 21219, 59213, 5908, 4453, 31935, 21481, 65847, 52287, 36275, 60459, 31600, 61564, 45735, 27308, 39546, 8493, 34954, 22761, 50070, 6958, 39861, 2748, 22130, 29318, 38811, 6513, 14209, 26459, 67365, 66115, 12422, 15636, 46701, 58106, 48954, 17008, 44468, 20901, 46615, 62835, 28205, 35289, 54014, 19998, 33852, 30398, 33599, 410, 1573, 58137, 56632, 36883, 23268, 23838, 41376, 23628, 852, 60250, 56479, 36196, 20063, 40296, 7386, 52874, 52712, 27558, 42073, 54853, 52051, 10784, 4716, 19043, 33797, 8333, 20959, 34547, 22026, 43204, 65287, 23882, 50155, 62004, 63112, 49264, 58742, 17355, 59849, 68380, 16534, 50149, 14797, 21804, 2815, 33854, 30481, 63405, 51407, 46844, 41969, 50705, 18375, 33342, 51587, 14184, 24907, 51657, 42970, 29960, 44465, 12413, 3515, 10841, 59130, 19971, 2525, 40694, 1202, 67996, 42331, 56426, 54735, 51052, 54069, 14257, 60812, 21698, 34757, 34753, 55623, 57519, 56628, 42872, 36917, 62661, 22522, 11654, 14138, 44718, 15522, 41212, 8486, 13940, 39982, 39352, 46726, 59888, 29521, 31210, 19171, 41386, 1751, 4092, 3108, 60230, 54849, 1546, 59286, 61588, 25843, 8366, 19506, 43897, 9726, 67596, 46333, 12359, 49093, 29427, 61846, 45331, 20842, 46245, 18649, 28172, 64425, 19023, 38335, 7927, 29133, 67020, 1454, 36398, 22603, 34992, 13549, 47592, 59217, 25355, 64328, 21729, 60746, 27775, 39027, 23463, 21684, 64563, 43058, 66455, 15384, 62280, 33258, 6027, 46153, 11571, 45235, 15646, 56927, 16315, 30216, 25369, 18156, 14085, 16813, 34959, 65896, 66377, 49091, 68374, 40421, 60958, 12541, 60934, 4442, 1146, 27231, 5882, 38675, 46667, 1458, 47439, 4684, 64012, 7741, 68028, 57882, 24975, 59861, 15064, 59876, 46385, 33845, 7951, 60814, 68274, 54150, 48510, 51451, 41320, 56694, 1499, 10030, 1724, 58568, 66906, 14537, 23458, 11643, 13512, 67388, 2034, 34342, 21645, 41315, 22131, 558, 53690, 55366, 42160, 47169, 30226, 59216, 23373, 48206, 30519, 40411, 37837, 55388, 66601, 34928, 62965, 19694, 48536, 29951, 10087, 30064, 12337, 39129, 3412, 55000, 45117, 66767, 2670, 20246, 25729, 67379, 42162, 66312, 17011, 35884, 38333, 51093, 17603, 49303, 22364, 3506, 42043, 11213, 7738, 34898, 40400, 4919, 22084, 62970, 41037, 30220, 8133, 23487, 54268, 49353, 19270, 57112, 40412, 4133, 8490, 32099, 38586, 45080, 65167, 2129, 8996, 10557, 1654, 64114, 57953, 38459, 55679, 22087, 14177, 57422, 22470, 50044, 56238, 22462, 23325, 18265, 5694, 35723, 28878, 15072, 17267, 60738, 42748, 22540, 53368, 10188, 37104, 29753, 31275, 57025, 7651, 46577, 50812, 49623, 66954, 55286, 55954, 1497, 17023, 32412, 11692, 58075, 65889, 28706, 17102, 13099, 13106, 1967, 39548, 34749, 58995, 9914, 57108, 25304, 22016, 23844, 34899, 65853, 140, 39558, 1257, 18475, 21020, 18312, 6019, 6852, 46408, 12521, 31200, 56449, 60763, 43054, 16312, 58543, 37584, 41944, 39583, 27561, 10177, 14662, 37212, 48242, 53217, 45240, 809, 53219, 47846, 8173, 58711, 67138, 65340, 42689, 17819, 22662, 58738, 32204, 43999, 23735, 24754, 12195, 26704, 10568, 14153, 47280, 48011, 64861, 39457, 24854, 67483, 37664, 18996, 6681, 66125, 11231, 22177, 30670, 21164, 41049, 58713, 11926, 12138, 47492, 26386, 63152, 66737, 53292, 1536, 6180, 46136, 54838, 23904, 65887, 18392, 6629, 32806, 61111, 60521, 20845, 45626, 55385, 29046, 22306, 38676, 55391, 57607, 13782, 53014, 31207, 30951, 12779, 34607, 682, 24863, 53903, 64612, 53957, 22600, 30195, 34311, 37747, 14154, 15260, 3486, 62002, 15356, 15914, 53595, 46727, 57639, 51993, 24030, 36787, 22497, 52825, 36208, 28264, 56809, 51050, 61856, 31784, 2880, 21047, 11108, 63684, 35520, 5592, 11223, 53348, 60111, 22390, 44514, 57879, 10381, 3501, 36, 3104, 52820, 15521, 53955, 33574, 61899, 43544, 49453, 28714, 21276, 32494, 4778, 12742, 55735, 58232, 41054, 29789, 4478, 60403, 2829, 13441, 6205, 22629, 64761, 7855, 57522, 27306, 36287, 58483, 46317, 22930, 31604, 34250, 10428, 54073, 57539, 50850, 4968, 54340, 20872, 55938, 20057, 13373, 16775, 62014, 45664, 15040, 39637, 23212, 27002, 33541, 22989, 60949, 62495, 58418, 12466, 61019, 22927, 27605, 9418, 3278, 35527, 38321, 65504, 21271, 66483, 31025, 10054, 64751, 54740, 66476, 48517, 61413, 4125, 55904, 62852, 57862, 58819, 17745, 62947, 27854, 32666, 41684, 62568, 56652, 4520, 10709, 36279, 65411, 19267, 11004, 42096, 10684, 15525, 50296, 22058, 44491, 67166, 10869, 46000, 13105, 7771, 21633, 24248, 4146, 64558, 56423, 60597, 42752, 56871, 44221, 11710, 37000, 12251, 15297, 51240, 22744, 14336, 58760, 36035, 56207, 54158, 50289, 7518, 18404, 50627, 61633, 12693, 35753, 6407, 42179, 48544, 21216, 58985, 76, 1735, 42092, 35789, 41401, 22537, 20558, 31077, 28092, 2064, 42759, 58424, 16800, 58412, 7554, 37737, 62470, 55140, 24153, 31823, 64779, 27059, 19981, 19868, 18179, 5380, 27523, 46118, 63860, 67262, 21433, 16435, 45969, 61192, 21273, 15888, 47167, 12512, 25104, 47839, 17007, 26475, 21619, 5268, 23274, 35496, 39332, 23276, 49003, 16908, 3510, 1550, 34814, 26138, 21943, 3581, 16207, 3100, 35265, 14236, 13236, 1777, 35438, 50190, 66856, 43898, 54810, 23078, 66026, 92, 3507, 4145, 771, 15466, 47173, 1091, 16530, 51109, 50885, 21158, 20348, 8240, 14919, 50148, 21546, 31832, 28537, 35512, 31159, 32578, 61962, 57526, 55835, 47377, 14649, 29956, 60025, 61659, 26363, 60580, 25150, 60304, 11867, 46117, 3886, 1907, 33395, 32838, 22009, 1498, 57183, 7945, 14155, 21692, 10367, 6833, 12520, 13306, 45568, 2416, 61119, 20837, 12333, 30397, 48299, 52949, 36181, 24530, 54691, 61849, 50051, 27969, 18361, 26037, 61316, 40043, 67071, 20953, 32053, 28992, 1563, 12296, 12943, 29786, 50194, 28719, 45681, 47493, 9166, 56354, 34960, 6704, 37704, 65938, 17045, 42335, 7808, 59700, 46185, 18230, 54006, 14265, 4161, 15123, 32144, 30798, 15261, 28310, 15390, 65216, 67278, 32707, 2760, 55093, 10561, 32323, 733, 58670, 37662, 21625, 36278, 46007, 61850, 29514, 18474, 108, 18540, 5913, 3387, 10668, 27842, 814, 23478, 66257, 59169, 57810, 14160, 12186, 7830, 44365, 57797, 53223, 23507, 22539, 13642, 47635, 4619, 2557, 66044, 65223, 35725, 23371, 58906, 52053, 10968, 16786, 41343, 16446, 26275, 40320, 39194, 35143, 37357, 58419, 63870, 3378, 39859, 61790, 14156, 1177, 27481, 8274, 38730, 34758, 52468, 58066, 58834, 48529, 42534, 16197, 55084, 52371, 48303, 18149, 17006, 47638, 28937, 51992, 4028, 23188, 21449, 67462, 25010, 21735, 60779, 40111, 43111, 13368, 22090, 4806, 19809, 37882, 12940, 49304, 51356, 11835, 43993, 29865, 26946, 11706, 60268, 45629, 24384, 37206, 42756, 55397, 36277, 52005, 30554, 39021, 67303, 627, 47678, 12415, 4425, 22861, 36017, 22464, 5365, 11196, 30654, 20040, 11383, 11295, 15906, 22632, 42182, 31466, 52758, 67458, 56603, 23263, 43003, 2476, 45763, 46664, 13155, 2478, 63547, 1351, 5830, 29948, 13271, 21041, 33127, 66589, 44531, 28579, 38612, 65902, 56814, 41998, 25735, 25972, 38607, 63151, 52737, 45256, 41168, 21916, 1930, 14030, 44008, 65982, 8721, 9890, 13345, 57836, 16313, 23270, 56298, 20017, 28340, 40898, 3496, 49271, 13838, 32778, 24505, 11139, 40478, 4134, 10675, 11629, 60469, 48092, 57647, 19160, 3416, 39985, 19070, 7332, 60863, 37700, 39157, 39262, 32684, 31198, 30396, 46941, 41132, 5909, 22303, 1259, 36149, 39638, 59121, 21993, 35243, 11875, 4031, 58840, 46080, 11025, 9671, 53344, 16287, 58033, 34333, 55276, 3503, 43280, 3371, 30018, 11579, 67105, 20405, 778, 4039, 41787, 47516, 12752, 11734, 65683, 17874, 39420, 2441, 26425, 44378, 16336, 66907, 66142, 28404, 23445, 60188, 53954, 26205, 13670, 49292, 20168, 38669, 36388, 57990, 1243, 49902, 46079, 14166, 18428, 55377, 38585, 58640, 61300, 24869, 16366, 31336, 62332, 29888, 23639, 2386, 9705, 12424, 1828, 39098, 20215, 35899, 26447, 38834, 51251, 3195, 61987, 8565, 18032, 51563, 47310, 32280, 65485, 21557, 41068, 3998, 36378, 16432, 52775, 29112, 11051, 9077, 41624, 15388, 34493, 1322, 23751, 64953, 19504, 59900, 53885, 67461, 49246, 35575, 60305, 30573, 44374, 65514, 29068, 58379, 45237, 3597, 48091, 36727, 13286, 49193, 63196, 43281, 62471, 54369, 19295, 25929, 54094, 9505, 33296, 45538, 47332, 9670, 49759, 43064, 1284, 32461, 47840, 62019, 43214, 57619, 34725, 25863, 1265, 30538, 49046, 30300, 41592, 27744, 22495, 25667, 1524, 19064, 9896, 7249, 44412, 64444, 3232, 23689, 34929, 33257, 13303, 10827, 13543, 46859, 27256, 4252, 21422, 25897, 43116, 66620, 61420, 63274, 53557, 27802, 47388, 53555, 5676, 14814, 22471, 53492, 45932, 34876, 13301, 16324, 9335, 48481, 8718, 56351, 8298, 48649, 46550, 19191, 53525, 21021, 65226, 14409, 20780, 57176, 36187, 48936, 51418, 23307, 39281, 20468, 2686, 50884, 12582, 24945, 54455, 8520, 2124, 57963, 9741, 63351, 62651, 62941, 32419, 63016, 47699, 60990, 63930, 29047, 44246, 47453, 47968, 53006, 59032, 65513, 13585, 54606, 17061, 18641, 18572, 58431, 65972, 37988, 8150, 52288, 67104, 59287, 61266, 43917, 12524, 55618, 40190, 45590, 19699, 54695, 23516, 8092, 49449, 66320, 23070, 58903, 14734, 17192, 18255, 49180, 23407, 9663, 29385, 52945, 5183, 60217, 23324, 28020, 27547, 65285, 22186, 46670, 58250, 3084, 18599, 53528, 1963, 7229, 59220, 18213, 43713, 21656, 1477, 59215, 29424, 44481, 46004, 37964, 6009, 47830, 50709, 60777, 26744, 57654, 56816, 66297, 51265, 18280, 16562, 19156, 21585, 18922, 28176, 7191, 19813, 65346, 42760, 66797, 37592, 10109, 68046, 4782, 57713, 47056, 13778, 59879, 18505, 36184, 14717, 54622, 51204, 61898, 50180, 65111, 25016, 43848, 62281, 34986, 66315, 59276, 35295, 49420, 20647, 53678, 16409, 18545, 58788, 67017, 18476, 13437, 28983, 7317, 2236, 22422, 29141, 32340, 13153, 40024, 26087, 15538, 6046, 35034, 47953, 67412, 4138, 3753, 42623, 46672, 7381, 24210, 41217, 63290, 6628, 23825, 50815, 53372, 35959, 24881, 31473, 18560, 47563, 21724, 26472, 7341, 40703, 32526, 29042, 66914, 30395, 47291, 60288, 26650, 27314, 66039, 49566, 29704, 33387, 63123, 1910, 2258, 16529, 3602, 5806, 8661, 31959, 38399, 2473, 58382, 20214, 16288, 48583, 27866, 64480, 41019, 47831, 17309, 63554, 52518, 29765, 9382, 50656, 26481, 1, 57141, 1230, 33467, 10531, 62287, 46037, 49757, 18481, 31092, 24547, 57530, 36301, 51855, 58786, 48100, 21389, 58024, 47346, 54245, 50100, 46880, 11446, 9558, 34608, 6438, 48671, 47491, 3040, 62231, 40054, 57865, 24944, 7978, 53837, 65489, 17191, 22135, 57707, 16728, 60314, 34141, 42289, 7152, 16306, 4783, 21099, 2394, 61083, 53365, 58942, 31230, 20834, 27604, 34403, 60242, 40696, 28182, 15643, 49305, 21955, 37054, 179, 48962, 42250, 20874, 23971, 31949, 18596, 2245, 41550, 52609, 21701, 14252, 15094, 11181, 50492, 39724, 50838, 35730, 21591, 25674, 59615, 51304, 62273, 31031, 7131, 4441, 35901, 12267, 9652, 29905, 23699, 21829, 21292, 66064, 21437, 26321, 66725, 11699, 14819, 9463, 22577, 14323, 47821, 46416, 54482, 60307, 14172, 61153, 35224, 23935, 1755, 63741, 8162, 4122, 29604, 9964, 49102, 47498, 21102, 10032, 30994, 8145, 19366, 61118, 58357, 36121, 32096, 52893, 27218, 49889, 3121, 35242, 43741, 35432, 39559, 24091, 60649, 28547, 35631, 4137, 35232, 54692, 65717, 34631, 15915, 15096, 23214, 23378, 60324, 23477, 13438, 53623, 9224, 26102, 47841, 37783, 56641, 62966, 29474, 24663, 46842, 64550, 66592, 61288, 66252, 57682, 58707, 57687, 10982, 21275, 51826, 55497, 13008, 36024, 11202, 44761, 52136, 64446, 41192, 47281, 59253, 39586, 9923, 49237, 48716, 62310, 64034, 37007, 33847, 27093, 15104, 61549, 14472, 12025, 29853, 55508, 47076, 8406, 15475, 48414, 3264, 58883, 43707, 48806, 56348, 46661, 42572, 4466, 12497, 65973, 57106, 50111, 33534, 14659, 13943, 63871, 62026, 50834, 50512, 8430, 14442, 22085, 17421, 5754, 25826, 65607, 49514, 44523, 39182, 44019, 66964, 31079, 21162, 31821, 9305, 58780, 18421, 17114, 22965, 47917, 5565, 20955, 11819, 27235, 34933, 20645, 50054, 29374, 29449, 43973, 55369, 29476, 34701, 506, 59055, 40697, 28672, 43929, 27065, 57838, 45648, 30950, 54954, 9328, 28311, 56930, 6835, 35503, 40160, 24850, 60271, 52086, 49848, 32303, 9584, 17196, 63895, 51425, 63947, 47178, 40719, 60783, 124, 23122, 1955, 55164, 13409, 29216, 14957, 31073, 21554, 27200, 53911, 12614, 13984, 52954, 47864, 23957, 42347, 51811, 67521, 39136, 8725, 41699, 3150, 26145, 13757, 23181, 37037, 50142, 327, 34893, 15418, 11180, 47672, 32368, 50518, 27781, 51714, 22749, 60607, 48871, 5972, 45097, 51630, 34312, 56929, 52299, 65445, 12330, 11109, 62569, 31603, 35036, 50404, 31352, 56743, 35467, 36186, 23571, 55685, 64764, 54745, 20313, 42132, 59673, 16410, 66978, 46697, 25452, 30417, 67314, 61038, 2053, 21246, 46551, 41974, 560, 22926, 11048, 23215, 27470, 26597, 5313, 61701, 7085, 66259, 45677, 18477, 351, 37958, 37535, 14542, 64860, 39257, 10562, 64534, 32237, 43919, 11510, 9242, 21245, 9876, 62133, 3157, 37204, 739, 33923, 33476, 41193, 364, 19789, 5564, 23551, 38327, 61640, 23827, 11508, 37050, 31841, 50818, 58934, 50108, 33227, 15400, 23498, 30149, 60055, 13873, 4599, 36603, 58265, 66490, 51527, 56621, 29050, 59262, 6130, 28712, 9025, 58304, 53608, 45922, 26105, 36884, 26192, 36252, 64669, 13894, 56656, 42024, 54074, 406, 61043, 58759, 15909, 2276, 47368, 13257, 48611, 8499, 53776, 3151, 12312, 14165, 67147, 47188, 51314, 55295, 49349, 66215, 31342, 56991, 3066, 8331, 19627, 36223, 18460, 25570, 60614, 56896, 16004, 12911, 21919, 1217, 12308, 20506, 40476, 20779, 37972, 55805, 20106, 55492, 65336, 43063, 21652, 44731, 19251, 29851, 50332, 58425, 2201, 13123, 53532, 21250, 3058, 20105, 60515, 23382, 12712, 19223, 47500, 17876, 28351, 1313, 30605, 56851, 41203, 38559, 32754, 1329, 55302, 50495, 19572, 8958, 6716, 417, 24293, 21563, 1589, 18463, 9453, 45918, 18637, 47362, 59008, 54044, 55208, 57550, 59628, 3236, 2273, 32476, 5144, 50200, 15067, 30895, 40078, 26189, 28981, 10189, 10715, 26617, 647, 19659, 31463, 412, 61394, 58240, 63359, 21349, 28480, 20963, 33674, 12360, 47129, 15060, 1380, 2138, 19046, 21353, 56582, 156, 1909, 66087, 50480, 34838, 61086, 6948, 61454, 33588, 5771, 37804, 4430, 40119, 55281, 26506, 40609, 11504, 34694, 51575, 1517, 9873, 58467, 1286, 29450, 63192, 34609, 65727, 46125, 27216, 35907, 31410, 42622, 23901, 50746, 38027, 13924, 55986, 22067, 21043, 52554, 66399, 60290, 38812, 16329, 12456, 29793, 31190, 57928, 8623, 53410, 15749, 31225, 43922, 21358, 57605, 15275, 55558, 33484, 60308, 53810, 10190, 60102, 10356, 30551, 38348, 18351, 41130, 43055, 46616, 58514, 17845, 61084, 13906, 24930, 28319, 2690, 17943, 42111, 16581, 1780, 61986, 3069, 13002, 59408, 16079, 15391, 7220, 15162, 48132, 20886, 9064, 37669, 8640, 9769, 19325, 25895, 37384, 44530, 10138, 31676, 66291, 8723, 15479, 63750, 28921, 37828, 55039, 15375, 18311, 57121, 37842, 54324, 49849, 2382, 4748, 54201, 13424, 52082, 10497, 43638, 4426, 64055, 38925, 57043, 63550, 25508, 45236, 14330, 65899, 27484, 59238, 65294, 26086, 6076, 1269, 884, 39243, 31533, 44569, 67434, 57895, 45395, 27851, 16367, 61931, 20009, 24369, 5604, 42155, 38840, 29761, 41472, 61705, 51471, 43467, 60563, 14167, 48831, 1745, 47414, 44630, 55608, 30942, 50358, 15392, 32536, 54042, 14716, 66038, 51388, 53669, 7870, 1381, 6179, 52073, 17019, 55975, 52822, 34168, 35398, 47217, 54527, 35267, 8259, 51215, 58462, 10473, 2404, 35325, 58071, 41848, 17995, 47170, 47779, 46836, 43452, 4598, 39254, 26484, 41383, 52074, 1660, 40764, 62445, 53873, 55669, 61455, 60741, 47232, 20894, 12732, 41342, 38322, 54789, 18420, 13945, 55060, 34307, 3293, 17573, 60697, 31046, 58166, 32762, 68391, 7059, 23312, 47603, 60214, 422, 56757, 59173, 2340, 5822, 14092, 42697, 21120, 1538, 8161, 38748, 30641, 6178, 20282, 30783, 48209, 27360, 9384, 7231, 38460, 21283, 66934, 57643, 42575, 45964, 38337, 7009, 59891, 16825, 50217, 39288, 2816, 55375, 57189, 50331, 23314, 39689, 40521, 12559, 2965, 6944, 62015, 24875, 58374, 47700, 21657, 9045, 13959, 22859, 45562, 65143, 62250, 22994, 63490, 34781, 43354, 61337, 3018, 16134, 10538, 10713, 47349, 38728, 20398, 32168, 34904, 60621, 50333, 18281, 5638, 16153, 58164, 27506, 58782, 66187, 29958, 43621, 23327, 54840, 58354, 28886, 25789, 46018, 9389, 36421, 29950, 43422, 59043, 14268, 53405, 6118, 41323, 20526, 39132, 19961, 28505, 38940, 12448, 39454, 12255, 32332, 34391, 65279, 40201, 9733, 31582, 21170, 9161, 46019, 32801, 29945, 48670, 35672, 2116, 24666, 65250, 11886, 23003, 4801, 23216, 50045, 22391, 1688, 56522, 21906, 18286, 32784, 57285, 57076, 38673, 16292, 30425, 64635, 45901, 54038, 5115, 60023, 11827, 53666, 61872, 13705, 35244, 859, 11465, 3385, 44201, 47524, 21316, 10645, 67089, 60474, 57470, 52247, 14174, 8917, 21161, 13230, 51111, 5849, 31416, 4036, 50367, 5502, 53704, 20983, 12576, 42893, 9891, 61656, 10327, 28744, 52639, 66249, 35724, 423, 32785, 32570, 50939, 8924, 31601, 11838, 10597, 11696, 43596, 29742, 8897, 13494, 16537, 21820, 15191, 55410, 47275, 52001, 36786, 16681, 43433, 51169, 30894, 19271, 28506, 6127, 66995, 29056, 46409, 67257, 51674, 8956, 20204, 4789, 14480, 13871, 6467, 25510, 38980, 34932, 62785, 9722, 41288, 50925, 55734, 45099, 22315, 40896, 42166, 12431, 10789, 39125, 27815, 57107, 8967, 63945, 27204, 48983, 2691, 28026, 39387, 62405, 31220, 48661, 11216, 27568, 10357, 25521, 1938, 26561, 29961, 12753, 31087, 4440, 32862, 27701, 45036, 6979, 17077, 4474, 63545, 16683, 56892, 16961, 8279, 42753, 45984, 34677, 55109, 10584, 16560, 30475, 48830, 28900, 55730, 42168, 60277, 13446, 62196, 16337, 4281, 11774, 67030, 47987, 20107, 57640, 49243, 45326, 59736, 28569, 51412, 48233, 38815, 65860, 32529, 32612, 46325, 18403, 33538, 37208, 45639, 1170, 62376, 53944, 57426, 67576, 28988, 378, 49000, 37810, 57670, 1834, 53604, 54173, 57834, 13081, 20646, 27313, 60700, 11006, 30247, 61120, 7499, 8037, 45100, 61249, 59881, 1383, 35711, 58295, 49846, 66459, 24397, 55134, 67923, 49712, 4391, 61757, 49643, 9462, 39550, 8929, 36835, 3942, 22120, 18844, 52069, 3000, 47784, 12755, 15809, 10656, 60613, 38436, 26599, 16801, 32296, 27577, 42369, 17422, 28936, 54744, 49348, 62414, 59935, 46723, 63240, 56359, 40393, 10657, 40371, 26790, 50524, 25669, 17317, 23434, 22925, 14923, 29661, 8427, 16155, 66280, 58300, 30689, 63908, 40330, 1831, 18479, 14742, 6786, 45092, 61436, 28418, 18684, 28582, 7073, 47136, 17234, 44015, 61080, 15182, 34188, 23150, 9865, 692, 39043, 27270, 16199, 42423, 7151, 37611, 13302, 51293, 11559, 36384, 59307, 58714, 40022, 67276, 27798, 61220, 50086, 40500, 28325, 23518, 39167, 17424, 66246, 123, 62602, 50189, 39938, 41790, 46902, 12088, 31462, 62952, 10777, 45474, 4615, 26883, 58048, 26646, 25180, 38928, 62499, 193, 21689, 36205, 12353, 61042, 34534, 56992, 35529, 58381, 67268, 14863, 65892, 32015, 63737, 3940, 24282, 11821, 42381, 47780, 48508, 49202, 58114, 21621, 47574, 26557, 42045, 9905, 31661, 35988, 26277, 35068, 58017, 27718, 16017, 8676, 32713, 22753, 53589, 26914, 49004, 53706, 13001, 58704, 24601, 48095, 54156, 418, 19190, 36182, 1029, 63902, 27382, 42191, 58820, 58283, 54100, 54787, 6770, 62398, 50833, 58613, 8265, 29337, 63675, 42239, 2979, 3056, 17074, 18926, 45549, 21274, 18362, 462, 40377, 7313, 40417, 57783, 12509, 39849, 46653, 56409, 13220, 18784, 21258, 35846, 30285, 56130, 20827, 30611, 54815, 67733, 8466, 3900, 27710, 67369, 498, 42741, 3508, 57890, 23572, 42144, 16691, 66788, 51273, 66058, 60044, 65429, 13121, 46529, 50425, 61566, 14322, 21997, 11266, 4804, 19653, 51890, 22711, 13460, 51796, 8762, 16969, 11151, 59254, 31476, 10574, 48277, 17767, 22474, 64112, 25407, 4564, 66238, 66355, 28473, 13379, 58874, 7603, 65664, 45709, 23286, 47305, 2875, 54657, 48273, 58086, 27169, 65849, 55257, 8918, 2607, 53842, 8388, 35182, 3755, 42286, 22616, 65891, 41937, 21379, 12364, 34528, 12872, 38561, 29078, 56167, 13139, 55641, 64428, 14264, 25612, 22715, 56234, 13660, 47497, 9490, 18298, 24070, 47547, 43113, 1770, 44591, 54967, 10626, 64177, 47655, 60848, 55967, 1266, 27807, 40047, 590, 9296, 25767, 50060, 66554, 13621, 61076, 5258, 50978, 55032, 32001, 61348, 49239, 9703, 33474, 10210, 35835, 21910, 19041, 16289, 50600, 65168, 58827, 18308, 57416, 19218, 2477, 20700, 7030, 20660, 8694, 21242, 44515, 19021, 1358, 54832, 58368, 40592, 62213, 43523, 30709, 6131, 58509, 47328, 11261, 36595, 1560, 9960, 54154, 57922, 22858, 55340, 36392, 51233, 45563, 51325, 44011, 13344, 58266, 61146, 66746, 39198, 10465, 21934, 33323, 36433, 4902, 45593, 61762, 51477, 43092, 11881, 10134, 6142, 7729, 1049, 58016, 60216, 31228, 48614, 21079, 19217, 26069, 38408, 57155, 22672, 35579, 53502, 33555, 50840, 5702, 55155, 21080, 14690, 11480, 21681, 35275, 44609, 36123, 51421, 45010, 58852, 49288, 20897, 60275, 28342, 47847, 50671, 66251, 11817, 16462, 63023, 29866, 11360, 61091, 28788, 65684, 38343, 18941, 57589, 17734, 16419, 20035, 58678, 54611, 46400, 65687, 35347, 29119, 61032, 52755, 63912, 46173, 46734, 64069, 23468, 15306, 19454, 47293, 55228, 48511, 15751, 30559, 6579, 32341, 33003, 17071, 65962, 19980, 18257, 66040, 16814, 48975, 39624, 50103, 49250, 21315, 26202, 52644, 33824, 622, 58623, 33688, 7490, 37795, 63157, 51621, 60219, 55239, 11720, 12418, 17542, 66132, 19825, 67547, 62298, 58309, 14299, 15958, 551, 8102, 53767, 17538, 36838, 26113, 28177, 29684, 60971, 51432, 23632, 65904, 61976, 34786, 365, 62823, 53784, 2656, 51529, 20002, 5574, 33678, 30852, 51, 44347, 14043, 28716, 5435, 4221, 13120, 4239, 59279, 58790, 12751, 41350, 60487, 40328, 36183, 28612, 37333, 35454, 67650, 51868, 42496, 61941, 53269, 18713, 1645, 8019, 16847, 62021, 20654, 61121, 41433, 36871, 31223, 23899, 31556, 58569, 15171, 22765, 50835, 39349, 27016, 4177, 67167, 57063, 10780, 31238, 2037, 47197, 18041, 49620, 14522, 28479, 9760, 19931, 11425, 62850, 56842, 29063, 339, 11597, 29329, 28058, 25999, 58933, 17226, 67044, 50147, 12523, 27249, 54037, 16695, 52283, 9394, 51068, 22345, 17120, 66062, 32041, 9825, 41434, 27127, 45098, 23603, 57096, 11763, 48665, 31763, 29605, 5667, 32200, 45505, 10802, 15693, 315, 41135, 5838, 59547, 8354, 61060, 25113, 13398, 23806, 56915, 51567, 28767, 4476, 6571, 15036, 328, 31686, 46302, 18512, 50334, 27145, 7695, 8045, 25961, 64546, 28803, 57216, 19473, 7128, 53224, 25436, 67612, 36179, 66981, 37883, 57685, 374, 42145, 5607, 21012, 4768, 25263, 64497, 21330, 12563, 56615, 59290, 38515, 3884, 19827, 6042, 26924, 30179, 7565, 4232, 18515, 11822, 28722, 8711, 5832, 48101, 420, 53930, 48829, 15539, 64554, 31095, 28791, 56971, 21310, 55124, 52757, 21945, 3852, 51586, 57711, 3043, 15069, 14157, 12754, 55891, 41278, 5295, 792, 56643, 49567, 12945, 47237, 5062, 30703, 29854, 21106, 39460, 54206, 65995, 54343, 5656, 22443, 60115, 59478, 15050, 5164, 59239, 11790, 51682, 48586, 41696, 16592, 54603, 36628, 61063, 46582, 30215, 40722, 49452, 41788, 67040, 59903, 15971, 13065, 14491, 61791, 42548, 21350, 8446, 8480, 21589, 34185, 47508, 9942, 6495, 32574, 58443, 65227, 58575, 11816, 62961, 6685, 12311, 20793, 66417, 23601, 49515, 2362, 23717, 10092, 12285, 27579, 14735, 30182, 57823, 22046, 50529, 1554, 25626, 44716, 50072, 65203, 5211, 48200, 1872, 64205, 42823, 49240, 19197, 62938, 2448, 12821, 36540, 49448, 48248, 5419, 17671, 28354, 49700, 35851, 39730, 58705, 62790, 3792, 50651, 36863, 10825, 35373, 53876, 25480, 60093, 35082, 56355, 19934, 33470, 6952, 67849, 13676, 66037, 28880, 32846, 58301, 55943, 3786, 1738, 27764, 58846, 13709, 58612, 23367, 7226, 4288, 50223, 18121, 47146, 28976, 65114, 23857, 4255, 47947, 41370, 1350, 13231, 35847, 29573, 5589, 16225, 17022, 55193, 27971, 50491, 32500, 23708, 37976, 62572, 22022, 60278, 37730, 3514, 50222, 17221, 21489, 44117, 60906, 12145, 59602, 388, 2087, 30248, 44778, 19936, 44101, 10498, 41519, 65778, 2161, 39703, 302, 23285, 57227, 12885, 27489, 21857, 67148, 33802, 32779, 18275, 62191, 30001, 34134, 10608, 56980, 10679, 61620, 30443, 5933, 51085, 10098, 64421, 13101, 53350, 62236, 4467, 47772, 36023, 22200, 51664, 31672, 62103, 50422, 58841, 26201, 4418, 5819, 14709, 66162, 53752, 49096, 38620, 31698, 25409, 67429, 30962, 10314, 21190, 41290, 27426, 57391, 424, 45554, 32331, 29520, 33189, 18019, 53096, 15091, 45805, 60435, 4631, 12915, 4017, 50416, 62094, 6092, 28987, 46714, 62505, 6787, 35795, 29198, 46016, 16533, 24922, 37974, 25892, 50686, 42658, 63882, 30360, 13877, 65552, 58975, 16118, 57171, 35515, 66033, 31076, 35600, 572, 42072, 52809, 34525, 20727, 37600, 10153, 8316, 39643, 18206, 8698, 9719, 12736, 44474, 44722, 59258, 44265, 22206, 20562, 53905, 52048, 42861, 16103, 64273, 41734, 27824, 19038, 31472, 52354, 59521, 42763, 50814, 10914, 22370, 37893, 59523, 41439, 31161, 3505, 26465, 49570, 37558, 42157, 44164, 16157, 31098, 40661, 24240, 49632, 27445, 28392, 58772, 18563, 15110, 8119, 11635, 16433, 9729, 61628, 49270, 12271, 40323, 47573, 58260, 33057, 46763, 42656, 47327, 22100, 18356, 23591, 60149, 15673, 27142, 12479, 0, 44532, 54075, 33959, 45514, 57026, 17015, 36979, 23098, 52109, 35743, 46071, 22498, 17253, 14756, 8470, 33600, 1775, 67426, 58079, 55234, 57032, 1396, 7124, 2343, 8657, 47016, 4107, 16195, 19169, 30790, 40767, 1090, 60651, 66869, 49725, 66243, 64883, 358, 37786, 53598, 67277, 17753, 22117, 15068, 18862, 57302, 8390, 19195, 35960, 24871, 61974, 65003, 21022, 13184, 3947, 7934, 45897, 67381, 1161, 50146, 47267, 5533, 29200, 47738, 13411, 18977, 43530, 51458, 6224, 45197, 42393, 9255, 45573, 43474, 44788, 41536, 9579, 10300, 30634, 20213, 1864, 24074, 20008, 54267, 13797, 24252, 52427, 11505, 55724, 51247, 48754, 19059, 58963, 67088, 35272, 55256, 27944, 45615, 65658, 66242, 29478, 63943, 61256, 32804, 66237, 2711, 15704, 385, 15206, 6062, 64939, 12331, 15285, 11877, 18294, 15912, 2332, 3537, 57578, 29003, 9527, 26306, 50813, 47636, 17601, 30369, 49771, 19065, 63800, 60263, 59428, 46166, 59281, 35650, 35471, 9773, 21313, 26022, 44480, 65067, 47703, 31678, 58743, 15312, 9473, 2832, 52714, 48272, 65290, 62467, 37852, 32158, 49451, 3287, 30735, 54441, 382, 22487, 3336, 24787, 6328, 64734, 15498, 46724, 52311, 5331, 32724, 41636, 354, 66502, 44742, 39584, 51957, 1691, 32708, 32641, 48159, 49774, 33319, 12421, 21309, 4473, 9419, 10390, 14018, 40777, 50614, 18107, 42984, 9846, 9731, 3584, 59352, 59183, 6193, 61646, 38887, 3838, 26832, 65372, 6346, 14457, 24168, 53381, 57717, 17037, 54237, 31599, 3485, 1739, 18511, 57042, 56493, 2592, 57752, 5851, 8750, 11502, 53910, 57652, 14132, 14029, 4931, 14276, 63115, 58584, 14767, 49829, 43824, 36326, 22735, 8269, 467, 27264, 43473, 35758, 46933, 35465, 59793, 12054, 54697, 26193, 6821, 27354, 10048, 51097, 47277, 384, 11169, 376, 37524, 3048, 65927, 58807, 41012, 29305, 10502, 53670, 29053, 4521, 37884, 11575, 13261, 20419, 33490, 61247, 67506, 14163, 47576, 28697, 50682, 50366, 42197, 16413, 54487, 27967, 21369, 38312, 42505, 50252, 42896, 39723, 48199, 39994, 51081, 55261, 8053, 4957, 19697, 33306, 21789, 46784, 63258, 13661, 11573, 41448, 66735, 66244, 62011, 26595, 31429, 55711, 50654, 67474, 2882, 11949, 47906, 35022, 10963, 41476, 40335, 18877, 3422, 21031, 31474, 65612, 11142, 48186, 29902, 54264, 53256, 29276, 65457, 35223, 6008, 50625, 40701, 28000, 66812, 24550, 32243, 338, 66079, 20183, 47353, 20139, 54718, 59622, 67816, 49259, 43704, 33488, 34830, 2226, 7354, 43705, 20714, 64745, 13653, 11605, 38677, 10786, 2796, 4379, 6657, 31529, 19087, 16372, 38678, 54325, 43536, 37288, 42773, 56424, 10192, 31802, 31070, 18715, 6235, 39230, 47378, 55254, 34789, 12826, 52085, 50156, 54107, 11179, 25015, 12775, 56069, 23744, 46590, 29477, 59482, 50398, 26601, 34832, 48668, 51662, 44306, 13322, 28538, 56852, 13879, 21240, 53221, 46702, 57484, 67900, 2584, 59769, 58167, 19776, 50055, 35149, 16333, 13374, 52394, 35178, 67544, 27769, 39509, 8722, 3427, 49082, 32184, 12530, 48460, 59260, 51400, 61703, 8605, 32617, 36325, 48163, 50048, 11928, 50580, 11318, 12492, 26256, 2877, 2300, 48131, 51926, 6169, 60918, 874, 348, 49752, 10364, 61054, 32702, 31587, 67215, 50053, 47940, 4969, 16772, 64136, 67380, 46950, 15891, 41692, 67093, 45567, 29359, 55406, 15877, 42652, 1275, 49510, 46967, 59122, 2301, 14417, 22993, 1189, 1964, 39365, 20559, 314, 12639, 359, 19513, 6828, 66637, 64915, 56673, 36532, 20250, 44111, 64394, 30249, 6775, 1291, 419, 1116, 18425, 9337, 16809, 14332, 35754, 48889, 67902, 11162, 32561, 39878, 34710, 49385, 38464, 45868, 12352, 29037, 41506, 11029, 57590, 16816, 50049, 24072, 56555, 8669, 352, 53782, 16907, 31279, 1902, 65025, 61081, 12697, 7258, 55621, 36354, 21023, 54809, 49872, 8204, 23258, 43146, 45365, 30010, 6939, 16369, 37468, 62801, 53841, 25181, 54653, 11700, 31552, 37671, 67508, 29755, 48834, 2288, 37491, 9872, 17873, 5534, 3941, 47128, 67169, 12583, 48500, 10470, 14144, 30859, 32537, 66180, 22704, 65434, 67651, 4586, 2095, 50971, 27471, 26666, 14010, 17026, 30555, 15013, 63690, 21883, 3284, 50476, 29891, 16219, 57835, 44281, 44450, 4470, 66446, 31186, 54105, 46978, 13401, 3167, 66912, 23470, 6049, 11560, 52959, 41975, 22175, 18852, 51053, 30784, 40644, 62533, 26785, 29188, 11507, 62951, 38784, 48887, 16493, 1352, 41237, 37008, 15265, 14194, 7001, 19425, 16008, 56034, 20899, 42621, 59410, 17197, 30690, 17889, 28823, 17971, 32788, 22307, 12540, 40903, 21575, 8596, 36306, 39477, 21764, 51782, 15266, 13843, 49306, 14587, 43290, 4173, 7841, 39161, 10094, 53267, 39071, 45460, 17261, 57144, 62244, 7786, 16900, 55697, 19839, 60119, 11146, 386, 42624, 63107, 24349, 49144, 21748, 10427, 52306, 6749, 48193, 27153, 54780, 4535, 23515, 17266, 17328, 60995, 56406, 6213, 43209, 23714, 16150, 17590, 4414, 39195, 10772, 35693, 57483, 8746, 61520, 22817, 54346, 64622, 16407, 42761, 53333, 61721, 35574, 56762, 42650, 8142, 34748, 37298, 6044, 22622, 66800, 3041, 25528, 14615, 2913, 36734, 43206, 43457, 1490, 47379, 43247, 19003, 57553, 36332, 1961, 11855, 379, 32848, 17319, 24188, 41007, 31061, 6651, 57866, 24136, 29319, 4942, 12580, 50928, 10911, 55745, 1838, 63166, 53603, 53907, 31642, 39936, 54836, 29543, 12640, 18925, 40700, 17265, 47283, 46733, 25971, 51503, 32166, 64881, 17107, 30305, 48710, 54104, 41496, 63696, 56444, 59782, 44517, 40001, 31980, 47064, 47451, 11021, 60029, 14665, 22719, 44608, 15847, 40133, 17638, 300, 55635, 55304, 66805, 62305, 36879, 62472, 10975, 23581, 39300, 31093, 31522, 44529, 65493, 49778, 15886, 4253, 63266, 2214, 43484, 47100, 36021, 10299, 50138, 33046, 64268, 62786, 35555, 26922, 13019, 16561, 31074, 66918, 52112, 375, 26168, 41316, 14164, 13570, 35686, 54194, 23969, 50769, 1998, 51645, 10935, 53288, 44966, 66468, 24702, 65854, 12374, 27821, 51750, 10339, 24265, 15607, 46306, 58308, 17585, 62123, 42700, 51447, 46566, 38672, 53805, 67917, 51054, 51566, 40766, 32495, 40402, 22877, 67070, 16021, 24845, 41189, 28395, 58423, 2237, 45230, 13395, 488, 56624, 30017, 29728, 476, 55661, 63842, 3785, 26199, 8459, 7656, 50150, 4910, 34253, 6119, 65041, 34788, 16860, 13103, 37689, 15007, 49262, 4326, 18018, 29995, 1305, 61593, 5346, 41517, 21215, 11245, 8999, 9241, 66130, 34069, 56996, 12303, 6174, 2539, 45255, 52569, 20036, 56553, 13186, 16354, 17619, 45101, 21588, 6581, 40122, 23381, 26118, 30281, 21251, 19214, 4219, 48548, 57535, 43923, 6481, 55021, 53162, 68047, 7888, 51268, 14593, 30702, 55537, 23319, 38802, 61262, 19651, 50141, 4584, 21597, 37851, 14093, 53370, 44807, 9083, 8758, 57115, 20205, 35180, 42598, 7132, 20427, 41298, 46881, 66051, 61905, 64276, 64329, 14114, 55403, 62379, 55467, 1162, 50159, 15451, 49211, 60452, 55383, 64676, 51616, 22039, 65937, 64670, 13522, 64374, 29737, 53227, 43610, 43868, 5145, 1541, 32844, 390, 28154, 34156, 42746, 24931, 23817, 16402, 1172, 65491, 20477, 21968, 22701, 18987, 40217, 3601, 34505, 64699, 37843, 11766, 23189, 1198, 17195, 57031, 38993, 19370, 50016, 1531, 21304, 58432, 18387, 61188, 16240, 23576, 46386, 13062, 37821, 12591, 63549, 32371, 3626, 64960, 13100, 10255, 50191, 42895, 46803, 21861, 16460, 48020, 20005, 29453, 18166, 3375, 36730, 5732, 3085, 24031, 55715, 27977, 57120, 7832, 54059, 28601, 14422, 55194, 44942, 10295, 308, 38716, 55105, 47207, 20712, 47408, 31637, 61644, 40034, 60603, 10501, 15456, 47081, 61994, 19532, 355, 14555, 57516, 2604, 63577, 11702, 1218, 4168, 17571, 19100, 53377, 4943, 19049, 60622, 16115, 58822, 65496, 61968, 16420, 45441, 613, 67149, 3930, 371, 47532, 61222, 13176, 41606, 41620, 31475, 30997, 48446, 26437, 8977, 40869, 42754, 47643, 57781, 11388, 49152, 25682, 35117, 66000, 54707, 369, 63237, 61624, 11221, 9425, 25531, 12508, 2707, 47515, 61519, 44751, 48398, 380, 2041, 59576, 60177, 64393, 27788, 28997, 38617, 51891, 24840, 56396, 30646, 23049, 4444, 36298, 19584, 17575, 66114, 15014, 41882, 35572, 40155, 35500, 60058, 3652, 43110, 361, 44303, 36885, 10813, 49850, 62166, 4905, 12404, 45692, 15339, 7331, 51592, 34885, 40121, 6498, 33489, 58456, 49708, 39753, 42241, 49535, 20350, 20430, 17553, 59990, 60842, 64833, 31655, 9673, 50084, 51720, 12660, 2706, 46740, 42585, 55754, 15626, 43332, 46903, 53758, 55030, 49231, 50948, 56953, 41516, 50946, 58905, 38680, 14278, 34511, 12124, 48956, 34255, 34846, 38574, 57738, 65738, 14196, 23556, 1191, 38417, 54164, 61925, 9661, 63005, 19423, 31239, 14990, 68154, 35253, 46364, 13888, 65646, 49827, 25454, 61811, 16283, 4779, 8899, 36830, 42099, 40314, 45330, 43852, 19932, 39773, 16706, 65322, 55412, 48051, 60970, 1312, 59251, 13360, 40204, 41537, 32549, 48265, 42926, 35727, 31849, 38425, 23943, 26415, 43321, 28842, 53339, 42115, 13476, 49847, 56176, 31943, 44300, 49122, 14119, 30463, 63512, 24040, 26558, 16400, 41617, 36225, 55525, 22967, 24576, 58149, 28028, 34473, 18232, 35905, 17225, 48259, 57886, 59019, 3383, 13432, 59077, 1149, 15955, 8368, 11379, 37108, 38582, 38965, 14337, 9978, 46020, 6464, 13280, 677, 47705, 38177, 14419, 56960, 46916, 20234, 8270, 22458, 66806, 57739, 37222, 52459, 44410, 14440, 27420, 34266, 29953, 55282, 3442, 48967, 62636, 50526, 45578, 66097, 43840, 7949, 35613, 16970, 63429, 15650, 63618, 49103, 7066, 65862, 4657, 18978, 24228, 57291, 61505, 37626, 22590, 53373, 7931, 51996, 11946, 343, 63833, 62290, 49765, 66732, 2530, 42879, 57229, 18217, 12060, 3002, 41570, 64652, 46399, 9080, 48349, 50637, 40197, 20075, 10623, 24336, 23967, 14097, 28595, 6278, 4618, 3867, 13467, 10971, 63507, 31647, 18366, 54483, 11144, 62377, 37720, 40751, 23812, 30829, 12746, 59814, 65935, 53756, 29850, 41311, 4042, 39472, 54355, 13442, 37695, 8933, 1639, 32133, 53564, 64194, 54865, 7163, 19881, 56635, 13090, 13654, 30056, 31055, 52548, 3684, 50080, 1844, 65438, 15381, 54708, 30240, 46275, 11220, 16694, 59426, 18816, 3561, 1207, 48909, 9479, 14096, 43275, 55527, 68167, 3098, 8126, 66267, 15183, 60630, 55206, 50562, 36338, 35255, 66811, 27652, 6831, 35354, 19182, 18352, 52512, 31049, 33026, 26336, 15584, 21305, 46563, 14253, 24609, 36848, 48134, 19521, 57949, 62129, 18621, 22448, 38860, 15097, 66834, 50047, 28864, 10194, 11268, 65194, 45966, 21335, 55903, 18267, 10710, 11895, 44665, 31731, 18541, 45109, 47005, 31330, 8478, 7944, 21187, 41857, 28749, 54356, 41483, 44457, 55536, 29464, 13513, 30823, 34679, 12927, 366, 62841, 12318, 37359, 41052, 36176, 34854, 51049, 9857, 39364, 49295, 65483, 50135, 18522, 18928, 21034, 54807, 2709, 44979, 22650, 22501, 36970, 56729, 4784, 44737, 57809, 23570, 44627, 50182, 56501, 64557, 48959, 41137, 16330, 6454, 66813, 8803, 8951, 35896, 23909, 7985, 3599, 54448, 50708, 6925, 24109, 17570, 41733, 68051, 38893, 48656, 22700, 50636, 12886, 1656, 65960, 27223, 1564, 21257, 27039, 49634, 57665, 58941, 63552, 22210, 20525, 41953, 13060, 13355, 30399, 11143, 47238, 360, 38726, 35024, 42934, 42511, 33633, 63734, 59462, 39600, 36051, 62547, 51684, 59294, 20748, 40325, 58231, 29330, 47575, 66531, 21314, 33068, 18930, 61397, 31032, 12108, 62343, 13918, 51828, 66573, 25250, 20247, 50245, 8975, 56575, 44017, 4749, 64804, 50458, 25574, 43067, 60026, 8568, 11463, 5843, 48990, 50887, 25635, 5113, 37462, 17657, 66759, 11215, 27221, 33495, 35132, 19601, 5289, 34796, 6695, 33280, 30393, 37351, 34536, 42735, 16290, 44657, 62233, 28817, 14408, 16154, 11730, 38369, 44685, 47944, 16087, 60210, 46341, 28240, 31813, 2573, 47623, 26075, 15022, 37213, 63685, 4642, 47972, 32540, 62722, 264, 67005, 20209, 4592, 29606, 30337, 62029, 52399, 61903, 46348, 34641, 55552, 12620, 32324, 11565, 5130, 40418, 1929, 5798, 10646, 40408, 66063, 26014, 349, 3441, 7574, 59259, 10625, 36142, 19350, 50372, 10247, 21220, 49260, 15523, 56734, 44819, 51253, 58680, 25205, 20232, 44285, 43488, 27322, 15625, 15644, 58949, 54772, 38826, 15957, 2091, 14837, 22721, 42719, 8571, 46822, 29523, 42518, 32028, 49289, 50966, 57456, 3449, 49390, 20260, 43074, 54288, 9526, 50417, 29571, 16524, 53787, 18624, 18908, 58668, 37138, 54368, 2112, 66318, 43823, 23648, 57822, 50631, 42001, 53058, 55940, 65235, 12277, 47356, 43305, 37011, 24399, 24866, 56186, 13425, 52558, 17883, 46183, 66990, 51019, 13115, 28709, 59495, 8789, 60573, 25749, 27084, 51950, 60927, 27261, 57658, 24995, 58434, 11738, 7468, 47215, 46329, 425, 27939, 57394, 49828, 6005, 35023, 41789, 4443, 377, 46076, 24448, 55645, 40912, 10380, 65181, 49298, 12483, 49766, 49921, 33657, 13067, 29387, 61795, 19180, 24184, 17904, 10751, 15868, 6122, 28966, 6357, 15294, 13952, 44038, 11526, 4159, 22865, 63893, 65604, 53181, 54036, 43942, 34523, 10158, 60220, 25383, 42180, 52347, 65371, 44781, 19750, 47631, 1223, 48561, 50629, 15061, 23690, 6182, 475, 44050, 33493, 46944, 51508, 19755, 50073, 10049, 320, 26126, 13107, 55262, 47519, 56849, 40698, 53416, 51591, 67207, 18685, 31555, 20227, 39642, 68030, 14630, 51614, 13009, 20010, 52472, 12082, 55195, 15526, 61662, 59664, 3831, 21342, 28953, 29856, 22003, 23462, 61966, 58664, 46410, 36428, 27972, 17370, 45443, 18314, 1140, 20674, 23024, 4998, 15741, 37510, 7583, 23818, 22426, 37177, 17270, 18096, 65520, 44605, 7010, 1337, 20050, 16156, 46490, 47572, 53664, 24412, 25779, 18424, 58842, 7897, 56443, 66627, 60056, 42577, 18055, 12315, 30021, 24289, 53250, 16500, 25305, 14719, 13886, 27298, 12454, 15434, 12181, 61557, 828, 59119, 16414, 15742, 56003, 36166, 882, 33140, 54140, 21592, 68040, 30283, 50079, 26215, 306, 26356, 25597, 58794, 53563, 559, 44037, 50002, 46690, 323, 35472, 51272, 1278, 55469, 51679, 31123, 29120, 29759, 18997, 23323, 46571, 51589, 47567, 63583, 55682, 11136, 1267, 41300, 1659, 1646, 1719, 53879, 54259, 50244, 7448, 11486, 7913, 8548, 17697, 36036, 35056, 56583, 56113, 42336, 7785, 49512, 51285, 65399, 35249, 59902, 47642, 24331, 2027, 36489, 12157, 23692, 33018, 25258, 11104, 17672, 60982, 4259, 20843, 15753, 38992, 13299, 13428, 14867, 9603, 28323, 4448, 37010, 22542, 8188, 11390, 39340, 41854, 13608, 18526, 42873, 54410, 21008, 4734, 56506, 10839, 23865, 48410, 12899, 66209, 58355, 2321, 58484, 32039, 1937, 27336, 7736, 52655, 9040, 65054, 49241, 41326, 54862, 65035, 2410, 63834, 50193, 304, 10007, 31562, 38064, 25001, 12254, 46715, 63830, 10818, 4771, 32831, 29814, 9300, 28488, 54085, 16731, 51654, 45408, 14896, 13469, 59987, 23465, 353, 39755, 61062, 12203, 59526, 337, 50604, 22914, 61561, 49573, 33611, 3791, 23133, 14970, 50513, 58454, 56778, 38544, 22275, 55493, 48026, 44453, 55737, 25517, 33753, 29123, 39369, 57487, 1830, 44763, 2697, 39052, 17998, 55594, 18751, 55908, 8016, 48970, 44604, 27642, 4570, 13084, 43933, 26001, 11711, 57844, 4630, 57186, 67531, 50723, 57222, 9014, 5653, 19002, 38059, 45700, 24865, 57644, 13882, 6309, 38949, 3946, 18282, 52080, 47176, 46301, 31880, 48276, 38280, 26206, 16070, 15810, 54051, 64893, 31531, 12525, 52709, 1273, 61512, 62128, 58069, 26653, 25401, 52443, 1028, 16152, 11782, 59189, 59186, 45050, 26431, 783, 383, 29729, 39310, 34633, 30565, 62662, 31226, 23220, 33423, 47452, 41853, 1590, 58480, 43278, 30374, 53045, 22728, 31644, 60464, 35528, 53931, 41846, 67108, 57393, 15629, 63433, 48397, 65553, 53552, 16149, 31211, 18994, 25573, 53529, 15983, 47852, 42026, 38242, 52090, 7271, 14180, 29957, 12282, 59223, 51166, 25433, 50335, 2390, 30918, 65304, 16506, 18740, 53677, 7436, 15562, 29362, 57703, 39468, 47859, 39377, 63165, 65488, 45941, 26053, 661, 57653, 41201, 22428, 532, 23506, 40885, 43808, 64716, 37343, 8839, 42740, 25771, 67079, 16571, 44835, 64681, 34064, 41609, 2264, 10511, 63462, 27608, 58245, 37703, 6406, 57049, 65443, 5895, 24521, 37451, 12313, 48835, 20563, 49311, 5706, 20084, 40515, 53294, 5897, 47637, 12236, 17084, 17343, 67111, 49301, 24799, 31293, 37665, 55646, 53915, 14489, 45305, 4429, 25138, 56251, 19562, 35750, 47659, 13011, 40819, 12740, 48190, 43165, 59778, 47496, 35885, 15967, 28103, 53788, 14205, 12212, 31206, 42554, 60781, 31471, 20635, 21029, 32597, 42531, 9476, 28474, 21627, 20781, 1484, 2433, 47937, 48515, 30020, 28023, 4635, 49012, 32275, 4045, 48173, 46703, 9101, 26134, 35409, 4821, 45495, 25086, 51800, 47825, 9944, 50232, 9758, 6839, 42282, 1491, 10681, 32116, 63011, 55689, 13730, 63546, 51850, 57430, 46589, 27907, 17262, 34228, 36476, 53849, 16213, 59208, 4980, 62388, 7627, 58034, 23723, 35950, 58750, 43202, 21290, 58444, 50181, 8647, 58442, 45902, 25054, 13356, 57580, 32795, 11428, 11664, 59240, 7597, 51395, 507, 49036, 37854, 29746, 65645, 44611, 24415, 58159, 15748, 24694, 15509, 45952, 9387, 31114, 44958, 25652, 10776, 4121, 68066, 54458, 67480, 15885, 13606, 16019, 22830, 16137, 51396, 4003, 61978, 12807, 38752, 31147, 52741, 12714, 64450, 19910, 19294, 21800, 17644, 46133, 12777, 37157, 63572, 1483, 22505, 52402, 33144, 31280, 335, 51428, 46376, 26288, 44383, 30416, 37092, 42395, 61065, 16942, 20521, 65611, 65816, 6757, 27828, 50092, 683, 16429, 15978, 16316, 31038, 65580, 3795, 32714, 7767, 16314, 10627, 55520, 53698, 26158, 63881, 24626, 1653, 356, 17923, 26496, 41098, 27723, 47358, 58144, 65702, 16340, 54090, 63636, 11591, 28865, 3600, 27665, 18371, 45488, 46486, 8157, 5975, 8168, 22450, 18674, 23272, 47970, 29878, 8552, 31459, 66823, 53995, 63444, 18849, 35485, 41449, 6041, 67271, 47360, 56926, 28368, 1569, 25670, 42560, 15114, 46397, 52576, 47241, 43499, 59597, 42351, 1408, 2988, 12419, 32361, 46977, 57435, 30639, 65096, 32557, 305, 8138, 20493, 57016, 1680, 36478, 2347, 31353, 34330, 11733, 12933, 46680, 50707, 27311, 31035, 56708, 44525, 57576, 22445, 63736, 16798, 24634, 32051, 41221, 57623, 9230, 63353, 60861, 61343, 12491, 40468, 42223, 56921, 4552, 42090, 41244, 43833, 18240, 34327, 21825, 57118, 14835, 28202, 31551, 3604, 47132, 30371, 37544, 56520, 19661, 58676, 21061, 49971, 27974, 42634, 2578, 26250, 39614, 5603, 1553, 39607, 23035, 22569, 46914, 61950, 2497, 54513, 57721, 17591, 57482, 3559, 64708, 43598, 59748, 46713, 15085, 635, 59501, 48428, 31640, 35642, 31376, 19558, 54505, 4047, 29764, 20930, 26335, 43102, 34895, 45541, 56538, 31559, 29926, 58051, 51095, 33409, 58601, 3114, 31235, 55169, 46188, 11812, 55506, 56602, 24566, 33245, 22636, 12625, 66305, 38765, 31164, 28536, 12522, 18866, 12545, 43945, 6691, 35491, 12188, 36041, 51399, 20974, 37099, 43842, 37428, 16879, 56874, 30165, 44080, 1570, 52028, 19072, 57978, 24034, 56893, 54500, 49945, 20224, 46138, 16866, 21879, 4280, 32284, 13032, 40713, 34680, 2195, 838, 16068, 9918, 387, 15485, 64176, 15244, 33826, 4813, 30802, 65144, 5405, 15450, 30869, 14505, 17545, 42002, 58400, 43980, 48352, 16099, 6035, 56684, 16093, 13870, 66426, 58589, 6830, 50883, 51818, 21317, 18604, 60237, 46387, 62652, 26000, 29232, 27006, 41746, 29796, 18464, 2164, 34806, 51164, 65864, 5807, 47066, 48914, 1132, 31588, 19846, 13440, 66980, 8658, 41174, 29455, 33958, 381, 25091, 55308, 64144, 62006, 16069, 47580, 50689, 58315, 66863, 54076, 21291, 12284, 17762, 46666, 58644, 33807, 59519, 57917, 57829, 19516, 2586, 58524, 2919, 50530, 67475, 65447, 44671, 24139, 27418, 34507, 47796, 60157, 52595, 3241, 4645, 37327, 53388, 61459, 22975, 60408, 10371, 8169, 35735, 9649, 17580, 4853, 32313, 27275, 50940, 28602, 67818, 10346, 23748, 30577, 33585, 47101, 53650, 54285, 12180, 49538, 65300, 35989, 44081, 52754, 62827, 59172, 55704, 43567, 19498, 62406, 33812, 56530, 8495, 20207, 50519, 7542, 54450, 32755, 59046, 49876, 14300, 29965, 33586, 7045, 31836, 37358, 49581, 39589, 9785, 1556, 21169, 15213, 50401, 25868, 29469, 58687, 46070, 44687, 43411, 1437, 54660, 15082, 19005, 59151, 7823, 27574, 36432, 14099, 40301, 1648, 36372, 55761, 67211, 38094, 50105, 2377, 36663, 12887, 17138, 18594, 42755, 38729, 37585, 20665, 66466, 44484, 44057, 43282, 56640, 43611, 51579, 27962, 36832, 60424, 37680, 30801, 16377, 65229, 35886, 52908, 66199, 49892, 17151, 60296, 27375, 16307, 46694, 8209, 26692, 58255, 58387, 3063, 17661, 48407, 25112, 65967, 52221, 36528, 60740, 15146, 56724, 49951, 7563, 47200, 15889, 33609, 54399, 9591, 38829, 57007, 29799, 26364, 32069, 28280, 66082, 42242, 49767, 35166, 51857, 61568, 32842, 46621, 58559, 25487, 18125, 11611, 58421, 11219, 3885, 12610, 68396, 22350, 3608, 18381, 22591, 373, 36518, 30347, 319, 3193, 30993, 49749, 38952, 65375, 30632, 60218, 48635, 35685, 22635, 55362, 7690, 43605, 42281, 55101, 58624, 28678, 31209, 64814, 1771, 22484, 33820, 12577, 39625, 49456, 39940, 67154, 53076, 9995, 53656, 32772, 19307, 10618, 25391, 37331, 11843, 31895, 56772, 30537, 336, 16447, 63720, 13941, 21693, 18276, 50922, 32059, 34946, 14685, 40899, 6834, 50274, 13880, 11806, 44458, 29662, 33848, 8081, 49018, 54919, 3286, 1365, 288, 53408, 60523, 14014, 21452, 59126, 64817, 34681, 54755, 66260, 45042, 17464, 9837, 57973, 66472, 29752, 15738, 60805, 16535, 62217, 1384, 56150, 6653, 27961, 39708, 34913, 4988, 24138, 62106, 32609, 50020, 45871, 65412, 54167, 58380, 1952, 10884, 4136, 28728, 31062, 9648, 9796, 47974, 52491, 4267, 7412, 41553, 28982, 7616, 49904, 21261, 52303, 40810, 28524, 62254, 1708, 5021, 10799, 357, 22546, 47448, 10347, 1742, 37381, 40226, 50910, 7023, 47019, 7816, 55928, 37559, 66054, 7831, 60040, 31914, 42530, 32764, 67057, 18172, 4035, 24886, 64016, 15744, 8785, 21598, 10103, 14390, 31425, 47083, 54307, 43851, 4190, 37, 53128, 61353, 45535, 14618, 67150, 54637, 56155, 11296, 46687, 56410, 35991, 11797, 23761, 62730, 37916, 33706, 53732, 18083, 62333, 14283, 5817, 4254, 10291, 5581, 61606, 39697, 29475, 23239, 65005, 22954, 18781, 1290, 53588, 32821, 24544, 25962, 3938, 10648, 2383, 50638, 27296, 26073, 4682, 24174, 18398, 64011, 48815, 42645, 16461, 47676, 42570, 27562, 53378, 26564, 48484, 16243, 63276, 49731, 52359, 56713, 43907, 25151, 36887, 19853, 20855, 8164, 19080, 7748, 17913, 63330, 60472, 15633, 11426, 61761, 58277, 32111, 24571, 15674, 17255, 53860, 54991, 56868, 1983, 2956, 54933, 53489, 6570, 15002, 7734, 12928, 67206, 62001, 53062, 411, 50350, 21296, 54759, 18667, 12939, 23546, 21626, 48765, 32777, 8372, 13304, 57175, 5023, 55405, 43524, 9539, 28123, 21647, 5055, 11558, 37824, 1271, 55892, 66598, 51078, 14179, 17076, 46411, 30332, 3548, 2699, 25938, 54049, 53859, 55456, 21260, 39429, 5400, 17897, 57401, 19823, 54172, 6048, 16208, 23415, 17423, 49586, 5554, 14865, 24352, 61634, 5260, 61751, 53417, 16129, 52956, 64854, 49177, 29332, 31316, 48966, 65996, 24258, 27634, 5004, 56550, 7871, 14137, 19373, 40610, 22027, 33482, 66086, 4960, 54035, 27307, 57461, 32541, 5477, 43040, 14267, 3560, 53643, 21197, 51713, 26455, 22060, 12554, 12901, 20185, 67821, 28972, 51391, 19693, 54813, 55915, 26901, 39335, 57618, 44810, 9739, 17565, 57197, 45663, 26062, 15128, 58268, 13308, 35622, 58700, 45598, 7790, 5578, 58338, 57927, 22953, 59277, 30436, 45403, 32690, 64980, 17558, 53833, 26973, 49138, 9581, 6990, 57498, 795, 34086, 64898, 35038, 36517, 27678, 29263, 47316, 20181, 13054, 66693, 18650, 18400, 37784, 50949, 65951, 54870, 8262, 48638, 40670, 27567, 9802, 28508, 34294, 1533, 50371, 33815, 4959, 1672, 588, 1056, 22607, 66131, 31136, 65842, 34767, 62506, 21089, 15947, 41176, 45304, 54889, 34917, 65865, 15385, 57336, 31850, 61147, 13429, 21508, 52751, 21572, 51534, 6265, 24800, 35386, 54161, 24039, 18983, 9010, 12966, 46174, 35585, 29997, 25632, 64810, 20937, 7107, 1565, 55883, 10378, 51708, 29772, 4937, 2510, 23670, 13677, 54893, 62433, 36013, 13397, 12451, 37392, 49472, 39990, 367, 45046, 42183, 53345, 31657, 14816, 43132, 9451, 35961, 37548, 30362, 40627, 44012, 20068, 10692, 20715, 48949, 21725, 53906, 28009, 62419, 57398, 45724, 25621, 50136, 11467, 43849, 36693, 24491, 21969, 43381, 61571, 12109, 39516, 58795, 15255, 34921, 33721, 52235, 9374, 30471, 37302, 62041, 49336, 2580, 1960, 24055, 63575, 59610, 16891, 50913, 15795, 22374, 25165, 36161, 2847, 56923, 62182, 12182, 54834, 11343, 51845, 18550, 19844, 59127, 30363, 13383, 11954, 43821, 61238, 53209, 15386, 52653, 23884, 15793, 59256, 9032, 64457, 25498, 1644, 21329, 61679, 21483, 53007, 48533, 20693, 13234, 59699, 18249, 57392, 63640, 40739, 47108, 17427, 11594, 48567, 31881, 46220, 67895, 14877, 58813, 22203, 22459, 7195, 3632, 38163, 66639, 47810, 8732, 44016, 29350, 39975, 17229, 51994, 1309, 41091, 12297, 11111, 65101, 16837, 49105, 50947, 7704, 44621, 39893, 43520, 58207, 25371, 4750, 2068, 9523, 22565, 9745, 39691, 13394, 25980, 3541, 42909, 46296, 56690, 42695, 15238, 67050, 41979, 12328, 39955, 15098, 1572, 30030, 39562, 25393, 33071, 45652, 53609, 31528, 19826, 2434, 59596, 11098, 17223, 8463, 8253, 44920, 31347, 39970, 6369, 51295, 43844, 47265, 19342, 33279, 47075, 12739, 5535, 33254, 19523, 1285, 34497, 61713, 31233, 62689, 23156, 67032, 46874, 46352, 22076, 58280, 43537, 14219, 11342, 6291, 14588, 15422, 45579, 42766, 67645, 13007, 5430, 7933, 50710, 14753, 30761, 58953, 50062, 1537, 15881, 55605, 42170, 64075, 21871, 5209, 30094, 28535, 46331, 39366, 5453, 53361, 53921, 43073, 49534, 13122, 29156, 2252, 34778, 35481, 37702, 18444, 32072, 65061, 11482, 311, 20261, 64007, 3923, 59760, 22588, 56872, 41391, 23211, 33396, 15440, 66723, 16912, 38465, 34648, 20602, 26809, 13378, 4481, 38778, 21107, 40524, 40688, 12417, 22771, 1409, 33336, 29203, 9897, 45334, 15476, 6827, 20373, 67009, 58021, 37186, 17796, 7325, 46963, 36522, 38336, 27771, 8592, 23291, 56920, 24404, 63468, 28429, 27399, 39696, 2148, 48918, 14746, 54737, 46045, 45561, 49388, 1540, 35906, 38166, 60450, 14788, 58571, 34581, 21351, 62252, 66070, 30025, 35983, 40332, 19939, 37025, 19937, 12011, 12931, 63568, 46351, 52061, 33223, 8221, 21912, 24697, 25230, 47340, 32704, 11353, 39924, 35630, 42912, 58414, 29554, 21247, 65955, 6836, 7556, 17771, 67146, 24269, 324, 24328, 58599, 57439, 36918, 16598, 63704, 54416, 47190, 54699, 44873, 41403, 8969, 4238, 29201, 50139, 38150, 12666, 16721, 19731, 27358, 6382, 54461, 2874, 47647, 3365, 2819, 11210, 332, 52947, 21601, 20976, 19545, 45938, 61112, 57489, 59227, 19505, 56505, 42404, 8678, 8579, 30872, 1355, 45122, 64391, 1387, 2038, 5947, 31158, 35895, 50151, 67018, 54568, 66580, 22116, 31805, 20001, 43188, 67541, 54510, 21537, 38208, 19453, 2118, 6961, 3610, 59821, 66862, 53895, 54796, 67133, 59358, 20226, 29285, 6475, 9146, 17263, 62422, 50517, 38039, 19144, 20999, 65912, 16671, 45299, 59405, 21001, 55376, 6624, 33143, 45992, 6016, 8283, 17307, 46453, 18980, 62371, 39941, 50424, 41607, 38330, 44062, 14446, 55838, 64385, 46949, 1159, 62108, 2460, 49010, 62240, 57190, 66276, 47648, 51218, 60231, 51482, 26856, 2119, 61412, 26450, 5156, 54566, 6238, 42565, 35131, 52966, 36575, 3130, 67560, 8627, 57938, 10324, 19162, 45760, 33054, 7946, 3462, 51613, 60172, 44578, 44257, 25746, 9699, 32712, 55107, 14159, 25524, 54531, 67754, 54316, 37742, 31713, 12649, 41866, 41116, 37660, 16135, 39710, 23127, 20140, 45816, 42975, 8449, 13430, 54227, 5195, 32482, 316, 11684, 31741, 13911, 66195, 26990, 28198, 25851, 5997, 41751, 19847, 53880, 19202, 63743, 14770, 23130, 60400, 39622, 45653, 41530, 42208, 52105, 1897, 59877, 42192, 43243, 13552, 5622, 49590, 1758, 55016, 34990, 22124, 38097, 50565, 24705, 59469, 30358, 17651, 56882, 60701, 17456, 47020, 21897, 20037, 63732, 5384, 27492, 61092, 27833, 14640, 11451, 41858, 51583, 1679, 66916, 55624, 13655, 58821, 40035, 56121, 3263, 48313, 13080, 10611, 34516, 3185, 42599, 47099, 19832, 57517, 22440, 64261, 50802, 66400, 48053, 21277, 65141, 7534, 20657, 67594, 34925, 14024, 25036, 4525, 48260, 30726, 50540, 9031, 31390, 8012, 63985, 3943, 59752, 14729, 3854, 25788, 47420, 20073, 33626, 2494, 54742, 38201, 61750, 47105, 41178, 44492, 4766, 28062, 10942, 1558, 1316, 51287, 13553, 18300, 36201, 60830, 17513, 40345, 52772, 9496, 49980, 17592, 49053, 22834, 23939, 35740, 18234, 49277, 58540, 65670, 58221, 3989, 34103, 60428, 52464, 16862, 58112, 53531, 34256, 20083, 57233, 11160, 54994, 23226, 59741, 25993, 65149, 45421, 51018, 4451, 56976, 30327, 30457, 2120, 24934, 65468, 56687, 19384, 28452, 26520, 21752, 12470, 24908, 40972, 54009, 35508, 4245, 40118, 55379, 35817, 64387, 17075, 19909, 68282, 1884, 54456, 13926, 55110, 23960, 39035, 44182, 62869, 1084, 66944, 31972, 56224, 53922, 55611, 20716, 24982, 22871, 68212, 39181, 44849, 16020, 57577, 27603, 1432, 20807, 4446, 40689, 65013, 51467, 46877, 21922, 15323, 55241, 48673, 12515, 35755, 38929, 8695, 26104, 59825, 28137, 27099, 49805, 62969, 41384, 47620, 53329, 20278, 26184, 20975, 728, 41156, 24013, 20184, 30031, 32463, 9747, 8416, 22072, 61166, 5810, 19751, 46207, 11988, 26719, 7545, 24843, 11697, 20773, 35358, 39556, 44020, 30000, 56240, 16788, 56363, 11721, 3807, 52281, 42418, 1239, 35674, 57105, 68136, 15557, 47578, 9055, 14792, 46293, 53888, 3052, 12758, 30974, 20103, 52226, 47120, 4604, 27809, 17598, 51514, 24422, 8689, 43464, 27210, 30610, 23898, 29539, 10762, 47058, 49680, 21946, 17898, 15043, 66642, 61810, 47715, 59764, 31020, 5202, 38610, 23016, 30291, 8336, 22010, 20927, 12459, 32203, 11396, 58163, 23786, 36100, 66196, 10851, 4413, 52917, 93, 10046, 4802, 50099, 65344, 321, 26008, 56524, 54743, 55349, 26772, 10050, 48314, 19591, 28862, 52002, 56045, 7392, 20496, 2946, 16692, 40920, 35967, 48976, 34423, 20656, 39480, 24819, 42229, 49982, 53572, 41987, 18204, 56040, 8790, 42273, 60724, 21653, 46654, 14714, 1781, 63069, 29132, 30265, 52664, 14333, 38011, 48953, 60857, 37387, 14449, 52828, 8954, 345, 50506, 8352, 329, 30751, 25374, 59530, 48784, 19866, 65549, 52088, 14324, 34855, 16116, 68285, 12147, 36449, 56075, 38520, 18016, 66574, 28115, 51454, 21098, 62967, 46816, 58148, 60813, 10585, 18303, 21634, 24146, 37375, 16712, 16827, 59766, 44229, 8097, 37871, 52918, 25176, 51260, 48116, 35843, 51061, 25760, 25052, 42803, 11445, 25199, 59893, 30252, 66274, 1441, 15903, 6590, 61596, 68036, 5684, 7062, 20329, 12961, 14207, 62049, 52267, 46769, 426, 19136, 12790, 23084, 28544, 55947, 14546, 31139, 12846, 22564, 7889, 47194, 58552, 49433, 42059, 38123, 26391, 25185, 38932, 33828, 42128, 5326, 57816, 49769, 29778, 35173, 9210, 55831, 42690, 23693, 13031, 16378, 67418, 31964, 6752, 30793, 56519, 10941, 32743, 37239, 45135, 4282, 23252, 18923, 10796, 14932, 54990, 12738, 25766, 59291, 6910, 50558, 40183, 25228, 43140, 9030, 64954, 22802, 49926, 7811, 11677, 39463, 62219, 16936, 55851, 36944, 1935, 9791, 13265, 22477, 47446, 1114, 57842, 4359, 39717, 12876, 11840, 58217, 34936, 36971, 29023, 41651, 66047, 37383, 15907, 43506, 38300, 41127, 14857, 57286, 34825, 16793, 9442, 39041, 15941, 52439, 52605, 48607, 32199, 21298, 29429, 45384, 56058, 31237, 39307, 43142, 39009, 13205, 39324, 42566, 6446, 35394, 38420, 9587, 37735, 23890, 62480, 17980, 44005, 32309, 49730, 68037, 16670, 17181, 67083, 40545, 60247, 53647, 9625, 44094, 23347, 61271, 18645, 65706, 50338, 43212, 52716, 52942, 8070, 42904, 45314, 65446, 36155, 20509, 40914, 42516, 65164, 9830, 21032, 39090, 34579, 45142, 46064, 13050, 37555, 8522, 52249, 32766, 46104, 7948, 33560, 51666, 5763, 39830, 30953, 35598, 47617, 55357, 62838, 23611, 41512, 24939, 19367, 13376, 54519, 58040, 13519, 49869, 30857, 38526, 62336, 4704, 59525, 28884, 25511, 63849, 2244, 25966, 32091, 31118, 30101, 40820, 4997, 57412, 51044, 9826, 35136, 819, 3233, 39131, 1214, 4005, 64448, 45137, 12163, 14291, 11621, 16350, 35891, 36831, 17167, 56046, 32740, 34039, 4377, 4485, 66149, 33542, 60868, 31350, 57138, 3413, 44548, 63701, 34548, 12471, 62284, 35477, 43447, 54207, 8011, 27477, 44041, 39867, 9222, 55622, 67642, 46647, 39396, 52932, 31939, 15163, 30126, 40844, 13588, 11423, 44021, 17431, 11163, 66445, 9864, 68080, 22185, 24703, 20389, 10523, 62665, 14710, 20920, 43946, 11364, 61422, 26057, 19322, 67583, 64312, 21911, 5569, 20384, 47213, 37408, 29744, 20095, 107, 52969, 23298, 3958, 44275, 5539, 50064, 50919, 17277, 21392, 53369, 57586, 62972, 51632, 36573, 51321, 12912, 37360, 4807, 18558, 30175, 331, 41308, 18528, 55407, 20619, 2122, 12531, 20406, 46404, 24141, 64231, 29736, 68042, 347, 15989, 56612, 54289, 17313, 3922, 63443, 12457, 50407, 15397, 48254, 6040, 25877, 56952, 23235, 66621, 30564, 8883, 10395, 50427, 54045, 13960, 61526, 9116, 60889, 66463, 18059, 29516, 68242, 20967, 18772, 37595, 17128, 49487, 309, 26960, 22430, 8589, 7514, 56962, 12815, 1767, 48961, 21562, 24593, 55529, 40317, 58706, 10469, 61272, 30217, 2541, 9576, 64855, 43115, 46491, 50721, 3929, 67443, 17836, 62373, 20217, 10243, 17554, 21196, 38800, 47740, 41408, 2440, 39890, 35567, 5705, 22736, 17628, 36661, 2710, 38717, 6959, 13250, 49653, 6270, 25183, 14393, 17776, 68373, 57840, 40905, 66442, 4240, 54495, 46547, 8040, 21352, 2783, 62348, 303, 6826, 65292, 57943, 39734, 31798, 54225, 47125, 54394, 2490, 40792, 44420, 54134, 26509, 23292, 6344, 19940, 10936, 28200, 45780, 50109, 7881, 49583, 55080, 51311, 19205, 61263, 52498, 13783, 54814, 31814, 49490, 31536, 18554, 19174, 17593, 60470, 30637, 50014, 64104, 38879, 24204, 13066, 8071, 1472, 46904, 39641, 41009, 38685, 56180, 19300, 21386, 13957, 35796, 21984, 51089, 32665, 7076, 2546, 50368, 11023, 1927, 61758, 46365, 64869, 44750, 15610, 29899, 45153, 51955, 28723, 17933, 26299, 65296, 47181, 8515, 30295, 25232, 24230, 48869, 11716, 3061, 36852, 37663, 64251, 64658, 30778, 64781, 24081, 47788, 42314, 57454, 35497, 8665, 10814, 34612, 9607, 60419, 49157, 15730, 55878, 47000, 17630, 15690, 35785, 37864, 6637, 5058, 41265, 58269, 38305, 50582, 31294, 68363, 21134, 41997, 65906, 39681, 67647, 59453, 58404, 54243, 24526, 32970, 24057, 24802, 861, 1982, 39879, 51544, 25184, 28534, 65703, 38761, 64362, 14754, 26173, 52030, 27660, 50869, 25504, 58460, 38754, 22433, 61163, 37328, 34716, 58653, 35736, 3716, 40937, 52000, 45892, 52988, 23046, 61204, 41318, 62126, 23157, 54016, 21030, 45231, 21432, 8105, 14331, 55695, 1571, 43304, 66522, 31577, 16212, 46028, 59446, 53663, 5104, 4033, 65720, 30919, 37622, 28840, 57819, 53423, 50643, 15203, 27242, 50648, 49681, 35226, 51413, 38872, 28833, 5148, 49182, 51397, 7337, 25791, 47503, 10499, 46353, 60252, 55809, 6128, 19042, 20565, 11234, 61284, 18776, 46186, 20918, 30806, 6276, 4176, 44449, 58715, 59552, 16139, 66009, 37670, 47506, 32346, 32894, 10278, 6208, 10663, 16905, 50820, 54428, 9359, 47271, 54570, 43639, 310, 39685, 11757, 56116, 62086, 4260, 50702, 13426, 42105, 9606, 55007, 47837, 62574, 46717, 3920, 58212, 40063, 67467, 59241, 34852, 62060, 23676, 40638, 64856, 31201, 51324, 6732, 18357, 15095, 65436, 43847, 4231, 41380, 60960, 44744, 9141, 67415, 34934, 7086, 63325, 31021, 48690, 19343, 34054, 18887, 44669, 14198, 53, 38580, 65929, 28836, 50871, 30874, 43521, 51921, 33779, 42206, 55062, 56812, 67602, 2688, 40620, 20882, 4013, 48707, 60672, 12381, 37790, 750, 45022, 48007, 17466, 61136, 66027, 12191, 50286, 28584, 34046, 67854, 62135, 52570, 47787, 48141, 23366, 59237, 50797, 14523, 19465, 57211, 6724, 13420, 60967, 30225, 32458, 4211, 30161, 18468, 19848, 28703, 3192, 37997, 46576, 39683, 57299, 12014, 15950, 13213, 9465, 58510, 12383, 28901, 878, 51299, 13049, 33833, 40240, 13841, 30903, 53539, 58712, 28489, 29659, 8196, 48264, 27118, 7063, 45767, 30002, 25754, 6147, 16545, 59037, 31195, 31495, 31229, 37738, 17934, 10815, 46619, 9225, 43769, 23279, 48297, 61992, 5792, 24602, 48247, 18052, 43717, 53878, 46445, 38314, 22028, 28642, 53981, 20580, 10527, 64371, 9736, 16182, 47017, 14485, 3729, 48968, 30234, 30441, 66677, 43162, 60655, 54185, 62390, 41689, 20922, 17903, 58973, 91, 48319, 50154, 46539, 31428, 67076, 30227, 31411, 40802, 49652, 66738, 2702, 52250, 30259, 62242, 55149, 36434, 35482, 44386, 29922, 15330, 8607, 1478, 24867, 45078, 59282, 21171, 43797, 21253, 48079, 33817, 18682, 34142, 45587, 50789, 522, 11731, 6853, 65011, 59643, 51280, 27803, 65586, 66421, 15781, 59233, 58832, 24745, 53980, 31550, 42328, 46052, 44633, 52042, 28938, 6045, 57969, 40072, 16896, 54400, 24928, 22324, 27201, 42563, 48136, 54362, 56722, 13419, 63153, 45758, 49217, 32490, 787, 53935, 36351, 43622, 39820, 60481, 39732, 34268, 23577, 46869, 34592, 48122, 58689, 62097, 18920, 23930, 30966, 42923, 40636, 11982, 36872, 10281, 41204, 50754, 45043, 26004, 8796, 15109, 43761, 11829, 41582, 53390, 54741, 66849, 61580, 62152, 56248, 14743, 10728, 20498, 42112, 3343, 56801, 26942, 12420, 21486, 461, 64958, 830, 56009, 44839, 61303, 48939, 50632, 6459, 2106, 58165, 5284, 23750, 52252, 19010, 44779, 4417, 39392, 57604, 17122, 40070, 3736, 536, 32330, 67552, 7070, 56720, 51475, 24439, 51279, 57036, 54818, 24624, 27047, 7282, 39657, 30700, 67907, 3543, 60471, 47663, 16393, 9636, 44596, 48223, 27285, 39956, 58694, 28008, 66383, 36347, 47571, 56895, 21082, 48809, 41240, 65939, 35258, 19959, 36681, 50603, 47228, 53617, 1388, 33175, 46006, 52430, 41775, 14366, 40754, 61877, 39271, 3198, 29955, 7869, 23695, 43838, 41057, 45440, 19008, 60545, 55756, 31684, 42929, 836, 29127, 3131, 57727, 3364, 56503, 4681, 19604, 46850, 19456, 52289, 57212, 36113, 1692, 57195, 1731, 42655, 63442, 60513, 18262, 30359, 27687, 22827, 9355, 43229, 54757, 30458, 24991, 55729, 7561, 21332, 25427, 50768, 37464, 1912, 7016, 61530, 45930, 59413, 30786, 9753, 3260, 36158, 51048, 28989, 24175, 9530, 42190, 38026, 14739, 64102, 17072, 56891, 65361, 41873, 29015, 11936, 24809, 68425, 6129, 39871, 27895, 6746, 37374, 40487, 6439, 13600, 58055, 52383, 19493, 62648, 67482, 54466, 65737, 35162, 19874, 64005, 23221, 56569, 3116, 43125, 4306, 31738, 48155, 13967, 11542, 32752, 68199, 65316, 68132, 17716, 4611, 17664, 25523, 14131, 20653, 6951, 27274, 25501, 17260, 37621, 10170, 50534, 65189, 47218, 21014, 35246, 6713, 9781, 8237, 49622, 11153, 63597, 36061, 20117, 45839, 26357, 2084, 13988, 52895, 21539, 9874, 31992, 15899, 36623, 12879, 15058, 25695, 22810, 4341, 21287, 26907, 8965, 11093, 17005, 32936, 20003, 64302, 19510, 65395, 15189, 22957, 44195, 5606, 39137, 46515, 55693, 10128, 39568, 62552, 27009, 35375, 7453, 58508, 3179, 53198, 37846, 60444, 41348, 55309, 18902, 30042, 48676, 1839, 25170, 30860, 45064, 9817, 38865, 40918, 67511, 18851, 14047, 8212, 21028, 9019, 28509, 35614, 58824, 14536, 330, 67863, 32539, 5048, 49006, 3088, 52858, 19793, 46700, 23471, 66814, 55533, 65163, 27905, 58967, 27374, 31440, 4460, 37919, 51056, 63683, 1016, 53468, 29403, 66006, 38010, 57143, 4195, 52208, 21147, 832, 47060, 59182, 61218, 13417, 58375, 298, 22371, 4981, 66860, 29855, 13307, 7327, 61293, 7608, 55939, 46825, 10553, 41511, 14025, 58690, 12678, 33138, 52055, 40813, 262, 29036, 45658, 333, 66055, 39058, 31313, 55828, 29927, 3678, 54544, 46628, 29206, 67049, 49290, 57537, 63894, 53644, 47774, 30730, 31753, 55577, 11271, 37550, 17559, 27181, 63588, 43060, 63261, 27410, 52538, 43322, 46848, 60620, 37944, 8205, 14134, 15559, 33677, 31750, 22756, 46837, 50805, 40938, 22688, 61901, 35159, 36376, 24978, 7042, 63585, 35816, 11040, 61114, 46681, 31514, 33148, 65178, 877, 11632, 27844, 11260, 31586, 51096, 61059, 19690, 13538, 58324, 22535, 12385, 15165, 67061, 2677, 30474, 50420, 15699, 30045, 55495, 67874, 23531, 29317, 62024, 32717, 55515, 45071, 36906, 56917, 15771, 68241, 39841, 3594, 68412, 5242, 35728, 52398, 46051, 46496, 2289, 43101, 41539, 3772, 56758, 39259, 58900, 68439, 41982, 53270, 334, 34203, 9634, 46676, 16838, 5875, 10008, 49506, 51136, 67422, 30370, 52140, 59033, 35185, 62639, 59195, 19802, 40288, 43071, 48804, 3327, 31078, 11978, 40176, 12569, 46766, 30878, 49830, 60943, 32975, 27845, 65686, 20966, 54403, 7868, 8774, 11572, 26699, 1772, 751, 10510, 12132, 27811, 43123, 28397, 52563, 62939, 15806, 62385, 10543, 64467, 64782, 20740, 59840, 62575, 21894, 20060, 19066, 30803, 4732, 6447, 22103, 10333, 49877, 14868, 3708, 51239, 38368, 27916, 1813, 21892, 16311, 60509, 1215, 21837, 58464, 68255, 12510, 55004, 21139, 49775, 17607, 15966, 56037, 4284, 12897, 43118, 12416, 52530, 10294, 37743, 42091, 44953, 66382, 1827, 45921, 22032, 65494, 40429, 23508, 66983, 1363, 30166, 15780, 32054, 1559, 33327, 58519, 43068, 41094, 16778, 29445, 46332, 8401, 45139, 1099, 7099, 12737, 55604, 33206, 2923, 49748, 1188, 65774, 844, 59221, 46198, 57330, 60871, 21678, 57158, 62110, 49351, 32449, 26795, 58744, 583, 13475, 5464, 65252, 8835, 36927, 65043, 2886, 3456, 14952, 37166, 15543, 41957, 7754, 13861, 318, 43070, 18871, 64596, 26403, 5507, 5329, 21333, 52270, 12674, 12780, 50681, 30655, 61124, 53830, 47247, 51310, 6703, 64571, 44103, 13247, 5184, 63417, 43154, 28881, 28765, 578, 45047, 58321, 50406, 59300, 14443, 43397, 54561, 63646, 63633, 17912, 53281, 26451, 46691, 24470, 18184, 57776, 20605, 62224, 39664, 61917, 46355, 35283, 13722, 173, 19150, 42280, 19115, 63937, 29886, 36429, 36529, 18478, 56491, 62131, 4774, 16819, 34981, 36813, 47786, 10865, 47806, 4656, 38251, 19982, 56813, 51126, 12642, 14732, 33501, 56092, 8555, 25430, 21088, 9403, 34766, 52982, 60560, 43230, 749, 12174, 18251, 4610, 4305, 42920, 9488, 12316, 25286, 63803, 50018, 7067, 13396, 60439, 4494, 52032, 19213, 57445, 43493, 6456, 19854, 36195, 47382, 42074, 28772, 3339, 45986, 44813, 3199, 37775, 51469, 10271, 11117, 6043, 14436, 34891, 21003, 13895, 39749, 57633, 63861, 18749, 16871, 16738, 55919, 9948, 14626, 46884, 58316, 12170, 37553, 11907, 50213, 56413, 22943, 14202, 29226, 22205, 51490, 2391, 23841, 7156, 2153, 68099, 49017, 18343, 21149, 31180, 25189, 14445, 25040, 35592, 50243, 55989, 39399, 55889, 9610, 52965, 64609, 49172, 21092, 31435, 30427, 4492, 51880, 46426, 47641, 9593, 36226, 60284, 54002, 15103, 50497, 18382, 23174, 20316, 50486, 14762, 8896, 3417, 18448, 4230, 48957, 27762, 11741, 23467, 13794, 64476, 66724, 23134, 23028, 16655, 46613, 15376, 2813, 38449, 54099, 12403, 15876, 19477, 18743, 28181, 43912, 35652, 18588, 25191, 47273, 7416, 26485, 47649, 44435, 56138, 45834, 47789, 45771, 47366, 55496, 59322, 42122, 31683, 11584, 14802, 19725, 53802, 60951, 29724, 36337, 38976, 20115, 65725, 40811, 43758, 47720, 16276, 17642, 31221, 4154, 67514, 56766, 18739, 10292, 44735, 4644, 1436, 22950, 12127, 33362, 52829, 43349, 47219, 63697, 34436, 23238, 24570, 46342, 55223, 20820, 37792, 48714, 16114, 32643, 10466, 38790, 5333, 44454, 45285, 55870, 346, 66227, 31085, 61255, 322, 61324, 12172, 14801, 30156, 50460, 29436, 52269, 66787, 64298, 37039, 1790, 32620, 18865, 35376, 50046, 28427, 32336, 19686, 19277, 40779, 50273, 60291, 10019, 53582, 17334, 62594, 53509, 14013, 22595, 58168, 55247, 54829, 43095, 55290, 14979, 824, 38461, 59801, 5809, 16022, 19896, 43189, 29738, 50257, 7981, 52648, 41247, 14470, 34485, 2457, 35121, 60988, 51771, 36009, 52811, 58095, 19816, 25610, 43427, 25932, 53648, 64937, 56243, 48790, 17052, 41568, 22063, 23986, 35639, 36768, 41842, 67233, 5298, 14399, 44536, 37268, 16056, 66909, 42781, 29422, 18659, 41385, 16188, 45617, 9471, 46459, 56963, 35308, 59181, 59124, 12581, 10768, 16849, 50297, 66328, 31116, 58845, 5291, 67524, 58341, 63906, 29919, 67750, 23124, 20299, 642, 65592, 35328, 50442, 45842, 57405, 194, 32811, 35909, 3487, 55971, 7060, 15496, 37563, 4182, 44928, 1087, 57055, 28676, 4953, 20031, 13292, 67857, 46937, 9627, 33492, 43079, 57845, 34106, 51835, 39304, 37172, 37993, 40216, 48463, 26659, 28256, 65338, 19353, 28960, 8310, 19886, 4089, 52075, 26017, 55917, 35868, 33011, 49724, 46828, 22659, 2781, 39201, 61061, 21133, 52341, 64811, 22276, 25376, 2455, 8462, 27978, 65495, 44634, 13015, 4899, 59581, 25328, 30561, 59996, 41813, 604, 21259, 47239, 66003, 19166, 24606, 26226, 39819, 24677, 12361, 7147, 28011, 57304, 25302, 25202, 38783, 54777, 36678, 47704, 45177, 39756, 18490, 24221, 58171, 22219, 6680, 13776, 6295, 15065, 3585, 26567, 40186, 12301, 35364, 7551, 55617, 15477, 13695, 44097, 24612, 18186, 57239, 10106, 5582, 61245, 61920, 27467, 6091, 62546, 3859, 1705, 39725, 48814, 10492, 50143, 41440, 21234, 56280, 33622, 24488, 47012, 67510, 24769, 28224, 59551, 63687, 35041, 67872, 47240, 16957, 44558, 47397, 10476, 5978, 3921, 17802, 47006, 68045, 41973, 4600, 19560, 67431, 13027, 7602, 16059, 56846, 5003, 47969, 18326, 63614, 35318, 30592, 59817, 50168, 12804, 12634, 12864, 15508, 13358, 66380, 19537, 20411, 28219, 26769, 56721, 4970, 18589, 55898, 11201, 16251, 30576, 24510, 3234, 23807, 27756, 29970, 8724, 61794, 57100, 43268, 54693, 50402, 21036, 59932, 2879, 6337, 26269, 10781, 68336, 22355, 1836, 37803, 13225, 22353, 26079, 9998, 50537, 22213, 12602, 35475, 12086, 45301, 758, 45461, 46757, 65701, 51058, 36302, 48109, 3876, 19377, 51252, 15558, 39898, 8622, 51042, 43252, 14566, 12705, 6605, 50393, 6249, 41686, 10446, 63655, 19255, 9107, 4483, 33831, 49861, 55264, 39102, 54246, 19189, 23574, 11873, 17360, 13331, 39523, 8955, 3349, 52453, 5475, 20724, 30306, 53366, 49026, 55850, 9811, 48731, 8348, 22674, 47324, 66951, 31008, 17813, 30191, 40231, 20252, 52726, 40161, 58415, 11685, 49393, 55187, 12430, 21284, 58216, 18243, 47611, 39585, 50617, 56430, 61551, 14117, 7161, 50954, 32360, 51594, 58128, 27260, 34567, 50921, 61954, 2952, 52958, 45636, 36289, 42941, 31781, 14319, 31707, 56827, 38819, 27498, 29405, 46010, 60352, 51677, 55230, 63408, 57137, 23932, 59020, 56212, 54445, 32516, 48058, 16345, 37760, 13944, 9266, 30981, 53897, 23247, 6217, 51110, 46872, 19138, 45274, 44632, 14053, 8655, 19491, 64222, 48513, 16698, 24187, 49930, 45605, 47501, 36129, 40337, 36530, 15982, 20116, 55104, 39862, 35737, 57424, 31143, 56498, 54525, 9258, 26712, 55560, 43085, 41060, 14335, 46568, 42892, 60168, 1415, 37875, 22419, 62461, 3868, 6258, 62725, 18207, 63918, 35530, 5697, 4115, 31625, 55727, 12204, 38859, 50523, 18323, 58049, 41626, 31457, 608, 2134, 64157, 7686, 63510, 50732, 49430, 20236, 41215, 40120, 43207, 39935, 13028, 56016, 7626, 57700, 47898, 67591, 15168, 30317, 2864, 10761, 31773, 19113, 13300, 6124, 34540, 40902, 34484, 46196, 1587, 61100, 36624, 34009, 23118, 55636, 281, 62018, 54676, 67657, 7609, 16523, 26263, 50860, 37970, 11947, 42021, 63647, 40608, 32659, 20051, 8503, 9987, 3289, 35825, 60246, 16293, 55705, 8484, 3115, 4101, 49836, 13043, 48888, 14784, 7431, 37009, 61855, 64527, 11631, 51242, 48978, 23681, 33163, 1815, 25995, 60279, 31175, 26745, 44847, 9189, 39612, 57353, 34861, 58180, 63193, 39581, 39650, 11742, 14973, 11824, 62940, 14007, 27941, 23510, 18437, 63000, 42855, 35658, 64722, 20921, 40165, 30913, 63931, 58319, 20442, 51706, 49637, 46512, 33066, 31140, 50679, 29933, 59703, 31422, 33944, 50965, 2685, 61955, 26016, 18152, 56400, 7284, 16916, 13020, 51464, 53520, 13119, 13869, 34597, 55846, 67263, 8084, 14641, 36344, 29511, 12903, 5185, 63692, 57562, 37479, 28229, 23826, 2243, 63652, 849, 28291, 61636, 23420, 31826, 58097, 13805, 31786, 45540, 28217, 60860, 29466, 24885, 44518, 1640, 17050, 27021, 24766, 47877, 38024, 54192, 54280, 21658, 9245, 52842, 54719, 39995, 26076, 5080, 16563, 43443, 15286, 64608, 11764, 21370, 21885, 61259, 17884, 27637, 64757, 37047, 48042, 62199, 50414, 2387, 49383, 317, 48687, 51039, 19286, 29734, 42520, 50504, 47776, 18452, 3788, 18720, 47662, 7176, 12667, 29096, 35819, 55862, 42337, 16266, 5279, 30853, 16206, 36399, 42676, 9054, 39706, 1046, 13117, 64396, 47182, 53202, 11825, 7208, 61731, 2535, 48745, 23123, 12389, 11188, 22282, 54945, 61961, 29895, 51943, 10258, 51367, 63309, 16076, 51456, 8997, 21402, 65976, 34034, 20803, 13188, 12112, 61665, 5469, 31521, 35286, 61492, 29458, 32227, 45254, 6026, 24061, 65319, 63999, 344, 6886, 19962, 62201, 38968, 3727, 67948, 49615, 47449, 45973, 12609, 32486, 24247, 47865, 56380, 56547, 6377, 42138, 47755, 30562, 8454, 20367, 18155, 25509, 26718, 30196, 2779, 49655, 5518, 23701, 51283, 55224, 60221, 8304, 30777, 44042, 28352, 60106, 56902, 15389, 63620, 47202, 26563, 50937, 37932, 4347, 601, 37885, 26153, 9665, 24801, 25871, 63560, 59739, 10366, 58087, 12633, 54065, 6202, 52204, 35458, 44965, 16754, 515, 6739, 17621, 53490, 13281, 52962, 15678, 38175, 10457, 62205, 37549, 58597, 54498, 37712, 7005, 17347, 48043, 67435, 3565, 9069, 67152, 35618, 35917, 56633, 43569, 11832, 45847, 18762, 19514, 66591, 34900, 48589, 39204, 56985, 39528, 340, 16244, 56577, 35975, 51383, 61897, 67595, 31182, 37023, 32564, 65857, 35307, 57669, 7982, 46082, 66968, 40220, 14106, 55449, 55242, 11062, 38594, 55172, 11888, 50254, 36796, 1574, 60623, 34427, 21409, 58869, 63053, 22946, 30671, 50247, 32178, 44122, 33732, 30472, 10311, 16047, 9508, 25732, 5804, 62038, 66277, 28978, 65945, 55692, 1306, 53546, 10893, 2304, 62796, 54687, 30024, 44413, 44060, 53933, 20556, 59034, 11344, 52587, 56316, 58899, 54725, 56473, 46979, 50202, 48004, 17292, 28467, 48971, 43692, 43432, 14371, 13092, 26427, 24390, 64021, 27050, 24650, 44357, 30930, 15458, 23548, 65079, 66640, 10459, 7535, 31894, 25975, 47292, 11132, 23043, 23052, 17914, 56955, 53459, 45185, 47543, 16132, 37532, 66899, 45257, 21472, 50901, 5968, 48203, 3466, 13183, 35845, 50771, 12173, 63965, 47710, 11820, 4922, 45337, 65470, 19285, 53445, 51744, 43806, 66153, 9144, 21862, 65098, 44865, 11649, 65342, 137, 31589, 43595, 21040, 43463, 290, 16457, 59402, 38581, 60232, 37293, 35539, 54124, 54332, 19964, 17872, 4484, 22272, 55638, 31050, 23922, 17584, 57611, 57549, 42765, 23549, 68114, 62369, 43309, 37062, 8190, 22432, 33483, 68076, 56700, 48945, 23318, 50623, 27537, 44651, 34488, 47518, 25252, 44309, 2442, 46656, 6501, 48606, 16434, 68381, 25974, 8631, 64870, 9066, 21384, 57198, 11932, 21533, 48839, 35679, 54136, 42048, 4477, 23921, 56537, 65105, 33665, 18501, 55631, 3816, 10852, 24160, 26855, 25805, 44968, 39721, 48137, 16578, 62346, 51271, 31354, 29157, 53277, 61027, 31581, 23631, 49328, 50443, 25691, 42997, 4925, 17373, 48786, 40981, 60747, 49255, 51869, 47724, 27407, 26264, 39967, 1030, 18496, 55708, 50380, 6175, 51694, 22492, 45297, 49265, 26784, 57566, 55962, 53519, 62275, 36135, 64714, 54962, 38564, 49772, 56418, 5001, 30692, 48821, 34072, 63271, 40112, 27739, 22286, 47908, 47861, 10350, 17236, 58243, 59759, 22816, 23438, 34430, 9582, 18316, 21956, 65957, 32674, 8586, 12273, 60959, 56677, 38705, 1918, 63097, 38864, 39032, 65334, 22386, 64813, 51012, 67589, 45985, 20488, 24334, 34672, 25506, 45144, 26198, 25253, 15030, 50121, 30716, 52972, 62482, 1852, 40391, 47537, 31643, 11756, 35069, 27027, 54925, 1669, 51160, 61572, 29407, 18546, 10145, 26369, 6020, 48798, 31266, 47597, 53635, 49819, 58755, 13282, 19645, 13392, 53355, 46553, 26166, 5671, 35436, 18354, 28066, 13749, 42124, 48992, 45719, 18712, 299, 42235, 26312, 40030, 55441, 43344, 39302, 25440, 67390, 9024, 14813, 21359, 49595, 6165, 51171, 42654, 27696, 51839, 38371, 23998, 43860, 20633, 16185, 15995, 53109, 13216, 20916, 59401, 32211, 61668, 54816, 48582, 14188, 8055, 41723, 39991, 43017, 22004, 57325, 61813, 35511, 5610, 32464, 43121, 16023, 43540, 4155, 3695, 53469, 342, 59066, 67512, 67960, 60465, 36726, 9803, 14933, 3609, 33183, 61321, 28121, 9402, 59831, 41714, 12895, 37966, 58436, 39611, 13594, 539, 55686, 40744, 18656, 45437, 23615, 56023, 44875, 19893, 30250, 12185, 5845, 19733, 3037, 26420, 10149, 61254, 17227, 26220, 27154, 12652, 44524, 25768, 60643, 38221, 29925, 48263, 5904, 47632, 51214, 5597, 4320, 10216, 14325, 31953, 35852, 10065, 40582, 39486, 60826, 51886, 36470, 24018, 2733, 29400, 60113, 51163, 30768, 28650, 43635, 31688, 45318, 49587, 46743, 44349, 7788, 50794, 9012, 6306, 2989, 2458, 68128, 12250, 26082, 50176, 8788, 42582, 17556, 18757, 61352, 55589, 20929, 21485, 24176, 24591, 5893, 15564, 39726, 60143, 37504, 32403, 36369, 65619, 63360, 24122, 4431, 28457, 23136, 63418, 37004, 14424, 63074, 54305, 37126, 27361, 18201, 53018, 13484, 64341, 51079, 47581, 40881, 20564, 48409, 8296, 31787, 33813, 58438, 29641, 34482, 26833, 19048, 66016, 25465, 2955, 62289, 31889, 32679, 48875, 11494, 47402, 1323, 60668, 32235, 36212, 35176, 9118, 26620, 4514, 2008, 65502, 26344, 5599, 1651, 19497, 49245, 15834, 15402, 26002, 62451, 43076, 16451, 60836, 27098, 36649, 36515, 18788, 18085, 50584, 20476, 52740, 50043, 31721, 60199, 63798, 27875, 22317, 23624, 29627, 44884, 60879, 17578, 19834, 49507, 9531, 47977, 46344, 41379, 65000, 23405, 41230, 33377, 47436, 12105, 59776, 49516, 6982, 47372, 13860, 44547, 46494, 23675, 55810, 18567, 15582, 29401, 58257, 29757, 41610, 46883, 26954, 5542, 2327, 52218, 38074, 10404, 19849, 31051, 57012, 61490, 3693, 60808, 10290, 6110, 7697, 33666, 55054, 15426, 16455, 44100, 58201, 47092, 6862, 2809, 22126, 3346, 16648, 30736, 20235, 44338, 51337, 20666, 57708, 61212, 68070, 35720, 9752, 22561, 8075, 25385, 3728, 23389, 46748, 22367, 34323, 63322, 55036, 3345, 13770, 14095, 53508, 61879, 21165, 13047, 59207, 27156, 57509, 12002, 2959, 38818, 16663, 8429, 6176, 3212, 43538, 33335, 11775, 3824, 63887, 11150, 11712, 18856, 36371, 13347, 23641, 61241, 11610, 52812, 12932, 50935, 9369, 45711, 57201, 26400, 43882, 45601, 49895, 61405, 40963, 41616, 50319, 5783, 23223, 22521, 2881, 23965, 16061, 60585, 44360, 46992, 19780, 61464, 36073, 16606, 20242, 60592, 36696, 15565, 61195, 44889, 29326, 2228, 42469, 54139, 65730, 50256, 30473, 56133, 4257, 65791, 17916, 11050, 27141, 18190, 24501, 7452, 21223, 1578, 44149, 49291, 56414, 57021, 22862, 41059, 63735, 19031, 32639, 3817, 66898, 41355, 11901, 42971, 30323, 50695, 658, 34440, 5491, 5501, 58038, 26303, 64999, 58718, 34394, 27105, 4709, 38874, 17795, 24707, 30092, 52943, 31584, 48107, 54012, 14121, 42004, 28070, 49977, 47978, 64499, 11068, 38816, 7188, 7884, 42775, 24842, 49098, 44033, 38718, 27641, 66112, 11563, 41148, 23724, 17249, 15745, 43264, 2571, 35569, 27623, 66150, 6560, 20553, 47693, 27159, 12722, 17596, 21957, 10586, 3197, 19833, 53251, 16762, 54209, 34429, 11943, 28304, 14820, 41955, 56800, 44535, 44549, 2418, 22040, 63388, 55596, 22854, 14748, 50961, 17105, 59010, 55860, 13995, 33675, 63181, 43816, 60793, 13649, 40036, 38601, 12677, 38285, 41898, 35761, 28061, 1671, 65928, 36520, 54082, 20195, 59144, 46820, 27106, 63199, 55090, 55489, 8151, 63810, 20039, 38711, 30933, 63327, 58193, 17224, 51353, 55052, 15011, 17694, 65797, 3823, 50392, 53760, 50821, 14686, 18456, 33135, 14500, 30162, 16626, 769, 30960, 57077, 59590, 35949, 5935, 57219, 14429, 15471, 13334, 60963, 41764, 51378, 6453, 22151, 11592, 43839, 47126, 67649, 39422, 4287, 8094, 38346, 8120, 27025, 65660, 59617, 33275, 11147, 35213, 20639, 59984, 34920, 40829, 42814, 16203, 55842, 56061, 43522, 40615, 47943, 53435, 41393, 47872, 18760, 60555, 19256, 23766, 55848, 15931, 307, 51010, 36558, 23159, 45951, 22089, 11541, 27461, 59773, 17199, 66286, 58518, 61729, 15380, 54846, 16187, 16083, 32215, 7447, 37077, 29705, 54564, 40573, 58726, 20517, 68100, 38148, 9430, 5714, 61335, 54034, 28185, 15179, 37488, 43652, 26103, 8225, 26672, 32407, 26684, 56292, 45851, 29168, 4131, 65870, 58005, 66012, 55777, 49350, 20052, 49035, 63400, 62102, 15237, 53061, 54404, 64438, 33471, 57464, 15696, 25198, 26838, 53052, 10183, 52948, 11992, 42544, 23112, 44785, 58233, 57496, 11016, 49871, 31134, 43149, 44553, 5301, 61752, 47517, 7591, 6067, 23762, 32366, 58721, 49633, 24906, 23080, 21002, 36210, 32709, 39804, 49030, 45188, 54020, 35032, 28603, 19293, 33250, 30459, 47863, 64849, 49968, 4666, 10773, 41970, 24560, 47639, 38225, 53193, 6507, 49600, 3538, 48840, 58314, 52686, 17164, 18135, 35746, 60034, 31063, 21430, 31659, 7540, 10808, 21836, 1673, 50419, 46335, 42890, 26261, 16751, 14647, 42884, 18576, 38384, 63580, 14208, 2487, 66379, 52081, 45478, 7662, 17788, 47593, 22767, 63264, 4358, 49915, 33794, 67198, 49293, 10899, 20809, 66497, 11152, 32910, 30788, 31512, 5839, 62483, 26962, 17056, 28463, 44729, 20875, 14604, 35001, 8947, 23398, 2730, 54019, 22208, 1842, 24245, 28883, 4370, 9491, 22642, 41126, 7072, 10062, 15234, 41171, 45798, 13603, 26410, 13166, 13609, 42126, 39282, 27553, 38110, 56019, 46657, 66336, 25496, 60870, 42382, 16526, 14275, 11601, 34590, 59027, 24180, 55757, 27071, 1501, 43623, 47866, 38306, 15942, 61313, 56204, 43545, 61577, 44882, 56798, 50743, 66307, 17951, 27429, 35044, 27650, 49526, 9557, 66721, 44227, 49815, 43723, 66313, 51716, 68354, 40290, 8595, 61211, 7277, 47650, 54182, 7092, 25931, 45606, 61892, 41065, 22935, 15563, 4897, 46943, 28637, 15240, 12092, 66868, 30672, 17281, 46922, 48118, 39816, 49905, 22696, 3928, 58917, 11808, 54733, 21730, 11582, 48658, 21611, 41583, 49426, 14304, 18629, 38566, 48472, 19808, 30219, 15893, 21442, 56209, 15586, 36132, 43056, 58261, 4689, 41585, 57791, 42359, 4189, 54673, 21256, 13209, 55265, 55185, 31208, 42824, 57630, 47702, 22033, 41896, 62530, 26362, 31088, 5386, 62109, 42243, 16126, 15216, 67243, 44624, 54349, 19754, 602, 47489, 9933, 28657, 42542, 23775, 50720, 22944, 65832, 12743, 36618, 30739, 44175, 42490, 6530, 12811, 41410, 705, 19986, 57628, 44653, 790, 64182, 50482, 575, 54431, 12335, 56420, 17579, 5456, 9638, 14362, 56216, 47654, 55138, 31004, 45502, 50903, 11884, 25453, 67201, 48153, 51938, 62623, 53332, 50609, 60525, 628, 57631, 23362, 67269, 47976, 66384, 5060, 59618, 26615, 23170, 65747, 23172, 430, 10577, 54323, 19484, 15789, 66521, 61390, 10820, 24140, 18494, 39793, 41763, 39542, 9289, 40826, 24774, 49776, 14866, 30754, 16052, 17945, 19891, 46935, 42181, 30833, 15405, 62261, 38190, 50862, 49248, 26925, 13624, 61783, 65359, 9201, 34081, 22077, 12043, 19187, 42653, 9774, 43228, 3439, 38571, 65271, 868, 3768, 49873, 23780, 26618, 44854, 52310, 3655, 9992, 17829, 28388, 5285, 51217, 3337, 29726, 65267, 12562, 21673, 19852, 9034, 40008, 7708, 55875, 58302, 5247, 33309, 6543, 27515, 48452, 29022, 46168, 32623, 30713, 1632, 23271, 11545, 48794, 37314, 25425, 1231, 62608, 57579, 59013, 10217, 22005, 26679, 17083, 61269, 41134, 57202, 47078, 1782, 15973, 52346, 29766, 26709, 24898, 46839, 67648, 50733, 63469, 38550, 8806, 16510, 63678, 64868, 45500, 8286, 2983, 1867, 8921, 57403, 62164, 57209, 64064, 49423, 15794, 60125, 65391, 58325, 11306, 53942, 15436, 27412, 19192, 20314, 41161, 60953, 10268, 38557, 5146, 29634, 27000, 25193, 63746, 55694, 56918, 53099, 5664, 47461, 28852, 40268, 37119, 49816, 7103, 41920, 46958, 17335, 66334, 44930, 16335, 66440, 48125, 32582, 64583, 48444, 33570, 4234, 26045, 62476, 47391, 21114, 17338, 21444, 21319, 11736, 29859, 39452, 62394, 16567, 48133, 7912, 56105, 1135, 49840, 48123, 61884, 60966, 55414, 6964, 63886, 31530, 56664, 10621, 27423, 1430, 3751, 51393, 22675, 63865, 18744, 38482, 8411, 63898, 10892, 61108, 52921, 30221, 35018, 42698, 8859, 48558, 38983, 55484, 8684, 22, 35367, 44754, 33725, 11725, 65251, 13298, 21101, 54135, 57811, 65652, 66100, 55450, 45343, 12519, 46083, 38862, 20119, 37574, 52844, 13803, 55673, 64346, 61924, 17561, 27376, 10264, 65579, 65124, 47569, 16166, 1105, 5510, 19701, 58746, 63579, 57536, 42801, 67567, 9883, 6903, 10927, 61055, 56258, 7170, 24424, 1685, 35378, 57802, 44211, 39795, 28448, 10361, 38431, 65561, 11818, 56032, 7123, 68050, 15016, 22609, 15991, 52641, 24047, 59562, 22960, 18396, 56300, 30968, 4420, 1616, 4193, 42188, 60709, 42184, 11247, 12603, 16162, 55125, 49333, 65293, 25493, 24407, 25860, 10293, 21140, 28477, 50261, 45833, 37402, 9535, 51258, 20089, 294, 61066, 31010, 34740, 2939, 30544, 12227, 37249, 48612, 41931, 60855, 24658, 6371, 35148, 2238, 53614, 32774, 17142, 56875, 21761, 59351, 33693, 37677, 11658, 2216, 61296, 4208, 54056, 56312, 11826, 40080, 29725, 28107, 8345, 61681, 57935, 4057, 6139, 24073, 2115, 34005, 63487, 30541, 16, 35391, 60370, 40370, 18642, 41128, 61643, 25022, 27528, 32377, 9711, 66854, 3915, 18500, 35306, 39368, 20120, 3516, 15857, 5853, 55951, 20717, 63194, 2426, 55289, 7802, 13954, 65986, 6002, 30178, 1102, 32208, 31339, 23489, 48334, 141, 47295, 42600, 16872, 49166, 27617, 59118, 49796, 14516, 60394, 16320, 1871, 14, 43708, 16045, 28408, 58015, 20114, 63421, 24182, 29369, 21387, 31735, 65347, 45970, 4454, 21174, 49582, 57128, 21301, 50440, 18513, 56811, 31987, 66747, 19201, 54554, 3742, 18703, 22406, 29929, 55343, 52739, 55837, 57510, 16454, 66407, 19546, 43697, 19467, 35440, 33353, 23520, 53781, 51401, 44112, 45894, 58663, 32305, 17194, 46764, 855, 11384, 47711, 55292, 40788, 7321, 6734, 4827, 27823, 37224, 6522, 2378, 39110, 13994, 13256, 23582, 56135, 51070, 47030, 46674, 44673, 9271, 5942, 51468, 12874, 50097, 36715, 56146, 52631, 21096, 59437, 52003, 1977, 12547, 58894, 36462, 21659, 19590, 45645, 40542, 46383, 48999, 8303, 44573, 9783, 30176, 23473, 62031, 39615, 10166, 16131, 21664, 10921, 41089, 57306, 47601, 14356, 14856, 26426, 64139, 51208, 280, 53793, 18317, 57147, 5093, 29506, 39508, 26717, 67998, 58615, 46061, 51245, 32640, 37841, 60744, 61072, 49029, 2519, 2452, 55285, 31984, 51980, 66045, 22261, 22652, 43273, 9429, 2830, 56250, 32255, 5730, 65492, 35220, 50538, 25973, 36053, 22274, 45649, 53420, 29051, 6976, 19525, 42151, 28410, 51735, 47270, 64437, 57543, 26354, 19216, 54934, 45882, 66222, 34373, 66034, 28548, 64081, 4641, 6367, 52490, 26462, 34286, 25032, 18094, 50936, 1732, 15252, 49504, 28663, 10837, 52322, 54478, 64903, 24642, 48286, 27763, 62578, 4123, 12354, 14862, 66644, 50791, 50962, 57706, 44239, 9049, 48238, 39275, 13622, 43546, 24587, 28808, 12823, 19719, 12561, 19474, 4244, 2025, 10690, 38560, 5846, 15222, 55475, 1076, 5236, 64098, 45565, 31732, 43178, 47412, 53418, 28265, 1106, 18492, 20957, 7612, 38577, 66057, 61617, 56161, 46835, 50516, 11186, 12350, 51889, 32814, 17576, 12719, 21571, 34906, 27750, 61860, 30258, 28165, 11784, 48758, 29457, 41407, 14412, 30920, 23050, 30851, 18446, 30995, 20857, 49421, 65808, 26915, 15448, 12386, 37278, 22339, 10263, 25722, 5178, 8705, 61318, 30904, 3531, 17760, 51641, 67673, 53413, 41705, 1849, 25759, 65044, 7706, 32812, 30364, 12351, 52931, 14224, 24905, 40123, 7819, 29195, 22723, 65936, 55071, 40916, 33855, 48453, 47426, 12560, 36477, 17791, 43448, 36188, 57081, 27654, 11647, 27728, 5159, 61219, 13135, 61963, 23813, 40745, 5134, 27474, 29897, 31319, 40336, 51005, 64434, 46158, 41445, 32590, 4650, 28284, 64254, 8964, 51856, 15944, 36495, 59361, 34016, 54869, 17692, 65844, 5262, 63651, 50117, 64297, 29122, 8428, 22589, 1208, 22314, 11305, 50250, 34313, 60109, 60566, 20731, 44797, 11740, 28792, 19756, 32767, 10372, 703, 64221, 28308, 20443, 31718, 4126, 45267, 17975, 13361, 16277, 8069, 43727, 17736, 16465, 1373, 62279, 12786, 12192, 30046, 60144, 36488, 46499, 49743, 65423, 36814, 63343, 2620, 37339, 7472, 67037, 21280, 53086, 2953, 67470, 55738, 13830, 1776, 14067, 26406, 64664, 62719, 10273, 5087, 18203, 23416, 57440, 50470, 60896, 15298, 7517, 24600, 43497, 16012, 60864, 807, 41153, 65449, 25424, 64288, 48859, 11250, 292, 58340, 26726, 54378, 2388, 64122, 21567, 31871, 65107, 17436, 63867, 18390, 14671, 37487, 38703, 40763, 40404, 10658, 54168, 42200, 40520, 66716, 53932, 50692, 9867, 31822, 27549, 64248, 12187, 26791, 31398, 66395, 47554, 43459, 28543, 12414, 19695, 56884, 32270, 19339, 28867, 58445, 24271, 44368, 41679, 52076, 51984, 9935, 68257, 29898, 6878, 44261, 25878, 22613, 27649, 26397, 16720, 11810, 5385, 11689, 13400, 42660, 10341, 48872, 10305, 59439, 51398, 65373, 20064, 63802, 42535, 36116, 9886, 65836, 57013, 44572, 36363, 41869, 25143, 61904, 61007, 15314, 60992, 18587, 61341, 860, 37679, 26136, 60483, 54470, 60443, 54409, 772, 40635, 38523, 16965, 27424, 40758, 40995, 21632, 34233, 33939, 46826, 31232, 64847, 2126, 44868, 49699, 30722, 30148, 22302, 23810, 36173, 21917, 823, 18044, 7863, 4590, 27493, 19480, 47798, 55758, 26267, 43416, 36729, 4987, 127, 33587, 6015, 11543, 4019, 35381, 35395, 58611, 60020, 49758, 63416, 27774, 65407, 58286, 23007, 35540, 45003, 56839, 55095, 63765, 48603, 66896, 62350, 47450, 13883, 44414, 49123, 31415, 44584, 49976, 61881, 52194, 54863, 6271, 17622, 53886, 26112, 67745, 39005, 3869, 50520, 9850, 15470, 8610, 8860, 39207, 29416, 28911, 36457, 52266, 61985, 708, 3083, 43259, 14382, 43352, 59445, 51981, 59577, 41577, 50968, 11599, 50839, 52703, 695, 65819, 63574, 29275, 8741, 10245, 10984, 41588, 1744, 2178, 7659, 45247, 35566, 66728, 2277, 45695, 42284, 43471, 68421, 33299, 61431, 63818, 61015, 63415, 31510, 58170, 45175, 32086, 23772, 55516, 30410, 55760, 19655, 6341, 48192, 19459, 57037, 56877, 64914, 55387, 5294, 63707, 27689, 37818, 67411, 19992, 26644, 46110, 41527, 30188, 21586, 11481, 20093, 35773, 11420, 35636, 25155, 51793, 7942, 61233, 59312, 9549, 3617, 12032, 10052, 18436, 65314, 7154, 43594, 66634, 18161, 50588, 48170, 22397, 33357, 9272, 60253, 37715, 61466, 65092, 6655, 51104, 66791, 43783, 51663, 54370, 20718, 44925, 10700, 42728, 46393, 6692, 58389, 50355, 2597, 50841, 52488, 57621, 63914, 7739, 18517, 50736, 1684, 24889, 4820, 53808, 18831, 12237, 48617, 37220, 68248, 32701, 49721, 57146, 63594, 6280, 39485, 52349, 60716, 26655, 43284, 21058, 30106, 56077, 19340, 20919, 58386, 55627, 25533, 43135, 15336, 63457, 37899, 22230, 22981, 24955, 7441, 34577, 36139, 48701, 10425, 26663, 12851, 36185, 27793, 41936, 37929, 27611, 5256, 28133, 23802, 5519, 22088, 20813, 63713, 42898, 34508, 34975, 39070, 26133, 20401, 61014, 16490, 20053, 15675, 3583, 29718, 66416, 27448, 46776, 2907, 35417, 12718, 65122, 195, 46283, 62762, 22798, 35874, 615, 9282, 64640, 55637, 30871, 14740, 15136, 11552, 11047, 21052, 51648, 41319, 64654, 48318, 25512, 10771, 21548, 14290, 48750, 44455, 10140, 21680, 29043, 21998, 32311, 1748, 48998, 47025, 50405, 17919, 18955, 2280, 13104, 36331, 45128, 67398, 10974, 8091, 55554, 65555, 684, 50494, 37329, 16483, 63188, 10660, 14367, 46025, 57165, 56115, 10343, 66632, 51112, 22852, 60667, 13204, 47670, 30241, 59302, 59375, 1886, 62872, 19137, 13523, 6100, 28875, 18009, 6947, 19335, 63954, 4004, 50021, 23896, 54540, 18378, 65269, 63008, 30575, 20004, 31403, 55629, 52318, 1031, 19426, 26130, 18466, 35707, 14968, 37906, 39491, 24080, 49556, 27663, 36441, 47406, 5315, 30712, 45357, 14191, 1048, 21622, 8393, 20684, 36792, 44250, 37791, 53063, 62428, 27566, 62210, 67374, 20926, 28411, 44268, 25057, 31016, 30922, 1122, 21527, 47862, 36037, 56358, 56041, 13706, 19313, 20978, 57595, 28928, 65954, 34771, 46716, 24538, 26049, 49755, 62917, 24101, 40451, 29069, 39526, 31377, 19635, 67015, 64447, 64569, 59655, 40469, 21091, 46627, 43703, 35910, 66595, 63385, 8807, 43007, 46827, 18761, 27656, 54202, 27753, 26890, 2920, 45818, 65078, 67471, 10051, 19067, 5396, 28854, 65688, 40214, 55296, 46719, 56327, 5776, 31742, 43553, 35545, 33683, 52248, 49508, 33647, 19966, 30189, 8185, 56572, 14531, 64354, 16828, 13014, 65219, 66650, 13278, 67142, 39944, 31397, 66960, 3960, 62095, 59292, 50806, 38350, 22986, 23564, 58649, 67427, 23260, 49517, 21960, 58488, 43887, 16951, 22091, 42937, 1617, 59024, 38362, 51831, 55490, 51967, 7273, 6006, 4294, 45359, 12585, 54234, 4371, 22402, 26194, 65943, 53374, 45788, 53847, 30817, 2603, 16302, 51105, 66019, 52566, 50451, 30604, 14326, 61991, 44485, 40234, 39596, 59321, 40046, 4663, 56296, 46217, 60684, 1990, 12731, 54887, 50221, 24372, 40265, 33701, 2758, 54806, 29010, 62657, 66676, 20441, 10545, 38775, 61664, 50499, 50793, 66350, 53234, 20986, 1800, 54239, 26746, 23537, 20676, 57444, 51553, 19571, 2961, 47634, 3320, 17189, 37344, 45940, 47594, 56185, 56214, 68353, 16763, 9439, 53514, 17794, 10554, 18102, 3664, 46730, 22608, 46942, 63866, 47396, 45262, 38706, 6999, 3833, 41223, 52567, 44181, 21830, 31752, 39015, 40340, 31977, 45179, 8664, 27297, 34670, 54817, 48018, 13021, 27927, 33366, 41474, 18918, 47994, 24516, 54895, 18834, 5390, 48182, 13346, 31557, 27546, 37943, 50872, 26026, 29998, 56139, 59353, 37934, 55225, 46200, 20187, 14377, 12546, 35247, 10223, 66705, 57600, 12099, 12675, 51457, 29624, 1019, 59123, 41361, 37207, 19542, 16145, 51670, 57064, 11603, 38106, 44153, 22062, 13775, 63120, 55795, 36555, 44664, 27587, 64105, 36254, 54620, 38055, 40566, 62079, 19487, 14786, 21466, 44266, 34453, 39221, 63389, 52961, 40578, 25530, 5797, 22412, 59420, 22928, 4745, 12144, 26334, 35864, 6426, 45981, 48913, 45265, 20908, 48027, 30035, 32673, 56754, 8398, 63846, 18237, 62159, 51653, 2628, 56134, 62447, 46114, 50496, 65452, 62584, 4527, 35222, 53033, 33699, 21842, 3006, 17582, 68177, 29348, 24189, 24960, 53139, 9779, 36844, 44134, 4129, 6112, 3691, 21715, 59688, 62436, 50616, 65824, 16452, 9035, 67876, 42915, 41198, 2492, 36547, 17567, 5506, 46907, 39882, 3366, 35466, 52940, 28222, 5877, 698, 47640, 10741, 7599, 32968, 56152, 49667, 4242, 29425, 46135, 9216, 37187, 10916, 31971, 57955, 55855, 44123, 58202, 20541, 18079, 1521, 26445, 22018, 51624, 35093, 33595, 30095, 19518, 35998, 41837, 61970, 64962, 14437, 23025, 19889, 62157, 23908, 31448, 65827, 23066, 17925, 61592, 55582, 33032, 50719, 28486, 47557, 59485, 26042, 43940, 36172, 7090, 51472, 1649, 44452, 14143, 17492, 49316, 66449, 1308, 62528, 9388, 9963, 30203, 48725, 14775, 26840, 26230, 39467, 14799, 33903, 42429, 27727, 60930, 47174, 19735, 52428, 40205, 60453, 65430, 23856, 43404, 17624, 16855, 26983, 8082, 798, 43926, 45612, 58039, 27796, 47383, 5662, 19606, 24024, 56959, 12670, 49159, 57199, 63251, 12973, 67522, 58479, 11269, 12627, 29414, 55246, 32732, 59371, 25537, 9377, 16758, 65049, 57613, 52263, 40136, 35388, 47896, 20155, 45442, 67310, 32633, 55814, 23972, 41196, 58107, 64252, 17637, 58910, 68117, 29969, 31052, 1205, 63014, 25324, 16812, 5414, 66994, 16472, 32483, 60910, 20273, 8394, 68398, 43185, 17972, 5360, 40889, 43245, 48214, 40380, 59295, 16759, 27638, 27795, 28007, 22952, 27526, 30887, 66708, 22774, 35879, 55690, 3814, 12214, 55100, 34396, 449, 22775, 23868, 39325, 65649, 10875, 38283, 44732, 30956, 19616, 31026, 51501, 8898, 36094, 13481, 435, 1317, 66657, 44647, 28168, 5793, 65190, 7000, 66278, 50095, 26034, 60567, 27446, 46611, 15226, 5508, 7962, 8032, 5318, 39314, 59079, 33968, 67637, 28358, 16888, 23447, 57754, 66872, 56856, 53740, 55015, 36778, 15923, 5613, 15038, 27182, 12896, 1821, 15746, 2437, 25140, 19149, 34840, 15122, 16411, 62656, 3681, 22012, 44723, 48886, 44377, 282, 64888, 8024, 21443, 63854, 68058, 12215, 66997, 22128, 39376, 20860, 67632, 3757, 41479, 67212, 47726, 5866, 40541, 42296, 19030, 37547, 24545, 22007, 22468, 14836, 65404, 17048, 3190, 12726, 64918, 28905, 57204, 55973, 39836, 8952, 18408, 24259, 56818, 35811, 11427, 59470, 18254, 5436, 21035, 52700, 25488, 65106, 3418, 27166, 32528, 8886, 59589, 55776, 50759, 20482, 37195, 61225, 27133, 63372, 52044, 64934, 66156, 64875, 15410, 7671, 9970, 38906, 5455, 41296, 51650, 14125, 36544, 65597, 4405, 60317, 40171, 21184, 9782, 16574, 30053, 35374, 56219, 67100, 17774, 48183, 44034, 14758, 7026, 53171, 55248, 10961, 40209, 60710, 54232, 25503, 19588, 27878, 9662, 48347, 28257, 12220, 6236, 68115, 27539, 61190, 41520, 43046, 55371, 56481, 13917, 13823, 55318, 17070, 28376, 47057, 2056, 55681, 64118, 10394, 49584, 30567, 51278, 58009, 13366, 25907, 64858, 20513, 43077, 30915, 33036, 50635, 49410, 23430, 11512, 62502, 28097, 39698, 50680, 35532, 21450, 30924, 14315, 55569, 41387, 61853, 32689, 62479, 41728, 7298, 43485, 29500, 5490, 60536, 58686, 65709, 43991, 68434, 14249, 50900, 30901, 7211, 3892, 58955, 23842, 34257, 28912, 44192, 59380, 22712, 5327, 46316, 11489, 55581, 13251, 780, 35183, 40003, 33061, 31022, 50349, 8816, 26368, 47633, 39269, 37430, 30563, 32850, 37857, 6997, 43575, 47646, 13758, 17581, 23773, 61503, 65406, 32841, 44747, 13427, 17400, 45564, 53939, 43460, 57086, 15437, 43627, 14142, 57135, 52320, 66603, 16661, 59160, 37855, 7183, 26430, 36164, 38901, 33829, 60601, 58263, 4421, 31926, 60175, 50904, 5112, 7879, 2449, 35003, 22204, 3744, 48241, 22985, 65850, 3562, 62268, 17996, 11718, 7660, 41995, 2097, 8289, 23850, 33661, 55873, 24391, 12873, 40045, 10685, 20655, 18647, 8909, 54571, 66950, 28246, 22368, 67069, 25811, 58868, 7429, 16458, 33193, 25109, 20713, 43628, 49568, 17254, 10960, 45225, 29625, 67896, 27252, 9730, 6195, 7546, 7794, 9327, 45052, 47674, 51025, 44199, 58294, 67221, 29493, 46285, 33060, 16428, 61602, 29012, 10073, 62935, 12128, 5725, 60862, 18700, 55911, 4157, 27624, 46058, 57447, 49483, 22755, 50210, 53965, 60033, 33957, 36930, 26895, 18435, 1674, 1704, 11030, 43192, 38880, 16787, 33895, 66073, 25470, 41167, 13288, 29142, 38896, 26349, 36827, 58836, 49321, 24656, 57959, 34206, 63660, 11969, 31554, 4927, 35483, 17080, 59411, 9862, 6967, 57359, 64266, 21419, 43773, 48989, 23071, 26667, 56382, 67368, 25129, 27287, 8230, 14171, 11854, 9092, 62046, 54083, 62738, 32775, 19127, 49720, 14524, 66173, 34717, 67097, 28802, 5154, 1065, 35732, 28785, 60422, 47419, 61756, 2262, 57432, 59971, 49042, 14800, 19091, 12549, 12329, 35560, 55439, 27487, 64042, 77, 38434, 18050, 56342, 41450, 48787, 16587, 26730, 66061, 31037, 8155, 15499, 58667, 1620, 28096, 50606, 6363, 30266, 36591, 53899, 40207, 36088, 3770, 14473, 18368, 40255, 63397, 20359, 20890, 8417, 66293, 3882, 13752, 33577, 50075, 12167, 28033, 8191, 63643, 15432, 14133, 41874, 44014, 62486, 26498, 25608, 22263, 67168, 16784, 15502, 55949, 20351, 48521, 31188, 44539, 45558, 6594, 23983, 57164, 2361, 26820, 44270, 52925, 41024, 62504, 22713, 62660, 1931, 36617, 32294, 52600, 16002, 33681, 21782, 28149, 56661, 30127, 21743, 56255, 46762, 34031, 8843, 18277, 1392, 32569, 50914, 57841, 18839, 11955, 64505, 25867, 6838, 8256, 12495, 23742, 12496, 50735, 40232, 11794, 51489, 8812, 59907, 2687, 162, 30251, 29911, 4500, 50683, 49860, 44967, 60294, 27786, 67539, 48474, 62322, 41165, 31120, 28835, 4814, 51965, 45829, 66941, 18696, 40403, 59624, 48851, 32667, 14785, 24323, 21924, 41051, 6850, 59695, 21799, 57265, 65161, 53025, 40571, 26640, 27024, 11243, 50644, 67139, 67495, 53260, 34908, 54060, 12727, 43117, 3318, 61908, 27409, 68092, 12587, 16441, 44690, 57793, 32367, 21469, 52511, 40384, 16726, 53769, 55298, 55654, 47002, 27309, 15228, 38232, 30661, 40709, 36582, 66394, 64238, 47363, 29353, 37941, 66109, 67615, 18631, 9475, 34077, 32240, 62727, 59824, 56495, 49486, 19621, 14206, 57047]\n"
          ]
        }
      ],
      "source": [
        "tmp_dict = {}\n",
        "tmp_val = rf_model.feature_importances_\n",
        "for index in range(len(tmp_val)):\n",
        "    tmp_dict[index]=tmp_val[index]\n",
        "important_feature_idx = [x for x,_ in sorted(tmp_dict.items(), key=lambda f: f[1], reverse=True)][:15000]\n",
        "del tmp_dict\n",
        "\n",
        "print(important_feature_idx)"
      ],
      "metadata": {
        "pycharm": {
          "name": "#%%\n"
        },
        "colab": {
          "base_uri": "https://localhost:8080/"
        },
        "id": "l6s36COHzxKH",
        "outputId": "d08d04cf-e4bd-4e1a-a995-a0c511b7382c"
      }
    },
    {
      "cell_type": "code",
      "execution_count": 33,
      "outputs": [],
      "source": [
        "from scipy.sparse import csr_matrix, SparseEfficiencyWarning\n",
        "import warnings\n",
        "\n",
        "warnings.simplefilter('ignore', SparseEfficiencyWarning)\n",
        "\n",
        "from scipy.sparse import csr_matrix\n",
        "def replacerow(matrix, row_index, new_row):\n",
        "    matrix.data[matrix.indptr[row_index]:matrix.indptr[row_index+1]] = 0.0\n",
        "    indices = np.nonzero(new_row)\n",
        "    matrix[row_index, indices] = new_row[indices]\n",
        "\n",
        "X_train_copy = csr_matrix((20000, 15000), dtype=np.int64)\n",
        "X_test_copy = csr_matrix((5000, 15000), dtype=np.int64)\n",
        "\n",
        "for i in range(X_train_copy.shape[0]):\n",
        "    row = pd.DataFrame(X_train_0[i].toarray())[important_feature_idx].to_numpy()\n",
        "    replacerow(X_train_copy, i, row)\n",
        "\n",
        "for i in range(X_test_copy.shape[0]):\n",
        "    row = pd.DataFrame(X_test_0[i].toarray())[important_feature_idx].to_numpy()\n",
        "    replacerow(X_test_copy, i, row) "
      ],
      "metadata": {
        "pycharm": {
          "name": "#%%\n"
        },
        "id": "IkNUO5mczxKH"
      }
    },
    {
      "cell_type": "markdown",
      "source": [
        "[source for previous code cell](https://notebook.community/andim/pysnippets/sparse-matrix-updating-benchmarking)"
      ],
      "metadata": {
        "collapsed": false,
        "pycharm": {
          "name": "#%% md\n"
        },
        "id": "kK5DDOulzxKI"
      }
    },
    {
      "cell_type": "code",
      "execution_count": 34,
      "outputs": [],
      "source": [
        "rf_clf1 = RandomForestClassifier(n_estimators=500)\n",
        "rf_clf2 = RandomForestClassifier(n_estimators=500)\n",
        "rf_clf3 = RandomForestClassifier(n_estimators=500)\n",
        "lr_clf1 = LogisticRegression(max_iter=1e5)\n",
        "lr_clf2 = LogisticRegression(max_iter=1e5)\n",
        "lr_clf3 = LogisticRegression(max_iter=1e5)"
      ],
      "metadata": {
        "pycharm": {
          "name": "#%%\n"
        },
        "id": "xutxhQdLzxKI"
      }
    },
    {
      "cell_type": "code",
      "execution_count": 35,
      "outputs": [],
      "source": [
        "rf_clf1.fit(X_train_tra, y_train)\n",
        "rf_clf1_pred_proba = rf_clf1.predict_proba(X_test_tra)[::,1]\n",
        "rf_clf1_auc = roc_auc_score(y_test, rf_clf1_pred_proba)"
      ],
      "metadata": {
        "pycharm": {
          "name": "#%%\n"
        },
        "id": "RXRk6YqWzxKI"
      }
    },
    {
      "cell_type": "code",
      "execution_count": 36,
      "outputs": [],
      "source": [
        "rf_clf2.fit(X_train_tra2, y_train)\n",
        "rf_clf2_pred_proba = rf_clf2.predict_proba(X_test_tra2)[::,1]\n",
        "rf_clf2_auc = roc_auc_score(y_test, rf_clf2_pred_proba)"
      ],
      "metadata": {
        "pycharm": {
          "name": "#%%\n"
        },
        "id": "dEah1L6nzxKI"
      }
    },
    {
      "cell_type": "code",
      "execution_count": 37,
      "outputs": [],
      "source": [
        "rf_clf3.fit(X_train_copy, y_train)\n",
        "rf_clf3_pred_proba = rf_clf3.predict_proba(X_test_copy)[::,1]\n",
        "rf_clf3_auc = roc_auc_score(y_test, rf_clf3_pred_proba)"
      ],
      "metadata": {
        "pycharm": {
          "name": "#%%\n"
        },
        "id": "MqzQdjr1zxKI"
      }
    },
    {
      "cell_type": "code",
      "execution_count": 38,
      "outputs": [],
      "source": [
        "lr_clf1.fit(X_train_tra, y_train)\n",
        "lr_clf1_pred_proba = lr_clf1.predict_proba(X_test_tra)[::,1]\n",
        "lr_clf1_auc = roc_auc_score(y_test, lr_clf1_pred_proba)"
      ],
      "metadata": {
        "pycharm": {
          "name": "#%%\n"
        },
        "id": "8CKmVal_zxKI"
      }
    },
    {
      "cell_type": "code",
      "execution_count": 39,
      "outputs": [],
      "source": [
        "lr_clf2.fit(X_train_tra2, y_train)\n",
        "lr_clf2_pred_proba = lr_clf2.predict_proba(X_test_tra2)[::,1]\n",
        "lr_clf2_auc = roc_auc_score(y_test, lr_clf2_pred_proba)"
      ],
      "metadata": {
        "pycharm": {
          "name": "#%%\n"
        },
        "id": "cu8bBNOfzxKJ"
      }
    },
    {
      "cell_type": "code",
      "execution_count": 40,
      "outputs": [],
      "source": [
        "lr_clf3.fit(X_train_copy, y_train)\n",
        "lr_clf3_pred_proba = lr_clf3.predict_proba(X_test_copy)[::,1]\n",
        "lr_clf3_auc = roc_auc_score(y_test, lr_clf3_pred_proba)"
      ],
      "metadata": {
        "pycharm": {
          "name": "#%%\n"
        },
        "id": "VKwhFiogzxKJ"
      }
    },
    {
      "cell_type": "code",
      "execution_count": 41,
      "outputs": [
        {
          "output_type": "stream",
          "name": "stdout",
          "text": [
            "RF 1: 0.93494896\n",
            "RF 2: 0.93142176\n",
            "RF 3: 0.93140776\n",
            "LR 1: 0.93517184\n",
            "LR 2: 0.94515824\n",
            "LR 3: 0.94032416\n"
          ]
        }
      ],
      "source": [
        "print(\"RF 1:\", rf_clf1_auc)\n",
        "print(\"RF 2:\", rf_clf2_auc)\n",
        "print(\"RF 3:\", rf_clf3_auc)\n",
        "\n",
        "print(\"LR 1:\", lr_clf1_auc)\n",
        "print(\"LR 2:\", lr_clf2_auc)\n",
        "print(\"LR 3:\", lr_clf3_auc)"
      ],
      "metadata": {
        "pycharm": {
          "name": "#%%\n"
        },
        "colab": {
          "base_uri": "https://localhost:8080/"
        },
        "id": "oK7JFESwzxKJ",
        "outputId": "1744e2f6-e382-47f6-fc07-fc164cb1b2a9"
      }
    },
    {
      "cell_type": "markdown",
      "source": [
        "The best estimator is LogReg + HashVectorizer + 15.000 features: 0.94515824"
      ],
      "metadata": {
        "id": "H2K91f3dEv0y"
      }
    },
    {
      "cell_type": "markdown",
      "metadata": {
        "pycharm": {
          "name": "#%% md\n"
        },
        "id": "9Q4047p0zxKJ"
      },
      "source": [
        "**Task 1.7 [2 points] - Token Normalization**\n",
        "\n",
        "Choose the best working method from previous task. Try improve it by applying a token normalization technique.\n",
        "\n",
        "You may use one of normalizers imported below, but feel free to experiment.\n",
        "\n",
        "Do the following:\n",
        "- Apply normalizer to X_train, X_test\n",
        "- Build BOW with CountVectorizer + stopwords. What are the shapes of train and test matrices now?\n",
        "- Reduce dimensionality with the best method from Task 2.6. You may try all of them\n",
        "- Train LR/RF to examine whether ROC AUC or Accuracy was improved."
      ]
    },
    {
      "cell_type": "code",
      "execution_count": 42,
      "metadata": {
        "pycharm": {
          "name": "#%%\n"
        },
        "colab": {
          "base_uri": "https://localhost:8080/"
        },
        "id": "bwRDd1WbzxKJ",
        "outputId": "aea70ec1-8a02-4a80-d729-ed5332444a50"
      },
      "outputs": [
        {
          "output_type": "stream",
          "name": "stderr",
          "text": [
            "[nltk_data] Downloading package wordnet to /root/nltk_data...\n",
            "[nltk_data] Downloading package omw-1.4 to /root/nltk_data...\n",
            "[nltk_data] Downloading package punkt to /root/nltk_data...\n",
            "[nltk_data]   Unzipping tokenizers/punkt.zip.\n"
          ]
        },
        {
          "output_type": "execute_result",
          "data": {
            "text/plain": [
              "True"
            ]
          },
          "metadata": {},
          "execution_count": 42
        }
      ],
      "source": [
        "from nltk.stem import WordNetLemmatizer, PorterStemmer\n",
        "nltk.download('wordnet')\n",
        "nltk.download('omw-1.4')\n",
        "nltk.download('punkt')"
      ]
    },
    {
      "cell_type": "code",
      "source": [
        "lemmatizer = WordNetLemmatizer()\n",
        "X_train_mod = pd.Series()\n",
        "X_test_mod = pd.Series()\n",
        "\n",
        "for text in X_train:\n",
        "    tokens = nltk.word_tokenize(text.lower().replace('<br /><br />', ' '))\n",
        "    X_train_mod = pd.concat([X_train_mod, pd.Series(' '.join([lemmatizer.lemmatize(w) for w in tokens]))])\n",
        "\n",
        "for text in X_test:\n",
        "    tokens = nltk.word_tokenize(text.lower().replace('<br /><br />', ' '))\n",
        "    X_test_mod = pd.concat([X_test_mod, pd.Series(' '.join([lemmatizer.lemmatize(w) for w in tokens]))])"
      ],
      "metadata": {
        "colab": {
          "base_uri": "https://localhost:8080/"
        },
        "id": "XkHXuoWFFBE0",
        "outputId": "922716be-a4a5-4223-8b41-50ba78794bca"
      },
      "execution_count": 43,
      "outputs": [
        {
          "output_type": "stream",
          "name": "stderr",
          "text": [
            "/usr/local/lib/python3.7/dist-packages/ipykernel_launcher.py:2: DeprecationWarning: The default dtype for empty Series will be 'object' instead of 'float64' in a future version. Specify a dtype explicitly to silence this warning.\n",
            "  \n",
            "/usr/local/lib/python3.7/dist-packages/ipykernel_launcher.py:3: DeprecationWarning: The default dtype for empty Series will be 'object' instead of 'float64' in a future version. Specify a dtype explicitly to silence this warning.\n",
            "  This is separate from the ipykernel package so we can avoid doing imports until\n"
          ]
        }
      ]
    },
    {
      "cell_type": "code",
      "source": [
        "clf_mod = CountVectorizer(stop_words=stopwords.words('english'))\n",
        "clf_mod.fit(X_train_mod)\n",
        "X_train_mod_0 = clf_mod.transform(X_train_mod)\n",
        "X_test_mod_0 = clf_mod.transform(X_test_mod)\n",
        "\n",
        "print(X_train_mod_0.shape, X_test_mod_0.shape)"
      ],
      "metadata": {
        "colab": {
          "base_uri": "https://localhost:8080/"
        },
        "id": "66u_OiwdFVsT",
        "outputId": "29581eae-3b30-4bf9-9d38-06d0951f8b10"
      },
      "execution_count": 44,
      "outputs": [
        {
          "output_type": "stream",
          "name": "stdout",
          "text": [
            "(20000, 63053) (5000, 63053)\n"
          ]
        }
      ]
    },
    {
      "cell_type": "markdown",
      "source": [
        "Due to the code above the amount of features in new matrices is: 63053"
      ],
      "metadata": {
        "id": "QHnJJD1UFWSL"
      }
    },
    {
      "cell_type": "code",
      "source": [
        "clf_mod_1 = HashingVectorizer(stop_words=stopwords.words('english'),\n",
        "                            n_features=15_000)\n",
        "clf_mod_1.fit(X_train_mod)\n",
        "X_train_mod_1 = clf_mod_1.transform(X_train_mod)\n",
        "X_test_mod_1 = clf_mod_1.transform(X_test_mod)"
      ],
      "metadata": {
        "id": "cc72PSmoF0Qr"
      },
      "execution_count": 45,
      "outputs": []
    },
    {
      "cell_type": "code",
      "source": [
        "rf_m = RandomForestClassifier(n_estimators=500)\n",
        "lr_m = LogisticRegression(max_iter=1e5)\n",
        "\n",
        "rf_m.fit(X_train_mod_1, y_train)\n",
        "rf_m_proba = rf_m.predict_proba(X_test_mod_1)[::,1]\n",
        "rf_m_rocauc = roc_auc_score(y_true=y_test, y_score=rf_m_proba)\n",
        "\n",
        "lr_m.fit(X_train_mod_1, y_train)\n",
        "lr_m_proba = lr_m.predict_proba(X_test_mod_1)[::,1]\n",
        "lr_m_rocauc = roc_auc_score(y_true=y_test, y_score=lr_m_proba)\n",
        "\n",
        "print(\"RF:\", rf_m_rocauc)\n",
        "print(\"LR:\", lr_m_rocauc)"
      ],
      "metadata": {
        "colab": {
          "base_uri": "https://localhost:8080/"
        },
        "id": "cZ5cpU0zGIsa",
        "outputId": "acc707fd-d74e-46e8-b3c5-c09e25d72cb0"
      },
      "execution_count": 46,
      "outputs": [
        {
          "output_type": "stream",
          "name": "stdout",
          "text": [
            "RF: 0.9329682399999999\n",
            "LR: 0.94443712\n"
          ]
        }
      ]
    },
    {
      "cell_type": "markdown",
      "source": [
        "The result was decreased by 0.94515824 - 0.94443712 = 0.00072112"
      ],
      "metadata": {
        "id": "KkD3Z-FGHL-9"
      }
    },
    {
      "cell_type": "markdown",
      "metadata": {
        "pycharm": {
          "name": "#%% md\n"
        },
        "id": "FItc3YtczxKJ"
      },
      "source": [
        "## Part 2. Word Embeddings [7 points]"
      ]
    },
    {
      "cell_type": "code",
      "execution_count": 47,
      "metadata": {
        "pycharm": {
          "name": "#%%\n"
        },
        "id": "c-mryQ5bzxKK"
      },
      "outputs": [],
      "source": [
        "import gensim.downloader"
      ]
    },
    {
      "cell_type": "markdown",
      "metadata": {
        "pycharm": {
          "name": "#%% md\n"
        },
        "id": "wAauNlAKzxKK"
      },
      "source": [
        "Here is the list of pretrained word embedding models. We suggest using `glove-wiki-gigaword-100`."
      ]
    },
    {
      "cell_type": "code",
      "execution_count": 48,
      "metadata": {
        "pycharm": {
          "name": "#%%\n"
        },
        "colab": {
          "base_uri": "https://localhost:8080/"
        },
        "id": "rLAokwnNzxKK",
        "outputId": "3b834607-3f5f-47b0-d8b1-308528348604"
      },
      "outputs": [
        {
          "output_type": "execute_result",
          "data": {
            "text/plain": [
              "['fasttext-wiki-news-subwords-300',\n",
              " 'conceptnet-numberbatch-17-06-300',\n",
              " 'word2vec-ruscorpora-300',\n",
              " 'word2vec-google-news-300',\n",
              " 'glove-wiki-gigaword-50',\n",
              " 'glove-wiki-gigaword-100',\n",
              " 'glove-wiki-gigaword-200',\n",
              " 'glove-wiki-gigaword-300',\n",
              " 'glove-twitter-25',\n",
              " 'glove-twitter-50',\n",
              " 'glove-twitter-100',\n",
              " 'glove-twitter-200',\n",
              " '__testing_word2vec-matrix-synopsis']"
            ]
          },
          "metadata": {},
          "execution_count": 48
        }
      ],
      "source": [
        "list(gensim.downloader.info()['models'].keys())"
      ]
    },
    {
      "cell_type": "code",
      "execution_count": 49,
      "metadata": {
        "pycharm": {
          "name": "#%%\n"
        },
        "colab": {
          "base_uri": "https://localhost:8080/"
        },
        "id": "RIMbOBxNzxKK",
        "outputId": "ea89ae7d-f519-464b-8ff0-b48dbab039ab"
      },
      "outputs": [
        {
          "output_type": "stream",
          "name": "stdout",
          "text": [
            "[==================================================] 100.0% 128.1/128.1MB downloaded\n"
          ]
        }
      ],
      "source": [
        "word_embeddings = gensim.downloader.load(\"glove-wiki-gigaword-100\")"
      ]
    },
    {
      "cell_type": "markdown",
      "metadata": {
        "pycharm": {
          "name": "#%% md\n"
        },
        "id": "AAjybZ-EzxKK"
      },
      "source": [
        "**Task 2.1 [1 point] - WordEmbeddings Geometry**\n",
        "\n",
        "As you probably know, vector space of word embeddings has non-trivial geometry: some word relations (like country-capital or single-plural) cab be represented by vectors, like: **(king - man) + woman = queen**\n",
        "\n",
        "<img src=\"https://linkme.ufanet.ru/images/5687a2011b49eb2413912f1c7d0fb0bd.png\" width=600px>\n",
        "\n",
        "Check this statement on words from the above picture with `word_embeddings.most_similar` function. Pay attention to `positive` and `negative` params.\n",
        "\n",
        "Provide **several** examples, make sure to present different relations: some for nouns, some for verbs, etc."
      ]
    },
    {
      "cell_type": "code",
      "execution_count": 55,
      "metadata": {
        "pycharm": {
          "name": "#%%\n"
        },
        "colab": {
          "base_uri": "https://localhost:8080/"
        },
        "id": "KaX7d22kzxKL",
        "outputId": "773610db-59ec-46e0-a2aa-9c46b3e4d7d8"
      },
      "outputs": [
        {
          "output_type": "stream",
          "name": "stdout",
          "text": [
            "queen == queen?\n",
            "sister == father?\n",
            "herself == herself?\n",
            "itself == itself?\n",
            "fastest == slowest?\n",
            "faster == slower?\n"
          ]
        }
      ],
      "source": [
        "print(word_embeddings.most_similar(positive=['king', 'woman'], negative=['man'], topn=1)[0][0], '== queen?')\n",
        "print(word_embeddings.most_similar(positive=['daughter', 'mother'], negative=['son'], topn=1)[0][0], '== father?')\n",
        "print(word_embeddings.most_similar(positive=['himself', 'she'], negative=['he'], topn=1)[0][0], '== herself?')\n",
        "print(word_embeddings.most_similar(positive=['herself', 'it'], negative=['she'], topn=1)[0][0], '== itself?')\n",
        "print(word_embeddings.most_similar(positive=['longest', 'slow'], negative=['long'], topn=1)[0][0], '== slowest?')\n",
        "print(word_embeddings.most_similar(positive=['longer', 'slow'], negative=['long'], topn=1)[0][0], '== slower?')"
      ]
    },
    {
      "cell_type": "markdown",
      "source": [
        "As we can see not every word is correctly embedded. There is no problems with \"he\", \"she\", but much more errors with adverbs."
      ],
      "metadata": {
        "id": "GrYVVE_AIsSw"
      }
    },
    {
      "cell_type": "markdown",
      "metadata": {
        "pycharm": {
          "name": "#%% md\n"
        },
        "id": "GjlZsb9qzxKL"
      },
      "source": [
        "**Task 2.2 [2 point] - POS analysis**\n",
        "\n",
        "Use POS tagger to calculate most common POS in the dataset. \n",
        "Here you may read about nltk-taggers: [link](https://www.inf.ed.ac.uk/teaching/courses/icl/nltk/tagging.pdf)\n",
        "\n",
        "- If you were to design POS-related weights, how would you do it? \n",
        "- What POS would get the higher weight? "
      ]
    },
    {
      "cell_type": "code",
      "execution_count": 56,
      "metadata": {
        "pycharm": {
          "name": "#%%\n"
        },
        "colab": {
          "base_uri": "https://localhost:8080/",
          "height": 88
        },
        "id": "hxa8l8CGzxKL",
        "outputId": "9707c3df-8223-4131-a46c-fffe4dd56af3"
      },
      "outputs": [
        {
          "output_type": "stream",
          "name": "stderr",
          "text": [
            "[nltk_data] Downloading package averaged_perceptron_tagger to\n",
            "[nltk_data]     /root/nltk_data...\n",
            "[nltk_data]   Unzipping taggers/averaged_perceptron_tagger.zip.\n"
          ]
        },
        {
          "output_type": "execute_result",
          "data": {
            "text/plain": [
              "'NN'"
            ],
            "application/vnd.google.colaboratory.intrinsic+json": {
              "type": "string"
            }
          },
          "metadata": {},
          "execution_count": 56
        }
      ],
      "source": [
        "nltk.download('averaged_perceptron_tagger')\n",
        "pos_cnt = Counter()\n",
        "for text in X:\n",
        "    tokens = nltk.word_tokenize(text.lower().replace('<br /><br />', ' '))\n",
        "    pos = nltk.pos_tag(tokens)\n",
        "    for part in pos:\n",
        "        pos_cnt[part[1]] += 1\n",
        "pos_cnt.most_common(1)[0][0]"
      ]
    },
    {
      "cell_type": "markdown",
      "source": [
        "As we can see the most frequent part of speech in dataset is noun.\n",
        "So, probably, we can just calculate the frequency of each part of speech and calculate weights related to it, like TF-IDF weights. "
      ],
      "metadata": {
        "id": "KZTDsaldJHx3"
      }
    },
    {
      "cell_type": "markdown",
      "metadata": {
        "pycharm": {
          "name": "#%% md\n"
        },
        "id": "bR61vmPczxKL"
      },
      "source": [
        "**Task 2.3 [4 points] - WordEmbeddings**\n",
        "\n",
        "Use dense vector representations to construct vector-representation of each review, then train a model (LR or RF).\n",
        "\n",
        "Compare results of the new model to results of the models above.\n",
        "\n",
        "**Important**\n",
        "- If you just sum embeddings of each token to get an embedding of the whole review, the cost of the task is **[2 points]**\n",
        "- For **[4 points]** you have to use either TF-IDF weight or weights that you designed from POS tags."
      ]
    }
  ],
  "metadata": {
    "kernelspec": {
      "display_name": "Python 3",
      "language": "python",
      "name": "python3"
    },
    "language_info": {
      "codemirror_mode": {
        "name": "ipython",
        "version": 3
      },
      "file_extension": ".py",
      "mimetype": "text/x-python",
      "name": "python",
      "nbconvert_exporter": "python",
      "pygments_lexer": "ipython3",
      "version": "3.8.10"
    },
    "colab": {
      "provenance": []
    }
  },
  "nbformat": 4,
  "nbformat_minor": 0
}